{
 "cells": [
  {
   "cell_type": "markdown",
   "metadata": {},
   "source": [
    "# Type"
   ]
  },
  {
   "cell_type": "markdown",
   "metadata": {},
   "source": [
    "## 1. Type define"
   ]
  },
  {
   "cell_type": "markdown",
   "metadata": {},
   "source": [
    "### 1.1. Const type"
   ]
  },
  {
   "cell_type": "code",
   "execution_count": null,
   "metadata": {},
   "outputs": [],
   "source": [
    "type Name = 'Alvin';\n",
    "{\n",
    "    let name: Name;\n",
    "    name = 'Alvin';  // ok\n",
    "//  name = 'Emma';   // error\n",
    "}\n",
    "\n",
    "type Gender = 'M' | 'F';\n",
    "{\n",
    "    let gender: Gender;\n",
    "    gender = 'F';  // ok\n",
    "    gender = 'M';  // ok\n",
    "//  gender = 'S';  // error\n",
    "}"
   ]
  },
  {
   "cell_type": "markdown",
   "metadata": {},
   "source": [
    "### 1.2. Array type"
   ]
  },
  {
   "cell_type": "code",
   "execution_count": null,
   "metadata": {},
   "outputs": [],
   "source": [
    "type NumberArray = Array<Number>;\n",
    "{\n",
    "    const numArray: NumberArray = [];\n",
    "    numArray.push(100);     // ok\n",
    "//  numArray.push('Hello'); // error\n",
    "}\n",
    "\n",
    "{\n",
    "    const genderArray: Gender[] = ['F'];  // ok\n",
    "    genderArray.push('M');  // ok\n",
    "//  genderArray.push('S');  // error\n",
    "}"
   ]
  },
  {
   "cell_type": "markdown",
   "metadata": {},
   "source": [
    "### 1.3. Tulpe type"
   ]
  },
  {
   "cell_type": "code",
   "execution_count": null,
   "metadata": {},
   "outputs": [],
   "source": [
    "type UserTulpe = [string, number];\n",
    "{\n",
    "    let user: UserTulpe = ['ALvin', 40];  // ok\n",
    "//  user = [40, 'Alvin'];  // error\n",
    "}"
   ]
  },
  {
   "cell_type": "markdown",
   "metadata": {},
   "source": [
    "### 1.4. Enum type"
   ]
  },
  {
   "cell_type": "code",
   "execution_count": null,
   "metadata": {},
   "outputs": [],
   "source": [
    "enum GenderEnum {M = 1, F};\n",
    "{\n",
    "    console.log(`* \"GenderEnum.M\" is ${GenderEnum.M} and \"GenderEnum.F\" is ${GenderEnum.F}`);\n",
    "    \n",
    "    let gender: GenderEnum;\n",
    "    gender = GenderEnum.F;\n",
    "    console.log(`* gender is ${gender}`);\n",
    "    \n",
    "//  gender = 'M';  // error\n",
    "}"
   ]
  },
  {
   "cell_type": "markdown",
   "metadata": {},
   "source": [
    "### 1.5. Function type"
   ]
  },
  {
   "cell_type": "code",
   "execution_count": null,
   "metadata": {},
   "outputs": [],
   "source": [
    "type UserFunc = (id: number, name: string) => string;\n",
    "{\n",
    "    function a(no: number, name: string) {\n",
    "        return `${no}: ${name}`;\n",
    "    }\n",
    "    \n",
    "    function b(name: string, id: number) {\n",
    "        console.log(`* ${id}: ${name}`);\n",
    "    }\n",
    "    \n",
    "    let func: UserFunc = a;\n",
    "    console.log(`* call function: ${func(1, 'Alvin')}`);\n",
    "    \n",
    "//  func = b;   // error\n",
    "//  console.log(`* call function: ${func(1, 'Alvin')}`);\n",
    "}"
   ]
  },
  {
   "cell_type": "markdown",
   "metadata": {},
   "source": [
    "### 1.6. Optional type"
   ]
  },
  {
   "cell_type": "code",
   "execution_count": null,
   "metadata": {},
   "outputs": [],
   "source": [
    "type IsTrue = string | boolean | null | undefined;\n",
    "{\n",
    "    let isTrue: IsTrue;\n",
    "    isTrue = 'true';\n",
    "    isTrue = true;\n",
    "    isTrue = null;\n",
    "    isTrue = undefined;\n",
    "//  isTrue = 0;  // error\n",
    "}"
   ]
  },
  {
   "cell_type": "markdown",
   "metadata": {},
   "source": [
    "### 1.7. Object type"
   ]
  },
  {
   "cell_type": "markdown",
   "metadata": {},
   "source": [
    "#### 1.7.1. Type define"
   ]
  },
  {
   "cell_type": "code",
   "execution_count": null,
   "metadata": {},
   "outputs": [],
   "source": [
    "type User = {\n",
    "    id: number;\n",
    "    name: string;\n",
    "    birthday: Date;\n",
    "}\n",
    "\n",
    "type Person = {\n",
    "    id: number;\n",
    "    name: string;\n",
    "    birthday: Date;\n",
    "    gender: 'M' | 'F';\n",
    "}\n",
    "\n",
    "{\n",
    "    let user: User = {\n",
    "        id: 100,\n",
    "        name: 'Alinv',\n",
    "        birthday: new Date('1981-03-17')\n",
    "    }\n",
    "    console.log(`* user object is: `)\n",
    "    console.log(user);\n",
    "    \n",
    "    let obj: any = {\n",
    "        id: 100,\n",
    "        name: 'Alinv',\n",
    "        birthday: new Date('1981-03-17')\n",
    "    }\n",
    "    user = obj;\n",
    "    console.log(`\\n* after \"user = obj\", user object is: `)\n",
    "    console.log(user);\n",
    "    \n",
    "    obj = {\n",
    "        id: 100,\n",
    "        name: 'Alinv',\n",
    "        birthday: new Date('1981-03-17'),\n",
    "        gender: 'M'\n",
    "    }\n",
    "    user = obj;\n",
    "    console.log(`\\n* after \"user = obj\", user object is: `)\n",
    "    console.log(user);\n",
    "    \n",
    "//  user = {\n",
    "//      id: 100,\n",
    "//      name: 'Alinv',\n",
    "//      birthday: new Date('1981-03-17'),\n",
    "//      gender: 'M'\n",
    "//  }   // error, no gender property\n",
    "    \n",
    "    let person: Person = {\n",
    "        id: 100,\n",
    "        name: 'Alinv',\n",
    "        birthday: new Date('1981-03-17'),\n",
    "        gender: 'M'\n",
    "    };\n",
    "    console.log(`\\n* person object is: `)\n",
    "    console.log(person);\n",
    "    \n",
    "    user = person;   // person object has enough properties as User type\n",
    "    console.log(`\\n* after 'user = person', user object is: `)\n",
    "    console.log(user);\n",
    "    \n",
    "//  person = user;  // user object cannot assign to Person type\n",
    "//  user.gender = 'F';  // user has no property 'gender'\n",
    "    \n",
    "    user['gender'] = 'M';  // can add undefined property to object\n",
    "    console.log(`\\n* after 'user['gender'] = 'M'', user object is: `)\n",
    "    console.log(user);\n",
    "    \n",
    "    delete user['id'];    // can remove necessary property\n",
    "    console.log(`\\n* after 'user['gender'] = 'M'', user object is: `)\n",
    "    console.log(user);    \n",
    "}"
   ]
  },
  {
   "cell_type": "markdown",
   "metadata": {},
   "source": [
    "#### 1.7.2 Optional properties"
   ]
  },
  {
   "cell_type": "code",
   "execution_count": null,
   "metadata": {},
   "outputs": [],
   "source": [
    "type Goods = {\n",
    "    id: number;\n",
    "    name: string;\n",
    "    category?: string\n",
    "}\n",
    "\n",
    "{\n",
    "    let goolds: Goods = {\n",
    "        id: 100,\n",
    "        name: 'ALvin'\n",
    "    }\n",
    "    console.log(`* something object is:`)\n",
    "    console.log(goolds);\n",
    "    \n",
    "    goolds = {\n",
    "        id: 100,\n",
    "        name: 'Alvin',\n",
    "        category: 'education'\n",
    "    }\n",
    "    console.log(`\\n* something object is:`)\n",
    "    console.log(goolds);\n",
    "}"
   ]
  },
  {
   "cell_type": "markdown",
   "metadata": {},
   "source": [
    "## 2. Type convert"
   ]
  },
  {
   "cell_type": "markdown",
   "metadata": {},
   "source": [
    "### 2.1. Convert "
   ]
  },
  {
   "cell_type": "code",
   "execution_count": null,
   "metadata": {},
   "outputs": [],
   "source": [
    "{\n",
    "    let user: User = {\n",
    "        id: 100,\n",
    "        name: 'Alinv',\n",
    "        birthday: new Date('1981-03-17')\n",
    "    };\n",
    "    \n",
    "    let person: Person;\n",
    "\n",
    "//  person = user;   // error, cannot assign User type object to Person type\n",
    "    \n",
    "    person = <Person>user;\n",
    "    console.log(`* after 'person = <Person>user', user object is: `)\n",
    "    console.log(person);\n",
    "    \n",
    "    person = user as Person;\n",
    "    console.log(`\\n* after 'person = user as Person', user object is: `)\n",
    "    console.log(person);\n",
    "}"
   ]
  }
 ],
 "metadata": {
  "kernelspec": {
   "display_name": "TypeScript",
   "language": "typescript",
   "name": "tslab"
  },
  "language_info": {
   "codemirror_mode": {
    "mode": "typescript",
    "name": "javascript",
    "typescript": true
   },
   "file_extension": ".ts",
   "mimetype": "text/typescript",
   "name": "typescript",
   "version": "3.7.2"
  }
 },
 "nbformat": 4,
 "nbformat_minor": 4
}

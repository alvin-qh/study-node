{
 "cells": [
  {
   "cell_type": "markdown",
   "metadata": {},
   "source": [
    "# Interface and Class"
   ]
  },
  {
   "cell_type": "markdown",
   "metadata": {},
   "source": [
    "## 1. Interface"
   ]
  },
  {
   "cell_type": "markdown",
   "metadata": {},
   "source": [
    "### 1.1. Define interface"
   ]
  },
  {
   "cell_type": "code",
   "execution_count": null,
   "metadata": {},
   "outputs": [],
   "source": [
    "type Gender = 'M' | 'F';\n",
    "\n",
    "interface Person {\n",
    "    readonly name: string;\n",
    "    readonly birthday: Date;\n",
    "    readonly gender: Gender;\n",
    "    \n",
    "    toString(): string;\n",
    "}\n",
    "\n",
    "interface Comparable<T> {\n",
    "    compare(other: T): number;\n",
    "}"
   ]
  },
  {
   "cell_type": "markdown",
   "metadata": {},
   "source": [
    "### 1.2. Define class"
   ]
  },
  {
   "cell_type": "code",
   "execution_count": null,
   "metadata": {},
   "outputs": [],
   "source": [
    "class Student implements Person, Comparable<Student> {\n",
    "    private _name: string;\n",
    "    private _birthday: Date;\n",
    "    private _gender: Gender;\n",
    "    \n",
    "    constructor(name: string, gender: Gender, birthday: Date) {\n",
    "        this._name = name;\n",
    "        this._gender = gender;\n",
    "        this._birthday = birthday;\n",
    "    }\n",
    "    \n",
    "    get name(): string {\n",
    "        return this._name;\n",
    "    }\n",
    "    \n",
    "    get gender(): Gender {\n",
    "        return this._gender;\n",
    "    }\n",
    "    \n",
    "    get birthday(): Date {\n",
    "        return this._birthday;\n",
    "    }\n",
    "    \n",
    "    toString(): string {\n",
    "        const birthday = `${this._birthday.getFullYear()}-${this._birthday.getMonth() + 1}-${this._birthday.getDate()}`;\n",
    "        return `${this._name}: ${this._gender}, burn on ${birthday}`;\n",
    "    }\n",
    "    \n",
    "    compare(other: Student): number {\n",
    "        const r = other._birthday.getTime() - this._birthday.getTime();\n",
    "        return r == 0 ? r : (r > 0 ? 1 : -1);\n",
    "    }\n",
    "}\n",
    "\n",
    "{\n",
    "    const s1 = new Student('Alvin', 'M', new Date('3/17/1981'));\n",
    "    console.log(`* student1 is: ${s1}`);\n",
    "    \n",
    "    const s2 = new Student('Emma', 'F', new Date('3/29/1985'));\n",
    "    console.log(`* student2 is: ${s2}`);\n",
    "    \n",
    "    const r = s1.compare(s2);\n",
    "    console.log(`* student1 compare student2 is: ${r}`);\n",
    "}"
   ]
  }
 ],
 "metadata": {
  "kernelspec": {
   "display_name": "TypeScript",
   "language": "typescript",
   "name": "tslab"
  },
  "language_info": {
   "codemirror_mode": {
    "mode": "typescript",
    "name": "javascript",
    "typescript": true
   },
   "file_extension": ".ts",
   "mimetype": "text/typescript",
   "name": "typescript",
   "version": "3.7.2"
  }
 },
 "nbformat": 4,
 "nbformat_minor": 4
}

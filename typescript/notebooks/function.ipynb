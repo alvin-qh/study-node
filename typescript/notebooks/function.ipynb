{
 "cells": [
  {
   "cell_type": "markdown",
   "metadata": {},
   "source": [
    "# Function"
   ]
  },
  {
   "cell_type": "markdown",
   "metadata": {},
   "source": [
    "## 1. Function type"
   ]
  },
  {
   "cell_type": "code",
   "execution_count": null,
   "metadata": {},
   "outputs": [],
   "source": [
    "function f1(a: number, b: string): string {\n",
    "    return `${a}: ${b}`;\n",
    "}\n",
    "\n",
    "const f2: (a: number, b: string) => string = (a: number, b: string): string => {\n",
    "    return `${a}: ${b}`;\n",
    "}\n",
    "\n",
    "{\n",
    "    let r = f1(1, 'Alvin');\n",
    "    console.log(`* result is: ${r}`);\n",
    "    \n",
    "    r = f2(2, 'Emma');\n",
    "    console.log(`* result is: ${r}`);\n",
    "}"
   ]
  },
  {
   "cell_type": "markdown",
   "metadata": {},
   "source": [
    "## 2. Arguments"
   ]
  },
  {
   "cell_type": "markdown",
   "metadata": {},
   "source": [
    "### 2.1. Optinal arguments"
   ]
  },
  {
   "cell_type": "code",
   "execution_count": null,
   "metadata": {},
   "outputs": [],
   "source": [
    "function f3(a: number, b?: string): string {\n",
    "    if (b) {\n",
    "        return `${a}: ${b}`;\n",
    "    } else {\n",
    "        return `${a}`;\n",
    "    }\n",
    "}\n",
    "\n",
    "{\n",
    "    let r = f3(100);\n",
    "    console.log(`* result is: ${r}`);\n",
    "    \n",
    "    r = f3(100, 'Alvin');\n",
    "    console.log(`* result is: ${r}`);\n",
    "}"
   ]
  },
  {
   "cell_type": "markdown",
   "metadata": {},
   "source": [
    "### 2.2. Default argument"
   ]
  },
  {
   "cell_type": "code",
   "execution_count": null,
   "metadata": {},
   "outputs": [],
   "source": [
    "function f4(a: number, b='Alvin'): string {\n",
    "    if (b) {\n",
    "        return `${a}: ${b}`;\n",
    "    } else {\n",
    "        return `${a}`;\n",
    "    }\n",
    "}\n",
    "\n",
    "{\n",
    "    let r = f4(100);\n",
    "    console.log(`* result is: ${r}`);\n",
    "    \n",
    "    r = f4(100, 'Emma');\n",
    "    console.log(`* result is: ${r}`);\n",
    "}"
   ]
  },
  {
   "cell_type": "markdown",
   "metadata": {},
   "source": [
    "### 2.3. Rest argument"
   ]
  },
  {
   "cell_type": "code",
   "execution_count": null,
   "metadata": {},
   "outputs": [],
   "source": [
    "function f5(a: number, ...b: string[]): string {\n",
    "    if (b.length > 0) {\n",
    "        return `${a}: ${b.join(', ')}`;\n",
    "    } else {\n",
    "        return `${a}`;\n",
    "    }\n",
    "}\n",
    "\n",
    "{\n",
    "    let r = f5(100);\n",
    "    console.log(`* result is: ${r}`);\n",
    "    \n",
    "    r = f5(100, 'Emma');\n",
    "    console.log(`* result is: ${r}`);\n",
    "    \n",
    "    r = f5(100, 'Alvin', 'Emma');\n",
    "    console.log(`* result is: ${r}`);\n",
    "}"
   ]
  },
  {
   "cell_type": "markdown",
   "metadata": {},
   "source": [
    "### 2.4. This argument"
   ]
  },
  {
   "cell_type": "code",
   "execution_count": null,
   "metadata": {},
   "outputs": [],
   "source": [
    "type F6Type = {a: number, fn: (this: F6Type, b: string) => string};\n",
    "\n",
    "function f6(this: F6Type, b: string): string {\n",
    "    if (b.length > 0) {\n",
    "        return `${this.a}: ${b}`;\n",
    "    } else {\n",
    "        return `${this.a}`;\n",
    "    }\n",
    "}\n",
    "\n",
    "{\n",
    "    const f6Obj: F6Type = {a: 100, fn: f6};\n",
    "    \n",
    "    let r = f6Obj.fn('Alvin');\n",
    "    console.log(`* result is: ${r}`);\n",
    "}"
   ]
  }
 ],
 "metadata": {
  "kernelspec": {
   "display_name": "TypeScript",
   "language": "typescript",
   "name": "tslab"
  },
  "language_info": {
   "codemirror_mode": {
    "mode": "typescript",
    "name": "javascript",
    "typescript": true
   },
   "file_extension": ".ts",
   "mimetype": "text/typescript",
   "name": "typescript",
   "version": "3.7.2"
  }
 },
 "nbformat": 4,
 "nbformat_minor": 4
}

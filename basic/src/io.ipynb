{
 "cells": [
  {
   "cell_type": "markdown",
   "metadata": {},
   "source": [
    "# IO"
   ]
  },
  {
   "cell_type": "markdown",
   "metadata": {},
   "source": [
    "## 1. Paths"
   ]
  },
  {
   "cell_type": "code",
   "execution_count": null,
   "metadata": {},
   "outputs": [],
   "source": [
    "const path = require('path');"
   ]
  },
  {
   "cell_type": "markdown",
   "metadata": {},
   "source": [
    "### 1.1. Normalize"
   ]
  },
  {
   "cell_type": "code",
   "execution_count": null,
   "metadata": {},
   "outputs": [],
   "source": [
    "{\n",
    "    const dir = 'a/b/c/../d';\n",
    "    \n",
    "    const normalizedDir = path.normalize(dir);\n",
    "    console.log(`* when path is \"${dir}\", then path.normalize(dir) is: \"${normalizedDir}\"`);\n",
    "}"
   ]
  },
  {
   "cell_type": "markdown",
   "metadata": {},
   "source": [
    "### 1.2. Join"
   ]
  },
  {
   "cell_type": "code",
   "execution_count": null,
   "metadata": {},
   "outputs": [],
   "source": [
    "{\n",
    "    const dir1 = 'a/b/c';\n",
    "    const dir2 = '../x/y';\n",
    "    const fn = 'foo.txt';\n",
    "    \n",
    "    const joinedPath = path.join(dir1, dir2, fn);\n",
    "    console.log(`* when \"dir1=${dir1}\", \"dir2=${dir2}\", \"fn=${fn}\" then \"path.join(dir1, dir2, fn)\" is: \"${joinedPath}\"`);\n",
    "}"
   ]
  },
  {
   "cell_type": "markdown",
   "metadata": {},
   "source": [
    "### 1.3. Absolute path"
   ]
  },
  {
   "cell_type": "code",
   "execution_count": null,
   "metadata": {},
   "outputs": [],
   "source": [
    "{\n",
    "    const dir = '../a/b/c';\n",
    "    \n",
    "    const absPath = path.resolve(dir);\n",
    "    console.log(`* when path is \"${dir}\", then path.resolve(dir) is: \"${absPath}\"`);\n",
    "}"
   ]
  },
  {
   "cell_type": "markdown",
   "metadata": {},
   "source": [
    "### 1.4. Relative path"
   ]
  },
  {
   "cell_type": "code",
   "execution_count": null,
   "metadata": {},
   "outputs": [],
   "source": [
    "{\n",
    "    const dir1 = 'a/b/c/d/';\n",
    "    const dir2 = 'a/b/d/';\n",
    "    \n",
    "    const re = path.relative(dir1, dir2);\n",
    "    console.log(`* relative path of \"${dir1}\" and \"${dir2}\" is: \"${re}\"`);\n",
    "}"
   ]
  },
  {
   "cell_type": "markdown",
   "metadata": {},
   "source": [
    "### 1.5. Name of directory"
   ]
  },
  {
   "cell_type": "code",
   "execution_count": null,
   "metadata": {},
   "outputs": [],
   "source": [
    "{\n",
    "    const fullpath = 'a/b/c/d.txt';\n",
    "    \n",
    "    const dirname = path.dirname(fullpath);\n",
    "    console.log(`* dirname of \"${fullpath}\" is: \"${dirname}\"`);\n",
    "}"
   ]
  },
  {
   "cell_type": "markdown",
   "metadata": {},
   "source": [
    "### 1.6. File name of path"
   ]
  },
  {
   "cell_type": "code",
   "execution_count": null,
   "metadata": {},
   "outputs": [],
   "source": [
    "{\n",
    "    const fullpath = 'a/b/c/d.txt';\n",
    "    \n",
    "    const basename = path.basename(fullpath);\n",
    "    console.log(`* basename of \"${fullpath}\" is: \"${basename}\"`);\n",
    "}"
   ]
  },
  {
   "cell_type": "markdown",
   "metadata": {},
   "source": [
    "### 1.7. File extenstion name"
   ]
  },
  {
   "cell_type": "code",
   "execution_count": null,
   "metadata": {},
   "outputs": [],
   "source": [
    "{\n",
    "    const fullpath = 'a/b/c/d.txt';\n",
    "    \n",
    "    const extname = path.extname(fullpath);\n",
    "    console.log(`* extname of \"${fullpath}\" is: \"${extname}\"`);\n",
    "}"
   ]
  },
  {
   "cell_type": "markdown",
   "metadata": {},
   "source": [
    "## 2. File operator"
   ]
  },
  {
   "cell_type": "code",
   "execution_count": null,
   "metadata": {},
   "outputs": [],
   "source": [
    "const fs = require('fs');"
   ]
  },
  {
   "cell_type": "code",
   "execution_count": null,
   "metadata": {},
   "outputs": [],
   "source": [
    "async function rm(filename) {\n",
    "    return new Promise((resolve, reject) => {\n",
    "        fs.unlink(filename, err => {\n",
    "            if (err) {\n",
    "                reject(err);\n",
    "            } else {\n",
    "                resolve();\n",
    "            }\n",
    "        });\n",
    "    });\n",
    "}"
   ]
  },
  {
   "cell_type": "code",
   "execution_count": null,
   "metadata": {},
   "outputs": [],
   "source": [
    "async function exist(filename) {\n",
    "    return new Promise(resolve => {\n",
    "        fs.exists(filename, exist => resolve(exist));\n",
    "    });\n",
    "}"
   ]
  },
  {
   "cell_type": "markdown",
   "metadata": {},
   "source": [
    "### 2.1. Create empty file"
   ]
  },
  {
   "cell_type": "code",
   "execution_count": null,
   "metadata": {},
   "outputs": [],
   "source": [
    "{\n",
    "    async function touch(filename) {\n",
    "        return new Promise((resolve, reject) => {\n",
    "            fs.open(filename, 'w', (err, fd) => {\n",
    "                if (err) {\n",
    "                    reject(err);\n",
    "                } else {\n",
    "                    fs.close(fd, err => {\n",
    "                        if (err) {\n",
    "                            reject(err);\n",
    "                        } else {\n",
    "                            resolve();\n",
    "                        }\n",
    "                    });\n",
    "                }\n",
    "            });\n",
    "        });\n",
    "    }\n",
    "    \n",
    "    try {\n",
    "        await touch('test.txt');\n",
    "        \n",
    "        const ok = await exist('test.txt');\n",
    "        console.log(`* after file created, \"test.txt\" exist? ${ok}`)\n",
    "    } finally{\n",
    "        await rm('test.txt');\n",
    "    }\n",
    "}"
   ]
  }
 ],
 "metadata": {
  "kernelspec": {
   "display_name": "JavaScript",
   "language": "javascript",
   "name": "jslab"
  },
  "language_info": {
   "file_extension": ".js",
   "mimetype": "text/javascript",
   "name": "javascript",
   "version": ""
  }
 },
 "nbformat": 4,
 "nbformat_minor": 4
}

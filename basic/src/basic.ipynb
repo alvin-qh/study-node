{
 "cells": [
  {
   "cell_type": "markdown",
   "metadata": {},
   "source": [
    "# Basic"
   ]
  },
  {
   "cell_type": "markdown",
   "metadata": {},
   "source": [
    "## 1. Type convertion"
   ]
  },
  {
   "cell_type": "markdown",
   "metadata": {},
   "source": [
    "### 1.1. Everything to boolean"
   ]
  },
  {
   "cell_type": "code",
   "execution_count": null,
   "metadata": {},
   "outputs": [],
   "source": [
    "{\n",
    "    let b = Boolean('Hello');\n",
    "    console.log(`* Boolean('Hello') is ${b}`);\n",
    "\n",
    "    b = Boolean('');\n",
    "    console.log(`* Boolean('') is ${b}`);\n",
    "\n",
    "    b = Boolean(1);\n",
    "    console.log(`* Boolean(1) is ${b}`);\n",
    "\n",
    "    b = Boolean(0);\n",
    "    console.log(`* Boolean(0) is ${b}`);\n",
    "\n",
    "    b = Boolean([]);\n",
    "    console.log(`* Boolean([]) is ${b}`);\n",
    "\n",
    "    b = Boolean({});\n",
    "    console.log(`* Boolean({}) is ${b}`);\n",
    "\n",
    "    b = Boolean(null);\n",
    "    console.log(`* Boolean(null) is ${b}`);\n",
    "\n",
    "    b = Boolean(NaN);\n",
    "    console.log(`* Boolean(NaN) is ${b}`);\n",
    "\n",
    "    b = Boolean(undefined);\n",
    "    console.log(`* Boolean(undefined) is ${b}`);\n",
    "}"
   ]
  },
  {
   "cell_type": "markdown",
   "metadata": {},
   "source": [
    "## 2. JSON operator"
   ]
  },
  {
   "cell_type": "code",
   "execution_count": null,
   "metadata": {},
   "outputs": [],
   "source": [
    "const JSON_STR = '{\"a\":100,\"b\":\"Hello\",\"c\":false,\"d\":{\"type\":\"array\",\"value\":[1,2,3]}}';\n",
    "\n",
    "const JSON_OBJ = {\n",
    "    a: 100,\n",
    "    b: \"Hello\",\n",
    "    c: false,\n",
    "    d: {\n",
    "        type: \"array\",\n",
    "        value: [1, 2, 3]\n",
    "    }\n",
    "};"
   ]
  },
  {
   "cell_type": "markdown",
   "metadata": {},
   "source": [
    "### 2.1. JSON string to object"
   ]
  },
  {
   "cell_type": "code",
   "execution_count": null,
   "metadata": {},
   "outputs": [],
   "source": [
    "{\n",
    "    let obj = JSON.parse('{}');\n",
    "    console.log(`JSON.parse('{}') is ${obj}`);\n",
    "\n",
    "    obj = JSON.parse('true');\n",
    "    console.log(`JSON.parse('true') is ${obj}`);\n",
    "\n",
    "    obj = JSON.parse('\"foo\"');\n",
    "    console.log(`JSON.parse('\"foo\"') is ${obj}`);\n",
    "\n",
    "    obj = JSON.parse('[1, 5, \"false\"]');\n",
    "    console.log(`JSON.parse('[1, 5, \"false\"]') is ${obj}`);\n",
    "\n",
    "    obj = JSON.parse('null');\n",
    "    console.log(`JSON.parse('null') is ${obj}`);\n",
    "\n",
    "    obj = JSON.parse(JSON_STR);\n",
    "    console.log(`JSON.parse(JSON_STR) is ${obj}`);\n",
    "}"
   ]
  },
  {
   "cell_type": "markdown",
   "metadata": {},
   "source": [
    "### 2.2. Object to JSON string"
   ]
  },
  {
   "cell_type": "code",
   "execution_count": null,
   "metadata": {},
   "outputs": [],
   "source": [
    "{\n",
    "    let str = JSON.stringify({});\n",
    "    console.log(`JSON.stringify({}) is ${str}`);\n",
    "\n",
    "    str = JSON.stringify(true);\n",
    "    console.log(`JSON.stringify(true) is ${str}`);\n",
    "\n",
    "    str = JSON.stringify('foo');\n",
    "    console.log(`JSON.stringify('foo') is ${str}`);\n",
    "\n",
    "    str = JSON.stringify([1, 5, 'false']);\n",
    "    console.log(`JSON.stringify([1, 5, 'false']) is ${str}`);\n",
    "\n",
    "    str = JSON.stringify(null);\n",
    "    console.log(`JSON.stringify(null) is ${str}`);\n",
    "\n",
    "    str = JSON.stringify(JSON_OBJ);\n",
    "    console.log(`JSON.stringify(JSON_OBJ) is ${str}`);\n",
    "}"
   ]
  },
  {
   "cell_type": "markdown",
   "metadata": {},
   "source": [
    "## 3. OOP"
   ]
  },
  {
   "cell_type": "markdown",
   "metadata": {},
   "source": [
    "### 3.1. Class"
   ]
  },
  {
   "cell_type": "code",
   "execution_count": null,
   "metadata": {},
   "outputs": [],
   "source": [
    "{\n",
    "    class Person {\n",
    "        constructor(name, age, gender) {\n",
    "            this.name = name;\n",
    "            this.age = age;\n",
    "            this.gender = gender;\n",
    "        }\n",
    "\n",
    "        get information() {\n",
    "            return `name: ${this.name}, age: ${this.age} and gender: ${this._getChineseGender()}`;\n",
    "        }\n",
    "\n",
    "        _getChineseGender() {\n",
    "            return this.gender === 'F' ? '女' : '男';\n",
    "        }\n",
    "\n",
    "        get chineseCender() {\n",
    "            return this._getChineseGender();\n",
    "        }\n",
    "    }\n",
    "    \n",
    "    const person = new Person('Alvin', 40, 'M');\n",
    "\n",
    "    console.log(`* person is: ${person.information}`);\n",
    "    console.log(`* person gender: ${person.gender}`);\n",
    "    console.log(`* person gender in Chinese: ${person.chineseCender}`);\n",
    "}"
   ]
  },
  {
   "cell_type": "markdown",
   "metadata": {},
   "source": [
    "### 3.2. Extend class"
   ]
  },
  {
   "cell_type": "code",
   "execution_count": null,
   "metadata": {},
   "outputs": [],
   "source": [
    "{\n",
    "    class Worker extends Person {\n",
    "        constructor(name, age, gender, work) {\n",
    "            super(name, age, gender);\n",
    "            this.work = work;\n",
    "        }\n",
    "\n",
    "        toString() {\n",
    "            return this.information + ' and working with: ' + this.work;\n",
    "        }\n",
    "\n",
    "        get myWork() {\n",
    "            return this.work;\n",
    "        }\n",
    "\n",
    "        set myWork(val) {\n",
    "            this.work = val;\n",
    "        }\n",
    "\n",
    "        static copy(other) {\n",
    "            return new Worker(other.name, other.age, other.gender, other.work);\n",
    "        }\n",
    "    }\n",
    "    \n",
    "    const worker = new Worker('Alvin', 40, 'M', 'DEV');\n",
    "    console.log(`* woker is: ${worker}`);\n",
    "    console.log(`* worker's work is: ${worker.myWork}`);\n",
    "\n",
    "    const otherWorker = Worker.copy(worker);\n",
    "    otherWorker.myWork = 'QA';\n",
    "    console.log(`* worker's work is: ${otherWorker.myWork}`);\n",
    "}"
   ]
  },
  {
   "cell_type": "markdown",
   "metadata": {},
   "source": [
    "### 3.3. Object define"
   ]
  },
  {
   "cell_type": "code",
   "execution_count": null,
   "metadata": {},
   "outputs": [],
   "source": [
    "{\n",
    "    let obj = {a: 100, b: 200};\n",
    "    console.log(`* object {a: 100, b: 200} is: ${JSON.stringify(obj)}`);\n",
    "\n",
    "    obj = {...obj, c: 300};\n",
    "    console.log(`* object {...obj, c: 300} is: ${JSON.stringify(obj)}`);\n",
    "    \n",
    "    let {a, b} = obj;\n",
    "    console.log(`* variable a=${a} and b=${b}`);\n",
    "    \n",
    "    let {b} = obj;\n",
    "    console.log(`* variable b=${b}`);\n",
    "}"
   ]
  },
  {
   "cell_type": "markdown",
   "metadata": {},
   "source": [
    "## 4. String "
   ]
  },
  {
   "cell_type": "markdown",
   "metadata": {},
   "source": [
    "### 4.1. String template"
   ]
  },
  {
   "cell_type": "code",
   "execution_count": null,
   "metadata": {},
   "outputs": [],
   "source": [
    "{\n",
    "    const a = 100;\n",
    "    const b = 'OK';\n",
    "\n",
    "    const str = `template a=${a} and b=${b}`;\n",
    "    console.log('* string is: ' + str)\n",
    "\n",
    "    function tag(strs, ...vals) {\n",
    "        return {\n",
    "            strs, vals\n",
    "        }\n",
    "    }\n",
    "\n",
    "    const result = tag `template a=${a} and b=${b}`;\n",
    "    console.log(`* template strings are: ${result.strs}`);\n",
    "    console.log(`* template arguments are: ${result.vals}`)\n",
    "}"
   ]
  },
  {
   "cell_type": "markdown",
   "metadata": {},
   "source": [
    "## 5. Symbol "
   ]
  },
  {
   "cell_type": "code",
   "execution_count": null,
   "metadata": {},
   "outputs": [],
   "source": [
    "const anonymousSymbol = Symbol();\n",
    "const namedSymbol = Symbol.for('symbol_one');"
   ]
  },
  {
   "cell_type": "markdown",
   "metadata": {},
   "source": [
    "### 5.1. Symbol as key"
   ]
  },
  {
   "cell_type": "code",
   "execution_count": null,
   "metadata": {},
   "outputs": [],
   "source": [
    "{\n",
    "    const obj = {\n",
    "        [anonymousSymbol]: 100\n",
    "    }\n",
    "    obj[namedSymbol] = 200;\n",
    "    \n",
    "    console.log(`* value by key anonymousSymbol is: ${obj[anonymousSymbol]}`);\n",
    "    console.log(`* value by key namedSymbol is: ${obj[namedSymbol]}`);\n",
    "}"
   ]
  },
  {
   "cell_type": "markdown",
   "metadata": {},
   "source": [
    "### 5.2. Symbol in Class"
   ]
  },
  {
   "cell_type": "markdown",
   "metadata": {},
   "source": [
    "- Define class"
   ]
  },
  {
   "cell_type": "code",
   "execution_count": null,
   "metadata": {},
   "outputs": [],
   "source": [
    "class SymbolInClass {\n",
    "    [anonymousSymbol]() {\n",
    "        return 'get anonymousSymbol';\n",
    "    }\n",
    "    \n",
    "    [namedSymbol] = 100;\n",
    "}"
   ]
  },
  {
   "cell_type": "markdown",
   "metadata": {},
   "source": [
    "- Test"
   ]
  },
  {
   "cell_type": "code",
   "execution_count": null,
   "metadata": {},
   "outputs": [],
   "source": [
    "{\n",
    "    const sc = new SymbolInClass();\n",
    "    \n",
    "    console.log(`* function by anonymousSymbol is: ${sc[anonymousSymbol]()}`);\n",
    "    console.log(`* property by namedSymbol is: ${sc[namedSymbol]}`);\n",
    "}"
   ]
  },
  {
   "cell_type": "markdown",
   "metadata": {},
   "source": [
    "### 5.3. Get symbol by name"
   ]
  },
  {
   "cell_type": "code",
   "execution_count": null,
   "metadata": {},
   "outputs": [],
   "source": [
    "{\n",
    "    const sc = new SymbolInClass();\n",
    "    \n",
    "    console.log(`* property by namedSymbol is: ${sc[Symbol.for('symbol_one')]}`);\n",
    "}"
   ]
  }
 ],
 "metadata": {
  "kernelspec": {
   "display_name": "JavaScript",
   "language": "javascript",
   "name": "jslab"
  },
  "language_info": {
   "file_extension": ".js",
   "mimetype": "text/javascript",
   "name": "javascript",
   "version": ""
  }
 },
 "nbformat": 4,
 "nbformat_minor": 4
}

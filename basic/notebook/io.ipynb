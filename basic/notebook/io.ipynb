{
 "cells": [
  {
   "cell_type": "markdown",
   "metadata": {},
   "source": [
    "# IO"
   ]
  },
  {
   "cell_type": "markdown",
   "metadata": {},
   "source": [
    "## 1. Paths"
   ]
  },
  {
   "cell_type": "code",
   "execution_count": 1,
   "metadata": {},
   "outputs": [],
   "source": [
    "const path = require('path');"
   ]
  },
  {
   "cell_type": "markdown",
   "metadata": {},
   "source": [
    "### 1.1. Normalize"
   ]
  },
  {
   "cell_type": "code",
   "execution_count": 30,
   "metadata": {},
   "outputs": [
    {
     "name": "stdout",
     "output_type": "stream",
     "text": [
      "* when path is \"a/b/c/../d\", then path.normalize(dir) is: \"a/b/d\"\n"
     ]
    }
   ],
   "source": [
    "{\n",
    "    const dir = 'a/b/c/../d';\n",
    "    \n",
    "    const normalizedDir = path.normalize(dir);\n",
    "    console.log(`* when path is \"${dir}\", then path.normalize(dir) is: \"${normalizedDir}\"`);\n",
    "}"
   ]
  },
  {
   "cell_type": "markdown",
   "metadata": {},
   "source": [
    "### 1.2. Join"
   ]
  },
  {
   "cell_type": "code",
   "execution_count": 31,
   "metadata": {},
   "outputs": [
    {
     "name": "stdout",
     "output_type": "stream",
     "text": [
      "* when \"dir1=a/b/c\", \"dir2=../x/y\", \"fn=foo.txt\" then \"path.join(dir1, dir2, fn)\" is: \"a/b/x/y/foo.txt\"\n"
     ]
    }
   ],
   "source": [
    "{\n",
    "    const dir1 = 'a/b/c';\n",
    "    const dir2 = '../x/y';\n",
    "    const fn = 'foo.txt';\n",
    "    \n",
    "    const joinedPath = path.join(dir1, dir2, fn);\n",
    "    console.log(`* when \"dir1=${dir1}\", \"dir2=${dir2}\", \"fn=${fn}\" then \"path.join(dir1, dir2, fn)\" is: \"${joinedPath}\"`);\n",
    "}"
   ]
  },
  {
   "cell_type": "markdown",
   "metadata": {},
   "source": [
    "### 1.3. Absolute path"
   ]
  },
  {
   "cell_type": "code",
   "execution_count": 32,
   "metadata": {},
   "outputs": [
    {
     "name": "stdout",
     "output_type": "stream",
     "text": [
      "* when path is \"../a/b/c\", then path.resolve(dir) is: \"/Users/alvin/Workspace/Study/study-node/basic/a/b/c\"\n"
     ]
    }
   ],
   "source": [
    "{\n",
    "    const dir = '../a/b/c';\n",
    "    \n",
    "    const absPath = path.resolve(dir);\n",
    "    console.log(`* when path is \"${dir}\", then path.resolve(dir) is: \"${absPath}\"`);\n",
    "}"
   ]
  },
  {
   "cell_type": "markdown",
   "metadata": {},
   "source": [
    "### 1.4. Relative path"
   ]
  },
  {
   "cell_type": "code",
   "execution_count": 33,
   "metadata": {},
   "outputs": [
    {
     "name": "stdout",
     "output_type": "stream",
     "text": [
      "* relative path of \"a/b/c/d/\" and \"a/b/d/\" is: \"../../d\"\n"
     ]
    }
   ],
   "source": [
    "{\n",
    "    const dir1 = 'a/b/c/d/';\n",
    "    const dir2 = 'a/b/d/';\n",
    "    \n",
    "    const re = path.relative(dir1, dir2);\n",
    "    console.log(`* relative path of \"${dir1}\" and \"${dir2}\" is: \"${re}\"`);\n",
    "}"
   ]
  },
  {
   "cell_type": "markdown",
   "metadata": {},
   "source": [
    "### 1.5. Name of directory"
   ]
  },
  {
   "cell_type": "code",
   "execution_count": 34,
   "metadata": {},
   "outputs": [
    {
     "name": "stdout",
     "output_type": "stream",
     "text": [
      "* dirname of \"a/b/c/d.txt\" is: \"a/b/c\"\n"
     ]
    }
   ],
   "source": [
    "{\n",
    "    const fullpath = 'a/b/c/d.txt';\n",
    "    \n",
    "    const dirname = path.dirname(fullpath);\n",
    "    console.log(`* dirname of \"${fullpath}\" is: \"${dirname}\"`);\n",
    "}"
   ]
  },
  {
   "cell_type": "markdown",
   "metadata": {},
   "source": [
    "### 1.6. File name of path"
   ]
  },
  {
   "cell_type": "code",
   "execution_count": 35,
   "metadata": {},
   "outputs": [
    {
     "name": "stdout",
     "output_type": "stream",
     "text": [
      "* basename of \"a/b/c/d.txt\" is: \"d.txt\"\n"
     ]
    }
   ],
   "source": [
    "{\n",
    "    const fullpath = 'a/b/c/d.txt';\n",
    "    \n",
    "    const basename = path.basename(fullpath);\n",
    "    console.log(`* basename of \"${fullpath}\" is: \"${basename}\"`);\n",
    "}"
   ]
  },
  {
   "cell_type": "markdown",
   "metadata": {},
   "source": [
    "### 1.7. File extenstion name"
   ]
  },
  {
   "cell_type": "code",
   "execution_count": 36,
   "metadata": {},
   "outputs": [
    {
     "name": "stdout",
     "output_type": "stream",
     "text": [
      "* extname of \"a/b/c/d.txt\" is: \".txt\"\n"
     ]
    }
   ],
   "source": [
    "{\n",
    "    const fullpath = 'a/b/c/d.txt';\n",
    "    \n",
    "    const extname = path.extname(fullpath);\n",
    "    console.log(`* extname of \"${fullpath}\" is: \"${extname}\"`);\n",
    "}"
   ]
  },
  {
   "cell_type": "markdown",
   "metadata": {},
   "source": [
    "## 2. File operator"
   ]
  },
  {
   "cell_type": "code",
   "execution_count": 37,
   "metadata": {},
   "outputs": [],
   "source": [
    "const fs = require('fs');"
   ]
  },
  {
   "cell_type": "markdown",
   "metadata": {},
   "source": [
    "### 2.1. Remove file"
   ]
  },
  {
   "cell_type": "markdown",
   "metadata": {},
   "source": [
    "- Function"
   ]
  },
  {
   "cell_type": "code",
   "execution_count": 38,
   "metadata": {},
   "outputs": [],
   "source": [
    "async function rm(filename) {\n",
    "    return await fs.promises.unlink(filename);\n",
    "}"
   ]
  },
  {
   "cell_type": "markdown",
   "metadata": {},
   "source": [
    "### 2.2. Is file exist"
   ]
  },
  {
   "cell_type": "markdown",
   "metadata": {},
   "source": [
    "- Function"
   ]
  },
  {
   "cell_type": "code",
   "execution_count": 39,
   "metadata": {},
   "outputs": [],
   "source": [
    "async function exist(filename) {\n",
    "    try {\n",
    "        await fs.promises.access(filename);\n",
    "        return true;\n",
    "    } catch (err) {\n",
    "        return false;\n",
    "    }\n",
    "}"
   ]
  },
  {
   "cell_type": "markdown",
   "metadata": {},
   "source": [
    "- Test"
   ]
  },
  {
   "cell_type": "code",
   "execution_count": 40,
   "metadata": {},
   "outputs": [
    {
     "name": "stdout",
     "output_type": "stream",
     "text": [
      "* \"io.ipynb\" file exists? true\n",
      "* \"/Users/alvin/Workspace/Study/study-node/basic/src\" directory exists? false\n"
     ]
    }
   ],
   "source": [
    "{\n",
    "    let dir = 'io.ipynb';\n",
    "    let ok = await exist('io.ipynb');\n",
    "    console.log(`* \"${dir}\" file exists? ${ok}`);\n",
    "    \n",
    "    dir = path.resolve('../src');\n",
    "    ok = await exist(dir);\n",
    "    console.log(`* \"${dir}\" directory exists? ${ok}`);\n",
    "}"
   ]
  },
  {
   "cell_type": "markdown",
   "metadata": {},
   "source": [
    "### 2.3. Create empty file"
   ]
  },
  {
   "cell_type": "markdown",
   "metadata": {},
   "source": [
    "- Function"
   ]
  },
  {
   "cell_type": "code",
   "execution_count": 41,
   "metadata": {},
   "outputs": [],
   "source": [
    "function touch(filename) {\n",
    "    return new Promise((resolve, reject) => {\n",
    "        fs.promises.open(filename, 'w')\n",
    "            .then(h => fs.close(h.fd, () => resolve()))\n",
    "            .catch(err => reject(err));\n",
    "    });\n",
    "}"
   ]
  },
  {
   "cell_type": "markdown",
   "metadata": {},
   "source": [
    "- Test"
   ]
  },
  {
   "cell_type": "code",
   "execution_count": 42,
   "metadata": {},
   "outputs": [
    {
     "name": "stdout",
     "output_type": "stream",
     "text": [
      "* after file created, \"test.txt\" exist? true\n"
     ]
    }
   ],
   "source": [
    "{\n",
    "    try {\n",
    "        await touch('test.txt');\n",
    "        const ok = await exist('test.txt');\n",
    "        console.log(`* after file created, \"test.txt\" exist? ${ok}`);\n",
    "    } finally {\n",
    "        await rm('test.txt');\n",
    "    }\n",
    "}"
   ]
  },
  {
   "cell_type": "markdown",
   "metadata": {},
   "source": [
    "### 2.4. Create or remove empty folder"
   ]
  },
  {
   "cell_type": "markdown",
   "metadata": {},
   "source": [
    "- Functions"
   ]
  },
  {
   "cell_type": "code",
   "execution_count": 43,
   "metadata": {},
   "outputs": [],
   "source": [
    "async function mkdir(dirname, options = {}) {\n",
    "    try {\n",
    "        return await fs.promises.mkdir(dirname, options);\n",
    "    } catch (err) {\n",
    "        console.log(err.message);\n",
    "    }\n",
    "}\n",
    "\n",
    "async function rmdir(dirname, options = {}) {\n",
    "    try {\n",
    "        return await fs.promises.rmdir(dirname, options);\n",
    "    } catch (err) {\n",
    "        console.log(err.message);\n",
    "    }\n",
    "}"
   ]
  },
  {
   "cell_type": "markdown",
   "metadata": {},
   "source": [
    "- Test"
   ]
  },
  {
   "cell_type": "code",
   "execution_count": 44,
   "metadata": {},
   "outputs": [
    {
     "name": "stderr",
     "output_type": "stream",
     "text": [
      "UncaughtException: [Error: EBADF: Closing file descriptor 53 on garbage collection failed, close] {\n",
      "  errno: \u001b[33m-9\u001b[39m,\n",
      "  code: \u001b[32m'EBADF'\u001b[39m,\n",
      "  syscall: \u001b[32m'close'\u001b[39m\n",
      "}\n"
     ]
    },
    {
     "name": "stdout",
     "output_type": "stream",
     "text": [
      "* after directory created, \"test\" exist? true\n"
     ]
    }
   ],
   "source": [
    "{\n",
    "    await mkdir('test');\n",
    "    \n",
    "    const ok = await exist('test');\n",
    "    console.log(`* after directory created, \"test\" exist? ${ok}`);\n",
    "\n",
    "    await rmdir('test');\n",
    "}"
   ]
  },
  {
   "cell_type": "markdown",
   "metadata": {},
   "source": [
    "### 3.5. Remove dirs"
   ]
  },
  {
   "cell_type": "markdown",
   "metadata": {},
   "source": [
    "- Functions"
   ]
  },
  {
   "cell_type": "code",
   "execution_count": 45,
   "metadata": {},
   "outputs": [],
   "source": [
    "const fse = require('fs-extra');\n",
    "\n",
    "function mkdirs(pathname) {\n",
    "    return new Promise((resolve, reject) => {\n",
    "        fse.mkdirs(pathname, err => {\n",
    "            if (err) {\n",
    "                reject(err);\n",
    "            } else {\n",
    "                resolve();\n",
    "            }\n",
    "        });\n",
    "    });\n",
    "}\n",
    "\n",
    "function rmdirs(pathname) {\n",
    "    return new Promise((resolve, reject) => {\n",
    "        fse.remove(pathname, err => {\n",
    "            if (err) {\n",
    "                reject(err);\n",
    "            } else {\n",
    "                resolve();\n",
    "            }\n",
    "        });\n",
    "    });\n",
    "}"
   ]
  },
  {
   "cell_type": "markdown",
   "metadata": {},
   "source": [
    "- Test"
   ]
  },
  {
   "cell_type": "code",
   "execution_count": 46,
   "metadata": {},
   "outputs": [
    {
     "name": "stdout",
     "output_type": "stream",
     "text": [
      "* file \"test/a/b/c.txt\" exist? true\n"
     ]
    }
   ],
   "source": [
    "{\n",
    "    const dir = 'test/a/b';\n",
    "    const file = path.join(dir, 'c.txt');\n",
    "    \n",
    "    await mkdirs(dir);\n",
    "    await touch(file);\n",
    "    \n",
    "    const ok = await exist(file);\n",
    "    console.log(`* file \"${file}\" exist? ${ok}`);\n",
    "    \n",
    "    await rmdirs('test');\n",
    "}"
   ]
  },
  {
   "cell_type": "markdown",
   "metadata": {},
   "source": [
    "## 3. Buffer"
   ]
  },
  {
   "cell_type": "markdown",
   "metadata": {},
   "source": [
    "### 3.1. Convert with string"
   ]
  },
  {
   "cell_type": "code",
   "execution_count": 47,
   "metadata": {},
   "outputs": [
    {
     "name": "stdout",
     "output_type": "stream",
     "text": [
      "* convert string \"Hello 大家好\" to bytes are: [72,101,108,108,111,32,229,164,167,229,174,182,229,165,189]\n",
      "* convert data \"[72,101,108,108,111,32,229,164,167,229,174,182,229,165,189]\" to string is: \"Hello 大家好\"\n"
     ]
    },
    {
     "name": "stderr",
     "output_type": "stream",
     "text": [
      "UncaughtException: [Error: EBADF: Closing file descriptor 53 on garbage collection failed, close] {\n",
      "  errno: \u001b[33m-9\u001b[39m,\n",
      "  code: \u001b[32m'EBADF'\u001b[39m,\n",
      "  syscall: \u001b[32m'close'\u001b[39m\n",
      "}\n"
     ]
    }
   ],
   "source": [
    "{\n",
    "    const strSrc = 'Hello 大家好';\n",
    "    \n",
    "    const bufSrc = Buffer.from(strSrc, 'utf-8');\n",
    "    const data = [...bufSrc];\n",
    "    console.log(`* convert string \"${strSrc}\" to bytes are: ${JSON.stringify(data)}`);\n",
    "    \n",
    "    const bufDst = Buffer.from(data);\n",
    "    const strDst = bufDst.toString('utf-8');\n",
    "    console.log(`* convert data \"${JSON.stringify(data)}\" to string is: \"${strDst}\"`);\n",
    "}"
   ]
  },
  {
   "cell_type": "markdown",
   "metadata": {},
   "source": [
    "### 3.2. Concat"
   ]
  },
  {
   "cell_type": "code",
   "execution_count": 48,
   "metadata": {},
   "outputs": [
    {
     "name": "stdout",
     "output_type": "stream",
     "text": [
      "* concat \"[72,101,108,108,111,32]\" and \"[229,164,167,229,174,182,229,165,189]\" is: [72,101,108,108,111,32,229,164,167,229,174,182,229,165,189]\n",
      "* convert data \"[72,101,108,108,111,32,229,164,167,229,174,182,229,165,189]\" to string is: \"Hello 大家好\"\n"
     ]
    }
   ],
   "source": [
    "{\n",
    "    const str1 = 'Hello ';\n",
    "    const str2 = '大家好';\n",
    "    \n",
    "    const buf1 = Buffer.from(str1, 'utf-8');\n",
    "    const buf2 = Buffer.from(str2, 'utf-8');\n",
    "    \n",
    "    const bufAll = Buffer.concat([buf1, buf2]);\n",
    "    const data = [...bufAll];\n",
    "    \n",
    "    console.log(`* concat \"${JSON.stringify([...buf1])}\" and \"${JSON.stringify([...buf2])}\" is: ${JSON.stringify(data)}`);\n",
    "    \n",
    "    const strAll = Buffer.from(data).toString('utf-8');\n",
    "    console.log(`* convert data \"${JSON.stringify(data)}\" to string is: \"${strAll}\"`);\n",
    "}"
   ]
  },
  {
   "cell_type": "markdown",
   "metadata": {},
   "source": [
    "### 3.3. Read write data"
   ]
  },
  {
   "cell_type": "code",
   "execution_count": 49,
   "metadata": {},
   "outputs": [
    {
     "name": "stdout",
     "output_type": "stream",
     "text": [
      "* the encoding data is: \"0000000f68656c6c6f20e5a4a7e5aeb6e5a5bd5e5d25ed2640de1c7cf160dc56fb9ecf\"\n",
      "* the data length is: 15\n",
      "* the message string in buffer is: \"hello 大家好\"\n",
      "* calculate checksum is: 5e5d25ed2640de1c7cf160dc56fb9ecf and validate checksum is: 5e5d25ed2640de1c7cf160dc56fb9ecf\n"
     ]
    }
   ],
   "source": [
    "const crypto = require('crypto');\n",
    "\n",
    "{\n",
    "    let data = null;\n",
    "    {\n",
    "        const str = 'hello 大家好';\n",
    "        const sbuf = Buffer.from(str, 'utf-8');\n",
    "        const lbuf = Buffer.alloc(4);\n",
    "        lbuf.writeInt32BE(sbuf.byteLength, 0);\n",
    "        const cbuf = crypto.createHash('md5').update(sbuf).digest();\n",
    "        \n",
    "        data = Buffer.concat([lbuf, sbuf, cbuf]);\n",
    "        console.log(`* the encoding data is: \"${data.toString('hex')}\"`);\n",
    "    }\n",
    "    \n",
    "    {\n",
    "        const len = data.readInt32BE(0);\n",
    "        console.log(`* the data length is: ${len}`);\n",
    "\n",
    "        const sbuf = data.slice(4, 4 + len);\n",
    "        const cbuf = data.slice(4 + len);\n",
    "        \n",
    "        const str = sbuf.toString('utf-8');\n",
    "        console.log(`* the message string in buffer is: \"${str}\"`);\n",
    "        \n",
    "        const checksum = crypto.createHash('md5').update(sbuf).digest();\n",
    "        console.log(`* calculate checksum is: ${checksum.toString('hex')} and validate checksum is: ${cbuf.toString('hex')}`);\n",
    "    }\n",
    "}"
   ]
  },
  {
   "cell_type": "markdown",
   "metadata": {},
   "source": [
    "### 3.4. Base64"
   ]
  },
  {
   "cell_type": "code",
   "execution_count": 50,
   "metadata": {},
   "outputs": [
    {
     "name": "stdout",
     "output_type": "stream",
     "text": [
      "* string hello 大家好 to base64 is: \"aGVsbG8g5aSn5a625aW9\"\n",
      "* base64 \"aGVsbG8g5aSn5a625aW9\" to string is: \"hello 大家好\"\n"
     ]
    }
   ],
   "source": [
    "{\n",
    "    let base64 = '';\n",
    "    \n",
    "    {\n",
    "        const str = 'hello 大家好';\n",
    "        const buf = Buffer.from(str, 'utf-8');\n",
    "        \n",
    "        base64 = buf.toString('base64');\n",
    "        console.log(`* string ${str} to base64 is: \"${base64}\"`);\n",
    "    }\n",
    "    \n",
    "    {\n",
    "        const buf = Buffer.from(base64, 'base64');\n",
    "        const str = buf.toString('utf-8');\n",
    "        console.log(`* base64 \"${base64}\" to string is: \"${str}\"`);\n",
    "    }\n",
    "}"
   ]
  },
  {
   "cell_type": "markdown",
   "metadata": {},
   "source": [
    "## 4. File read and write"
   ]
  },
  {
   "cell_type": "markdown",
   "metadata": {},
   "source": [
    "### 4.1. Read and write file"
   ]
  },
  {
   "cell_type": "markdown",
   "metadata": {},
   "source": [
    "- Function"
   ]
  },
  {
   "cell_type": "code",
   "execution_count": 51,
   "metadata": {},
   "outputs": [
    {
     "name": "stderr",
     "output_type": "stream",
     "text": [
      "14:49 - No overload matches this call.\n",
      "14:49 - Overload 1 of 3, '(path: string | Buffer | URL | FileHandle, options?: { encoding?: null; flag?: OpenMode; }): Promise<Buffer>', gave the following error.\n",
      "14:49 - Type 'string' has no properties in common with type '{ encoding?: null; flag?: OpenMode; }'.\n",
      "14:49 - Overload 2 of 3, '(path: string | Buffer | URL | FileHandle, options: { encoding: BufferEncoding; flag?: OpenMode; } | \"ascii\" | \"utf8\" | \"utf-8\" | \"utf16le\" | ... 5 more ... | \"hex\"): Promise<...>', gave the following error.\n",
      "14:49 - Argument of type 'string' is not assignable to parameter of type '{ encoding: BufferEncoding; flag?: OpenMode; } | \"ascii\" | \"utf8\" | \"utf-8\" | \"utf16le\" | \"ucs2\" | \"ucs-2\" | \"base64\" | \"latin1\" | \"binary\" | \"hex\"'.\n",
      "14:49 - Overload 3 of 3, '(path: string | Buffer | URL | FileHandle, options?: \"ascii\" | \"utf8\" | \"utf-8\" | \"utf16le\" | \"ucs2\" | \"ucs-2\" | \"base64\" | \"latin1\" | \"binary\" | \"hex\" | (BaseEncodingOptions & { ...; })): Promise<...>', gave the following error.\n",
      "14:49 - Argument of type 'string' is not assignable to parameter of type '\"ascii\" | \"utf8\" | \"utf-8\" | \"utf16le\" | \"ucs2\" | \"ucs-2\" | \"base64\" | \"latin1\" | \"binary\" | \"hex\" | (BaseEncodingOptions & { flag?: OpenMode; })'.\n"
     ]
    }
   ],
   "source": [
    "async function fwrite(filename, data) {\n",
    "    return await fs.promises.writeFile(filename, data);\n",
    "}\n",
    "\n",
    "async function fappend(filename, data) {\n",
    "    return await fs.promises.appendFile(filename, data);\n",
    "}\n",
    "\n",
    "async function fread(filename) {\n",
    "    return await fs.promises.readFile(filename);\n",
    "}\n",
    "\n",
    "async function freadString(filename, encoding='utf-8') {\n",
    "    return await fs.promises.readFile(filename, encoding);\n",
    "}"
   ]
  },
  {
   "cell_type": "markdown",
   "metadata": {},
   "source": [
    "- Test"
   ]
  },
  {
   "cell_type": "code",
   "execution_count": null,
   "metadata": {},
   "outputs": [],
   "source": [
    "{\n",
    "    const filename = 'test.txt';\n",
    "    \n",
    "    try {\n",
    "        await fwrite(filename, Buffer.from('Hello', 'utf-8'));\n",
    "        await fappend(filename, Buffer.from(' 大家好', 'utf-8'));\n",
    "        \n",
    "        const data = await fread(filename);\n",
    "        console.log(`* read from file: \"${data.toString('hex')}\" and content is: \"${data.toString('utf-8')}\"`);\n",
    "        \n",
    "        const str = await freadString(filename);\n",
    "        console.log(`* read from file: \"${str}\"`);\n",
    "    } finally {\n",
    "        await rm(filename);\n",
    "    }\n",
    "}"
   ]
  },
  {
   "cell_type": "markdown",
   "metadata": {},
   "source": [
    "### 4.2. Read and write file from fd"
   ]
  },
  {
   "cell_type": "markdown",
   "metadata": {},
   "source": [
    "- Functions"
   ]
  },
  {
   "cell_type": "code",
   "execution_count": null,
   "metadata": {},
   "outputs": [],
   "source": [
    "async function lfopen(filename, mode='w+') {\n",
    "    return await fs.promises.open(filename, mode);\n",
    "}\n",
    "\n",
    "function lfclose(fd) {\n",
    "    return new Promise((resolve, reject) => {\n",
    "        fs.close(fd, err => {\n",
    "            if (err) {\n",
    "                reject(err);\n",
    "            } else {\n",
    "                resolve();\n",
    "            }\n",
    "        });\n",
    "    });\n",
    "}\n",
    "\n",
    "function lfwrite(fd, buf) {\n",
    "    return new Promise((resolve, reject) => {\n",
    "         fs.write(fd, buf, (err, written) => {\n",
    "             if (err) {\n",
    "                 reject(err);\n",
    "             } else {\n",
    "                 resolve(written);\n",
    "             }\n",
    "         });\n",
    "    });\n",
    "}\n",
    "\n",
    "function lfread(fd, buf, offset=0, length=-1, position=0) {\n",
    "    if (length < 0) {\n",
    "        length = buf.byteLength;\n",
    "    }\n",
    "    return new Promise((resolve, reject) => {\n",
    "        fs.read(fd, buf, offset, length, position, (err, bytesRead) => {\n",
    "            if (err) {\n",
    "                reject(err);\n",
    "            } else {\n",
    "                resolve(bytesRead);\n",
    "            }\n",
    "        });\n",
    "    });\n",
    "}"
   ]
  },
  {
   "cell_type": "markdown",
   "metadata": {},
   "source": [
    "- Test"
   ]
  },
  {
   "cell_type": "code",
   "execution_count": null,
   "metadata": {},
   "outputs": [],
   "source": [
    "{\n",
    "    const filename = 'test.txt';\n",
    "    \n",
    "    try {\n",
    "        const wbuf = Buffer.from('Hello 大家好', 'utf-8');\n",
    "\n",
    "        const wfh = await lfopen(filename);\n",
    "        const wlen = await lfwrite(wfh.fd, wbuf);\n",
    "        console.log(`* file written, ${wlen} bytes was written`);\n",
    "        lfclose(wfh.fd);\n",
    "        \n",
    "        const rfh = await lfopen(filename, 'r');\n",
    "        const rbuf = Buffer.alloc(256);\n",
    "        const rlen = await lfread(rfh.fd, rbuf);\n",
    "        console.log(`* file read, ${rlen} bytes was read`);\n",
    "        lfclose(rfh.fd);\n",
    "        \n",
    "        console.log(`* read content is: ${rbuf.toString('utf-8')}`);\n",
    "    } finally {\n",
    "        await rm(filename);\n",
    "    }\n",
    "}"
   ]
  },
  {
   "cell_type": "markdown",
   "metadata": {},
   "source": [
    "### 4.3. Read and write from stream"
   ]
  },
  {
   "cell_type": "markdown",
   "metadata": {},
   "source": [
    "- Functions"
   ]
  },
  {
   "cell_type": "code",
   "execution_count": 29,
   "metadata": {},
   "outputs": [
    {
     "name": "stderr",
     "output_type": "stream",
     "text": [
      "6:31 - Argument of type 'string' is not assignable to parameter of type 'BufferEncoding'.\n"
     ]
    }
   ],
   "source": [
    "function swrite(filename, contents, encoding='utf-8') {\n",
    "    return new Promise((resolve, reject) => {\n",
    "        const ws = fs.createWriteStream(filename);\n",
    "        console.log(`* write stream open? ${ws.writable}`);\n",
    "\n",
    "        ws.setDefaultEncoding(encoding);\n",
    "        \n",
    "        ws.on('error', err => reject(err));\n",
    "        ws.on('finish', () => {\n",
    "            resolve(ws.bytesWritten);\n",
    "            ws.close();\n",
    "        });\n",
    "\n",
    "        for (let content of contents) {\n",
    "            ws.write(content);\n",
    "        }\n",
    "        ws.end();\n",
    "    });\n",
    "}\n",
    "\n",
    "function sread(filename, encoding='utf-8') {\n",
    "    return new Promise((resolve, reject) => {\n",
    "        const ws = fs.createReadStream(filename);\n",
    "        console.log(`* read stream open? ${ws.readable}`);\n",
    "        \n",
    "        const chunks = [];\n",
    "        \n",
    "        ws.on('data', chunk => chunks.push(chunk));\n",
    "        ws.on('error', err => reject(err));\n",
    "        ws.on('end', () => {\n",
    "            const data = Buffer.concat(chunks);\n",
    "            resolve(data.toString('utf-8'));\n",
    "        });\n",
    "    });\n",
    "}"
   ]
  },
  {
   "cell_type": "markdown",
   "metadata": {},
   "source": [
    "- Test"
   ]
  },
  {
   "cell_type": "code",
   "execution_count": null,
   "metadata": {},
   "outputs": [],
   "source": [
    "{\n",
    "    const filename = 'test.txt';\n",
    "    \n",
    "    try {\n",
    "        const len = await swrite(filename, ['Hello ', '大家好']);\n",
    "        console.log(`* write finish, bytes to written: ${len}`)\n",
    "\n",
    "        const str = await sread(filename);\n",
    "        console.log(`* read finish, content is: \"${str}\"`);\n",
    "    } finally {\n",
    "        await rm(filename);\n",
    "    }\n",
    "}"
   ]
  },
  {
   "cell_type": "markdown",
   "metadata": {},
   "source": [
    "### 4.4. Watch file"
   ]
  },
  {
   "cell_type": "markdown",
   "metadata": {},
   "source": [
    "- Functions"
   ]
  },
  {
   "cell_type": "code",
   "execution_count": 27,
   "metadata": {},
   "outputs": [],
   "source": [
    "function sleep(ms) {\n",
    "    return new Promise(resolve => {\n",
    "        setTimeout(() => resolve(), ms);\n",
    "    });\n",
    "}"
   ]
  },
  {
   "cell_type": "markdown",
   "metadata": {},
   "source": [
    "- Test"
   ]
  },
  {
   "cell_type": "code",
   "execution_count": 28,
   "metadata": {},
   "outputs": [
    {
     "name": "stderr",
     "output_type": "stream",
     "text": [
      "7:35 - No overload matches this call.\n",
      "7:35 - Overload 1 of 4, '(filename: PathLike, options: \"utf-8\" | { encoding?: BufferEncoding; persistent?: boolean; recursive?: boolean; } | \"ascii\" | \"utf8\" | \"utf16le\" | \"ucs2\" | \"ucs-2\" | \"base64\" | \"latin1\" | \"binary\" | \"hex\", listener?: (event: string, filename: string) => void): FSWatcher', gave the following error.\n",
      "7:35 - Argument of type '{ recursive: boolean; encoding: string; }' is not assignable to parameter of type '\"utf-8\" | { encoding?: BufferEncoding; persistent?: boolean; recursive?: boolean; } | \"ascii\" | \"utf8\" | \"utf16le\" | \"ucs2\" | \"ucs-2\" | \"base64\" | \"latin1\" | \"binary\" | \"hex\"'.\n",
      "7:35 - Type '{ recursive: boolean; encoding: string; }' is not assignable to type '{ encoding?: BufferEncoding; persistent?: boolean; recursive?: boolean; }'.\n",
      "7:35 - Types of property 'encoding' are incompatible.\n",
      "7:35 - Type 'string' is not assignable to type 'BufferEncoding'.\n",
      "7:35 - Overload 2 of 4, '(filename: PathLike, options: { encoding: \"buffer\"; persistent?: boolean; recursive?: boolean; } | \"buffer\", listener?: (event: string, filename: Buffer) => void): FSWatcher', gave the following error.\n",
      "7:35 - Argument of type '{ recursive: boolean; encoding: string; }' is not assignable to parameter of type '{ encoding: \"buffer\"; persistent?: boolean; recursive?: boolean; } | \"buffer\"'.\n",
      "7:35 - Type '{ recursive: boolean; encoding: string; }' is not assignable to type '{ encoding: \"buffer\"; persistent?: boolean; recursive?: boolean; }'.\n",
      "7:35 - Types of property 'encoding' are incompatible.\n",
      "7:35 - Type 'string' is not assignable to type '\"buffer\"'.\n",
      "7:35 - Overload 3 of 4, '(filename: PathLike, options: string | { encoding?: BufferEncoding; persistent?: boolean; recursive?: boolean; }, listener?: (event: string, filename: string | Buffer) => void): FSWatcher', gave the following error.\n",
      "7:35 - Argument of type '{ recursive: boolean; encoding: string; }' is not assignable to parameter of type 'string | { encoding?: BufferEncoding; persistent?: boolean; recursive?: boolean; }'.\n",
      "7:35 - Type '{ recursive: boolean; encoding: string; }' is not assignable to type '{ encoding?: BufferEncoding; persistent?: boolean; recursive?: boolean; }'.\n",
      "7:35 - Types of property 'encoding' are incompatible.\n",
      "7:35 - Type 'string' is not assignable to type 'BufferEncoding'.\n",
      "15:11 - Cannot find name 'fwrite'.\n",
      "16:11 - Cannot find name 'fappend'.\n"
     ]
    }
   ],
   "source": [
    "{\n",
    "    const options = {\n",
    "        recursive: true,\n",
    "        encoding: 'utf-8'\n",
    "    };\n",
    "    \n",
    "    const watcher = fs.watch('.', options, (event, filename) => {\n",
    "        console.log(`* ${filename} as been ${event}`);\n",
    "    });\n",
    "    \n",
    "    watcher.on('change', (evnet, filename) => console.log(`* ${filename} trigger ${evnet} event`));\n",
    "    \n",
    "    const filename = 'test.txt';\n",
    "    await touch(filename);\n",
    "    await fwrite(filename, Buffer.from('hello', 'utf-8'));\n",
    "    await fappend(filename, Buffer.from(' world', 'utf-8'));\n",
    "    \n",
    "    await rm(filename);\n",
    "    \n",
    "    await sleep(2000);\n",
    "    watcher.close();\n",
    "}"
   ]
  },
  {
   "cell_type": "markdown",
   "metadata": {},
   "source": [
    "## 5. Glob "
   ]
  },
  {
   "cell_type": "markdown",
   "metadata": {},
   "source": [
    "- Functions"
   ]
  },
  {
   "cell_type": "code",
   "execution_count": 25,
   "metadata": {},
   "outputs": [],
   "source": [
    "const glob = require('glob');\n",
    "\n",
    "function findFiles(pattern) {\n",
    "    return new Promise((resolve, reject) => {\n",
    "        glob(pattern, (err, files) => {\n",
    "            if (err) {\n",
    "                reject(err);\n",
    "            } else {\n",
    "                resolve(files);\n",
    "            }\n",
    "        });\n",
    "    });\n",
    "}"
   ]
  },
  {
   "cell_type": "markdown",
   "metadata": {},
   "source": [
    "- Test"
   ]
  },
  {
   "cell_type": "code",
   "execution_count": 26,
   "metadata": {},
   "outputs": [
    {
     "name": "stdout",
     "output_type": "stream",
     "text": [
      "* found files include: [\"./async.ipynb\",\"./basic.ipynb\",\"./collection.ipynb\",\"./function.ipynb\",\"./http.ipynb\",\"./io.ipynb\",\"./module.ipynb\"]\n"
     ]
    }
   ],
   "source": [
    "{\n",
    "    const files = await findFiles('./**/*.ipynb');\n",
    "    console.log(`* found files include: ${JSON.stringify([...files])}`);\n",
    "}"
   ]
  }
 ],
 "metadata": {
  "kernelspec": {
   "display_name": "JavaScript",
   "language": "javascript",
   "name": "jslab"
  },
  "language_info": {
   "file_extension": ".js",
   "mimetype": "text/javascript",
   "name": "javascript",
   "version": ""
  }
 },
 "nbformat": 4,
 "nbformat_minor": 4
}

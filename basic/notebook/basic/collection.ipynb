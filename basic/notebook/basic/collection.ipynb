{
 "cells": [
  {
   "cell_type": "markdown",
   "metadata": {},
   "source": [
    "# Collections"
   ]
  },
  {
   "cell_type": "markdown",
   "metadata": {},
   "source": [
    "## 1. Arrays"
   ]
  },
  {
   "cell_type": "markdown",
   "metadata": {},
   "source": [
    "### 1.1. Check is array"
   ]
  },
  {
   "cell_type": "code",
   "execution_count": null,
   "metadata": {},
   "outputs": [],
   "source": [
    "let a = null;\n",
    "console.log(`* \"null\" is array? ${Array.isArray(a)}`);\n",
    "\n",
    "a = [];\n",
    "console.log(`* \"[]\" is array? ${Array.isArray(a)}`);\n",
    "\n",
    "a = {};\n",
    "console.log(`* \"{}\" is array? ${Array.isArray(a)}`);\n",
    "\n",
    "a = \"abc\";\n",
    "console.log(`* \"abc\" is array? ${Array.isArray(a)}`);"
   ]
  },
  {
   "cell_type": "markdown",
   "metadata": {},
   "source": [
    "### 1.2. Make array"
   ]
  },
  {
   "cell_type": "code",
   "execution_count": null,
   "metadata": {},
   "outputs": [],
   "source": [
    "let a = Array.of(1, 2, 3);\n",
    "console.log(`* Array.of(1, 2, 3) is: ${JSON.stringify(a)}`);\n",
    "\n",
    "let b = Array.of([1], [2, 3]);\n",
    "console.log(`* Array.of(1, [2, 3]) is: ${JSON.stringify(b)}`);\n",
    "\n",
    "let c = Array.of(1, ...[2, 3]);\n",
    "console.log(`* Array.of(1, ...[2, 3]) is: ${JSON.stringify(c)}`);"
   ]
  },
  {
   "cell_type": "markdown",
   "metadata": {},
   "source": [
    "### 1.3. Mapping array"
   ]
  },
  {
   "cell_type": "code",
   "execution_count": null,
   "metadata": {},
   "outputs": [],
   "source": [
    "let a = Array.from([1, 2, 3, 4]);\n",
    "console.log(`* Array.from([1, 2, 3, 4]) is: ${JSON.stringify(a)}`);\n",
    "\n",
    "a = Array.from([1, 2, 3, 4], x => x + 100);\n",
    "console.log(`* Array.from([1, 2, 3, 4], x => x + 100) is: ${JSON.stringify(a)}`);\n",
    "\n",
    "function* xrange(min, max, step = 1) {\n",
    "    while (min < max) {\n",
    "        yield min;\n",
    "        min += step;\n",
    "    }\n",
    "}\n",
    "\n",
    "a = Array.from(xrange(1, 10), x => x + 100);\n",
    "console.log(`* Array.form(xrange(1, 10), x => x + 100) is: ${JSON.stringify(a)}`);"
   ]
  },
  {
   "cell_type": "markdown",
   "metadata": {},
   "source": [
    "### 1.4. Find first element or index in array"
   ]
  },
  {
   "cell_type": "code",
   "execution_count": null,
   "metadata": {},
   "outputs": [],
   "source": [
    "const a = [1, 2, 3, 4, 5];\n",
    "\n",
    "const b = a.find(x => x % 2 === 0 && x > 3);\n",
    "console.log(`* when array is: ${JSON.stringify(a)}, \"a.find(x => x % 2 === 0 && x > 3)\" is: ${b}`);\n",
    "\n",
    "const i = a.findIndex(x => x % 2 === 0 && x > 3);\n",
    "console.log(`* when array is: ${JSON.stringify(a)}, \"a.findIndex(x => x % 2 === 0 && x > 3)\" is: ${i}`);"
   ]
  },
  {
   "cell_type": "markdown",
   "metadata": {},
   "source": [
    "### 1.5. Find all in array"
   ]
  },
  {
   "cell_type": "code",
   "execution_count": null,
   "metadata": {},
   "outputs": [],
   "source": [
    "const a = [1, 2, 3, 4, 5];\n",
    "\n",
    "function isPrime(n) {\n",
    "    let start = 2;\n",
    "    while (start <= Math.sqrt(n)) {\n",
    "        if (n % start++ < 1) {\n",
    "            return false;\n",
    "        }\n",
    "    }\n",
    "    return n > 1;\n",
    "}\n",
    "\n",
    "const b = a.filter(x => isPrime(x));\n",
    "console.log(`* when array is: ${JSON.stringify(a)}, \"a.filter(x => isPrime(x))\" is: ${b}`);"
   ]
  },
  {
   "cell_type": "markdown",
   "metadata": {},
   "source": [
    "### 1.6. Delete by index in array"
   ]
  },
  {
   "cell_type": "code",
   "execution_count": null,
   "metadata": {},
   "outputs": [],
   "source": [
    "const a = [1, 2, 3, 4, 5];\n",
    "\n",
    "const b = Array.from(a);\n",
    "b.splice(2, 1);\n",
    "console.log(`* when array is: ${JSON.stringify(a)}, \"b.splice(2, 1)\" is: ${JSON.stringify(b)}`);"
   ]
  },
  {
   "cell_type": "markdown",
   "metadata": {},
   "source": [
    "### 1.7. Sub array"
   ]
  },
  {
   "cell_type": "code",
   "execution_count": null,
   "metadata": {},
   "outputs": [],
   "source": [
    "const a = [1, 2, 3, 4, 5];\n",
    "\n",
    "const b = a.slice(2, 5);\n",
    "console.log(`* when array is: ${JSON.stringify(a)}, \"a.slice(2, 5)\" is: ${JSON.stringify(b)}`);"
   ]
  },
  {
   "cell_type": "markdown",
   "metadata": {},
   "source": [
    "### 1.8. Insert into array"
   ]
  },
  {
   "cell_type": "code",
   "execution_count": null,
   "metadata": {},
   "outputs": [],
   "source": [
    "const a = [1, 2, 3, 4, 5];\n",
    "\n",
    "const b = Array.from(a);\n",
    "b.splice(2, 0, 100, 200, 300);\n",
    "console.log(`* when array is: ${JSON.stringify(a)}, \"b.splice(2, 0, 100, 200, 300)\" is: ${JSON.stringify(b)}`);"
   ]
  },
  {
   "cell_type": "markdown",
   "metadata": {},
   "source": [
    "### 1.9. Replace elements"
   ]
  },
  {
   "cell_type": "code",
   "execution_count": null,
   "metadata": {},
   "outputs": [],
   "source": [
    "const a = [1, 2, 3, 4, 5];\n",
    "\n",
    "const b = Array.from(a);\n",
    "b.splice(2, 1, 100, 200, 300);\n",
    "console.log(`* when array is: ${JSON.stringify(a)}, \"b.splice(2, 1, 100, 200, 300)\" is: ${JSON.stringify(b)}`);"
   ]
  },
  {
   "cell_type": "markdown",
   "metadata": {},
   "source": [
    "### 1.10. Map elements"
   ]
  },
  {
   "cell_type": "code",
   "execution_count": null,
   "metadata": {},
   "outputs": [],
   "source": [
    "const a = [1, 2, 3, 4, 5];\n",
    "\n",
    "const b = a.map(x => x + 100);\n",
    "console.log(`* when array is: ${JSON.stringify(a)}, \"a.map(x => x + 100)\" is: ${JSON.stringify(b)}`);"
   ]
  },
  {
   "cell_type": "markdown",
   "metadata": {},
   "source": [
    "## 2. Iterator"
   ]
  },
  {
   "cell_type": "markdown",
   "metadata": {},
   "source": [
    "### 2.1. yield"
   ]
  },
  {
   "cell_type": "code",
   "execution_count": null,
   "metadata": {},
   "outputs": [],
   "source": [
    "function* xrange(min, max, step = 1) {\n",
    "    while (min < max) {\n",
    "        yield min;\n",
    "        min += step;\n",
    "    }\n",
    "}\n",
    "\n",
    "const a = [...xrange(1, 10)];\n",
    "console.log(`* [...xrange(1, 10)] is ${JSON.stringify(a)}`);\n",
    "\n",
    "const r = [];\n",
    "for (let n of xrange(10, 20)) {\n",
    "    r.push(n + n);\n",
    "}\n",
    "console.log(`* loop of range is: ${JSON.stringify(r)}`);"
   ]
  },
  {
   "cell_type": "markdown",
   "metadata": {},
   "source": [
    "### 2.2. Iterator of array"
   ]
  },
  {
   "cell_type": "code",
   "execution_count": null,
   "metadata": {},
   "outputs": [],
   "source": [
    "const a = [1, 2, 3, 4, 5];\n",
    "\n",
    "const it = a[Symbol.iterator]();\n",
    "console.log(`* when a = ${JSON.stringify(a)}, a[Symbol.iterator]() is: ${it}`);\n",
    "\n",
    "const e1 = it.next();\n",
    "console.log(`* first element of it is: ${JSON.stringify(e1)}`);\n",
    "\n",
    "const b = [...it];\n",
    "console.log(`* [...it] is: ${JSON.stringify(b)}`);\n",
    "\n",
    "const e2 = it.next();\n",
    "console.log(`* last element of it is: ${JSON.stringify(e2)}`);"
   ]
  },
  {
   "cell_type": "markdown",
   "metadata": {},
   "source": [
    "### 2.3. Iterator class"
   ]
  },
  {
   "cell_type": "code",
   "execution_count": null,
   "metadata": {},
   "outputs": [],
   "source": [
    "class Range {\n",
    "    constructor(min, max, step = 1) {\n",
    "        this._min = min;\n",
    "        this._max = max;\n",
    "        this._step = step;\n",
    "    }\n",
    "\n",
    "    [Symbol.iterator]() {\n",
    "        let cur = this._min;\n",
    "\n",
    "        return {\n",
    "            next: () => {\n",
    "                if (cur < this._max) {\n",
    "                    const val = cur;\n",
    "                    cur += this._step;\n",
    "                    return {done: false, value: val};\n",
    "                }\n",
    "                return {done: true};\n",
    "            },\n",
    "            return() {      // iterator is break\n",
    "                return {value: undefined, done: true};\n",
    "            },\n",
    "            throw() {       // iterator raise exception\n",
    "                return {value: undefined, done: true};\n",
    "            }\n",
    "        };\n",
    "    }\n",
    "}\n",
    "\n",
    "\n",
    "const range = new Range(1, 10, 2);\n",
    "\n",
    "const a = [...range];\n",
    "console.log(`* when \"range = new Range(1, 10, 2)\", then [...range] is ${JSON.stringify(a)}`);"
   ]
  },
  {
   "cell_type": "markdown",
   "metadata": {},
   "source": [
    "### 2.4. Genrator iterator"
   ]
  },
  {
   "cell_type": "code",
   "execution_count": null,
   "metadata": {},
   "outputs": [],
   "source": [
    "class Range {\n",
    "    constructor(min, max, step = 1) {\n",
    "        this._min = min;\n",
    "        this._max = max;\n",
    "        this._step = step;\n",
    "    }\n",
    "\n",
    "    * [Symbol.iterator]() {\n",
    "        let cur = this._min;\n",
    "        while (cur < this._max) {\n",
    "            yield cur * 10;\n",
    "            cur += this._step;\n",
    "        }\n",
    "    }\n",
    "}\n",
    "\n",
    "\n",
    "const range = new Range(1, 10, 2);\n",
    "\n",
    "const a = [...range];\n",
    "console.log(`* when \"range = new Range(1, 10, 2)\", then [...range] is ${JSON.stringify(a)}`);"
   ]
  },
  {
   "cell_type": "markdown",
   "metadata": {},
   "source": [
    "## 3. Set"
   ]
  },
  {
   "cell_type": "code",
   "execution_count": null,
   "metadata": {},
   "outputs": [],
   "source": [
    "const set = new Set([1, 2, 3, 4, 3, 2, 1]);\n",
    "console.log(`* set from \"new Set([1, 2, 3, 4, 3, 2, 1])\" is: ${JSON.stringify([...set])}`);\n",
    "console.log(`  and \"set.size\" is: ${set.size}`)\n",
    "\n",
    "let b = set.has(2);\n",
    "console.log(`  and \"set.has(2)\" is: ${b}`);\n",
    "\n",
    "b = set.has(20);\n",
    "console.log(`  and \"set.has(20)\" is: ${b}`);\n",
    "\n",
    "set.delete(2);\n",
    "b = set.has(2);\n",
    "console.log(`  after \"set.delete(2)\" then \"set.has(2)\" is: ${b}`);\n",
    "\n",
    "let e = [...set.entries()];\n",
    "console.log(`  and \"[...set.entries()]\" is: ${JSON.stringify(e)}`);\n",
    "\n",
    "set.add(4);\n",
    "console.log(`* after \"set.add(4)\", set is: ${JSON.stringify([...set])}`);\n",
    "\n",
    "set.add(5);\n",
    "console.log(`* after \"set.add(5)\", set is: ${JSON.stringify([...set])}`);\n",
    "\n",
    "set.clear();\n",
    "console.log(`* after \"set.clear()\", set is: ${JSON.stringify([...set])}`);"
   ]
  },
  {
   "cell_type": "markdown",
   "metadata": {},
   "source": [
    "## 4. Map"
   ]
  },
  {
   "cell_type": "code",
   "execution_count": null,
   "metadata": {},
   "outputs": [],
   "source": [
    "const map = new Map([['a', 1], ['b', 2]]);\n",
    "let a = [...map];\n",
    "console.log(`* when \"new Map(['a', 1], ['b', 2])\", map is: ${JSON.stringify(a)}`);\n",
    "console.log(`  and \"map.size\" is: ${map.size}`);\n",
    "\n",
    "let val = map.get('b');\n",
    "console.log(`  and \"map.get('b')\" is: ${val}`);\n",
    "\n",
    "map.set('c', 3);\n",
    "a = [...map];\n",
    "console.log(`  after \"map.set('c', 3)\", map is: ${JSON.stringify(a)}`);\n",
    "\n",
    "map.delete('b');\n",
    "a = [...map];\n",
    "console.log(`  after \"map.delete('b')\", map is: ${JSON.stringify(a)}`);\n",
    "\n",
    "let e = [...map.entries()];\n",
    "console.log(`  and \"[...map.entries()]\" is: ${JSON.stringify(e)}`);\n",
    "\n",
    "map.clear();\n",
    "a = [...map];\n",
    "console.log(`  after \"map.clear()\", map is: ${JSON.stringify(a)}`);"
   ]
  }
 ],
 "metadata": {
  "kernelspec": {
   "display_name": "JavaScript",
   "language": "javascript",
   "name": "jslab"
  },
  "language_info": {
   "file_extension": ".js",
   "mimetype": "text/javascript",
   "name": "javascript",
   "version": ""
  }
 },
 "nbformat": 4,
 "nbformat_minor": 4
}

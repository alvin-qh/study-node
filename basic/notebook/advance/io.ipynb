{
 "cells": [
  {
   "cell_type": "markdown",
   "metadata": {},
   "source": [
    "# IO"
   ]
  },
  {
   "cell_type": "markdown",
   "metadata": {},
   "source": [
    "## 1. Paths"
   ]
  },
  {
   "cell_type": "markdown",
   "metadata": {},
   "source": [
    "### 1.1. Normalize"
   ]
  },
  {
   "cell_type": "code",
   "execution_count": null,
   "metadata": {},
   "outputs": [],
   "source": [
    "const path = require('path');\n",
    "\n",
    "const dir = 'a/b/c/../d';\n",
    "\n",
    "const normalizedDir = path.normalize(dir);\n",
    "console.log(`* when path is \"${dir}\", then path.normalize(dir) is: \"${normalizedDir}\"`);"
   ]
  },
  {
   "cell_type": "markdown",
   "metadata": {},
   "source": [
    "### 1.2. Join"
   ]
  },
  {
   "cell_type": "code",
   "execution_count": null,
   "metadata": {},
   "outputs": [],
   "source": [
    "const path = require('path');\n",
    "\n",
    "const dir1 = 'a/b/c';\n",
    "const dir2 = '../x/y';\n",
    "const fn = 'foo.txt';\n",
    "\n",
    "const joinedPath = path.join(dir1, dir2, fn);\n",
    "console.log(`* when \"dir1=${dir1}\", \"dir2=${dir2}\", \"fn=${fn}\" then \"path.join(dir1, dir2, fn)\" is: \"${joinedPath}\"`);"
   ]
  },
  {
   "cell_type": "markdown",
   "metadata": {},
   "source": [
    "### 1.3. Absolute path"
   ]
  },
  {
   "cell_type": "code",
   "execution_count": null,
   "metadata": {},
   "outputs": [],
   "source": [
    "const path = require('path');\n",
    "\n",
    "const dir = '../a/b/c';\n",
    "\n",
    "const absPath = path.resolve(dir);\n",
    "console.log(`* when path is \"${dir}\", then path.resolve(dir) is: \"${absPath}\"`);"
   ]
  },
  {
   "cell_type": "markdown",
   "metadata": {},
   "source": [
    "### 1.4. Relative path"
   ]
  },
  {
   "cell_type": "code",
   "execution_count": null,
   "metadata": {},
   "outputs": [],
   "source": [
    "const path = require('path');\n",
    "\n",
    "const dir1 = 'a/b/c/d/';\n",
    "const dir2 = 'a/b/d/';\n",
    "\n",
    "const re = path.relative(dir1, dir2);\n",
    "console.log(`* relative path of \"${dir1}\" and \"${dir2}\" is: \"${re}\"`);"
   ]
  },
  {
   "cell_type": "markdown",
   "metadata": {},
   "source": [
    "### 1.5. Name of directory"
   ]
  },
  {
   "cell_type": "code",
   "execution_count": null,
   "metadata": {},
   "outputs": [],
   "source": [
    "const path = require('path');\n",
    "\n",
    "const fullpath = 'a/b/c/d.txt';\n",
    "\n",
    "const dirname = path.dirname(fullpath);\n",
    "console.log(`* dirname of \"${fullpath}\" is: \"${dirname}\"`);"
   ]
  },
  {
   "cell_type": "markdown",
   "metadata": {},
   "source": [
    "### 1.6. File name of path"
   ]
  },
  {
   "cell_type": "code",
   "execution_count": null,
   "metadata": {},
   "outputs": [],
   "source": [
    "const path = require('path');\n",
    "\n",
    "const fullpath = 'a/b/c/d.txt';\n",
    "\n",
    "const basename = path.basename(fullpath);\n",
    "console.log(`* basename of \"${fullpath}\" is: \"${basename}\"`);"
   ]
  },
  {
   "cell_type": "markdown",
   "metadata": {},
   "source": [
    "### 1.7. File extenstion name"
   ]
  },
  {
   "cell_type": "code",
   "execution_count": null,
   "metadata": {},
   "outputs": [],
   "source": [
    "const path = require('path');\n",
    "\n",
    "const fullpath = 'a/b/c/d.txt';\n",
    "\n",
    "const extname = path.extname(fullpath);\n",
    "console.log(`* extname of \"${fullpath}\" is: \"${extname}\"`);"
   ]
  },
  {
   "cell_type": "markdown",
   "metadata": {},
   "source": [
    "## 2. File operator"
   ]
  },
  {
   "cell_type": "markdown",
   "metadata": {},
   "source": [
    "### 2.1. Remove file"
   ]
  },
  {
   "cell_type": "code",
   "execution_count": null,
   "metadata": {},
   "outputs": [],
   "source": [
    "const fs = require('fs');\n",
    "\n",
    "async function rm(filename) {\n",
    "    return await fs.promises.unlink(filename);\n",
    "}"
   ]
  },
  {
   "cell_type": "markdown",
   "metadata": {},
   "source": [
    "### 2.2. Is file exist"
   ]
  },
  {
   "cell_type": "code",
   "execution_count": null,
   "metadata": {},
   "outputs": [],
   "source": [
    "const fs = require('fs');\n",
    "const path = require('path');\n",
    "\n",
    "async function exist(filename) {\n",
    "    try {\n",
    "        await fs.promises.access(filename);\n",
    "        return true;\n",
    "    } catch (err) {\n",
    "        return false;\n",
    "    }\n",
    "}\n",
    "\n",
    "let dir = 'io.ipynb';\n",
    "let ok = await exist('io.ipynb');\n",
    "console.log(`* \"${dir}\" file exists? ${ok}`);\n",
    "\n",
    "dir = path.resolve('../src');\n",
    "ok = await exist(dir);\n",
    "console.log(`* \"${dir}\" directory exists? ${ok}`);"
   ]
  },
  {
   "cell_type": "markdown",
   "metadata": {},
   "source": [
    "### 2.3. Create empty file"
   ]
  },
  {
   "cell_type": "code",
   "execution_count": null,
   "metadata": {},
   "outputs": [],
   "source": [
    "const fs = require('fs');\n",
    "\n",
    "function touch(filename) {\n",
    "    return new Promise((resolve, reject) => {\n",
    "        fs.promises.open(filename, 'w')\n",
    "            .then(h => fs.close(h.fd, () => resolve()))\n",
    "            .catch(err => reject(err));\n",
    "    });\n",
    "}\n",
    "\n",
    "try {\n",
    "    await touch('test.txt');\n",
    "    const ok = await exist('test.txt');\n",
    "    console.log(`* after file created, \"test.txt\" exist? ${ok}`);\n",
    "} finally {\n",
    "    await rm('test.txt');\n",
    "}"
   ]
  },
  {
   "cell_type": "markdown",
   "metadata": {},
   "source": [
    "### 2.4. Create or remove empty folder"
   ]
  },
  {
   "cell_type": "code",
   "execution_count": null,
   "metadata": {},
   "outputs": [],
   "source": [
    "const fs = require('fs');\n",
    "\n",
    "async function mkdir(dirname, options = {}) {\n",
    "    try {\n",
    "        return await fs.promises.mkdir(dirname, options);\n",
    "    } catch (err) {\n",
    "        console.log(err.message);\n",
    "    }\n",
    "}\n",
    "\n",
    "async function rmdir(dirname, options = {}) {\n",
    "    try {\n",
    "        return await fs.promises.rmdir(dirname, options);\n",
    "    } catch (err) {\n",
    "        console.log(err.message);\n",
    "    }\n",
    "}\n",
    "\n",
    "await mkdir('test');\n",
    "\n",
    "const ok = await exist('test');\n",
    "console.log(`* after directory created, \"test\" exist? ${ok}`);\n",
    "\n",
    "await rmdir('test');"
   ]
  },
  {
   "cell_type": "markdown",
   "metadata": {},
   "source": [
    "### 3.5. Remove dirs"
   ]
  },
  {
   "cell_type": "markdown",
   "metadata": {},
   "source": [
    "- Functions"
   ]
  },
  {
   "cell_type": "code",
   "execution_count": null,
   "metadata": {},
   "outputs": [],
   "source": [
    "const fse = require('fs-extra');\n",
    "const path = require('path');\n",
    "\n",
    "function mkdirs(pathname) {\n",
    "    return new Promise((resolve, reject) => {\n",
    "        fse.mkdirs(pathname, err => {\n",
    "            if (err) {\n",
    "                reject(err);\n",
    "            } else {\n",
    "                resolve();\n",
    "            }\n",
    "        });\n",
    "    });\n",
    "}\n",
    "\n",
    "function rmdirs(pathname) {\n",
    "    return new Promise((resolve, reject) => {\n",
    "        fse.remove(pathname, err => {\n",
    "            if (err) {\n",
    "                reject(err);\n",
    "            } else {\n",
    "                resolve();\n",
    "            }\n",
    "        });\n",
    "    });\n",
    "}\n",
    "\n",
    "const dir = 'test/a/b';\n",
    "const file = path.join(dir, 'c.txt');\n",
    "\n",
    "await mkdirs(dir);\n",
    "await touch(file);\n",
    "\n",
    "const ok = await exist(file);\n",
    "console.log(`* file \"${file}\" exist? ${ok}`);\n",
    "\n",
    "await rmdirs('test');"
   ]
  },
  {
   "cell_type": "markdown",
   "metadata": {},
   "source": [
    "## 3. Buffer"
   ]
  },
  {
   "cell_type": "markdown",
   "metadata": {},
   "source": [
    "### 3.1. Convert with string"
   ]
  },
  {
   "cell_type": "code",
   "execution_count": null,
   "metadata": {},
   "outputs": [],
   "source": [
    "const strSrc = 'Hello 大家好';\n",
    "\n",
    "const bufSrc = Buffer.from(strSrc, 'utf-8');\n",
    "const data = [...bufSrc];\n",
    "console.log(`* convert string \"${strSrc}\" to bytes are: ${JSON.stringify(data)}`);\n",
    "\n",
    "const bufDst = Buffer.from(data);\n",
    "const strDst = bufDst.toString('utf-8');\n",
    "console.log(`* convert data \"${JSON.stringify(data)}\" to string is: \"${strDst}\"`);"
   ]
  },
  {
   "cell_type": "markdown",
   "metadata": {},
   "source": [
    "### 3.2. Concat"
   ]
  },
  {
   "cell_type": "code",
   "execution_count": null,
   "metadata": {},
   "outputs": [],
   "source": [
    "const str1 = 'Hello ';\n",
    "const str2 = '大家好';\n",
    "\n",
    "const buf1 = Buffer.from(str1, 'utf-8');\n",
    "const buf2 = Buffer.from(str2, 'utf-8');\n",
    "\n",
    "const bufAll = Buffer.concat([buf1, buf2]);\n",
    "const data = [...bufAll];\n",
    "\n",
    "console.log(`* concat \"${JSON.stringify([...buf1])}\" and \"${JSON.stringify([...buf2])}\" is: ${JSON.stringify(data)}`);\n",
    "\n",
    "const strAll = Buffer.from(data).toString('utf-8');\n",
    "console.log(`* convert data \"${JSON.stringify(data)}\" to string is: \"${strAll}\"`);"
   ]
  },
  {
   "cell_type": "markdown",
   "metadata": {},
   "source": [
    "### 3.3. Read write data"
   ]
  },
  {
   "cell_type": "code",
   "execution_count": null,
   "metadata": {},
   "outputs": [],
   "source": [
    "const crypto = require('crypto');\n",
    "\n",
    "let data = null;\n",
    "let str = 'hello 大家好';\n",
    "let sbuf = Buffer.from(str, 'utf-8');\n",
    "let lbuf = Buffer.alloc(4);\n",
    "lbuf.writeInt32BE(sbuf.byteLength, 0);\n",
    "\n",
    "let cbuf = crypto.createHash('md5').update(sbuf).digest();\n",
    "\n",
    "data = Buffer.concat([lbuf, sbuf, cbuf]);\n",
    "console.log(`* the encoding data is: \"${data.toString('hex')}\"`);\n",
    "\n",
    "const len = data.readInt32BE(0);\n",
    "console.log(`* the data length is: ${len}`);\n",
    "\n",
    "sbuf = data.slice(4, 4 + len);\n",
    "cbuf = data.slice(4 + len);\n",
    "\n",
    "str = sbuf.toString('utf-8');\n",
    "console.log(`* the message string in buffer is: \"${str}\"`);\n",
    "\n",
    "const checksum = crypto.createHash('md5').update(sbuf).digest();\n",
    "console.log(`* calculate checksum is: ${checksum.toString('hex')} and validate checksum is: ${cbuf.toString('hex')}`);"
   ]
  },
  {
   "cell_type": "markdown",
   "metadata": {},
   "source": [
    "### 3.4. Base64"
   ]
  },
  {
   "cell_type": "code",
   "execution_count": null,
   "metadata": {},
   "outputs": [],
   "source": [
    "let base64 = '';\n",
    "\n",
    "let str = 'hello 大家好';\n",
    "let buf = Buffer.from(str, 'utf-8');\n",
    "\n",
    "base64 = buf.toString('base64');\n",
    "console.log(`* string ${str} to base64 is: \"${base64}\"`);\n",
    "\n",
    "buf = Buffer.from(base64, 'base64');\n",
    "str = buf.toString('utf-8');\n",
    "console.log(`* base64 \"${base64}\" to string is: \"${str}\"`);"
   ]
  },
  {
   "cell_type": "markdown",
   "metadata": {},
   "source": [
    "## 4. File read and write"
   ]
  },
  {
   "cell_type": "markdown",
   "metadata": {},
   "source": [
    "### 4.1. Read and write file"
   ]
  },
  {
   "cell_type": "code",
   "execution_count": null,
   "metadata": {},
   "outputs": [],
   "source": [
    "const fs = require('fs');\n",
    "\n",
    "async function fwrite(filename, data) {\n",
    "    return await fs.promises.writeFile(filename, data);\n",
    "}\n",
    "\n",
    "async function fappend(filename, data) {\n",
    "    return await fs.promises.appendFile(filename, data);\n",
    "}\n",
    "\n",
    "async function fread(filename) {\n",
    "    return await fs.promises.readFile(filename);\n",
    "}\n",
    "\n",
    "async function freadString(filename, encoding='utf8') {\n",
    "    // @ts-ignore\n",
    "    return await fs.promises.readFile(filename, encoding);\n",
    "}\n",
    "\n",
    "const filename = 'test.txt';\n",
    "\n",
    "try {\n",
    "    await fwrite(filename, Buffer.from('Hello', 'utf-8'));\n",
    "    await fappend(filename, Buffer.from(' 大家好', 'utf-8'));\n",
    "\n",
    "    const data = await fread(filename);\n",
    "    console.log(`* read from file: \"${data.toString('hex')}\" and content is: \"${data.toString('utf-8')}\"`);\n",
    "\n",
    "    const str = await freadString(filename);\n",
    "    console.log(`* read from file: \"${str}\"`);\n",
    "} finally {\n",
    "    await rm(filename);\n",
    "}"
   ]
  },
  {
   "cell_type": "markdown",
   "metadata": {},
   "source": [
    "### 4.2. Read and write file from fd"
   ]
  },
  {
   "cell_type": "code",
   "execution_count": null,
   "metadata": {},
   "outputs": [],
   "source": [
    "const fs = require('fs');\n",
    "\n",
    "async function lfopen(filename, mode='w+') {\n",
    "    return await fs.promises.open(filename, mode);\n",
    "}\n",
    "\n",
    "function lfclose(fd) {\n",
    "    return new Promise((resolve, reject) => {\n",
    "        fs.close(fd, err => {\n",
    "            if (err) {\n",
    "                reject(err);\n",
    "            } else {\n",
    "                resolve();\n",
    "            }\n",
    "        });\n",
    "    });\n",
    "}\n",
    "\n",
    "function lfwrite(fd, buf) {\n",
    "    return new Promise((resolve, reject) => {\n",
    "         fs.write(fd, buf, (err, written) => {\n",
    "             if (err) {\n",
    "                 reject(err);\n",
    "             } else {\n",
    "                 resolve(written);\n",
    "             }\n",
    "         });\n",
    "    });\n",
    "}\n",
    "\n",
    "function lfread(fd, buf, offset=0, length=-1, position=0) {\n",
    "    if (length < 0) {\n",
    "        length = buf.byteLength;\n",
    "    }\n",
    "    return new Promise((resolve, reject) => {\n",
    "        fs.read(fd, buf, offset, length, position, (err, bytesRead) => {\n",
    "            if (err) {\n",
    "                reject(err);\n",
    "            } else {\n",
    "                resolve(bytesRead);\n",
    "            }\n",
    "        });\n",
    "    });\n",
    "}\n",
    "\n",
    "const filename = 'test.txt';\n",
    "\n",
    "try {\n",
    "    const wbuf = Buffer.from('Hello 大家好', 'utf-8');\n",
    "\n",
    "    const wfh = await lfopen(filename);\n",
    "    const wlen = await lfwrite(wfh.fd, wbuf);\n",
    "    console.log(`* file written, ${wlen} bytes was written`);\n",
    "    lfclose(wfh.fd);\n",
    "\n",
    "    const rfh = await lfopen(filename, 'r');\n",
    "    const rbuf = Buffer.alloc(256);\n",
    "    const rlen = await lfread(rfh.fd, rbuf);\n",
    "    console.log(`* file read, ${rlen} bytes was read`);\n",
    "    lfclose(rfh.fd);\n",
    "\n",
    "    console.log(`* read content is: ${rbuf.toString('utf-8')}`);\n",
    "} finally {\n",
    "    await rm(filename);\n",
    "}"
   ]
  },
  {
   "cell_type": "markdown",
   "metadata": {},
   "source": [
    "### 4.3. Read and write from stream"
   ]
  },
  {
   "cell_type": "code",
   "execution_count": null,
   "metadata": {},
   "outputs": [],
   "source": [
    "const fs = require('fs');\n",
    "\n",
    "function swrite(filename, contents, encoding='utf-8') {\n",
    "    return new Promise((resolve, reject) => {\n",
    "        const ws = fs.createWriteStream(filename);\n",
    "        console.log(`* write stream open? ${ws.writable}`);\n",
    "\n",
    "        // @ts-ignore\n",
    "        ws.setDefaultEncoding(encoding);\n",
    "        \n",
    "        ws.on('error', err => reject(err));\n",
    "        ws.on('finish', () => {\n",
    "            resolve(ws.bytesWritten);\n",
    "            ws.close();\n",
    "        });\n",
    "\n",
    "        for (let content of contents) {\n",
    "            ws.write(content);\n",
    "        }\n",
    "        ws.end();\n",
    "    });\n",
    "}\n",
    "\n",
    "function sread(filename, encoding='utf-8') {\n",
    "    return new Promise((resolve, reject) => {\n",
    "        const ws = fs.createReadStream(filename);\n",
    "        console.log(`* read stream open? ${ws.readable}`);\n",
    "        \n",
    "        const chunks = [];\n",
    "        \n",
    "        ws.on('data', chunk => chunks.push(chunk));\n",
    "        ws.on('error', err => reject(err));\n",
    "        ws.on('end', () => {\n",
    "            const data = Buffer.concat(chunks);\n",
    "            resolve(data.toString('utf-8'));\n",
    "        });\n",
    "    });\n",
    "}\n",
    "\n",
    "const filename = 'test.txt';\n",
    "\n",
    "try {\n",
    "    const len = await swrite(filename, ['Hello ', '大家好']);\n",
    "    console.log(`* write finish, bytes to written: ${len}`)\n",
    "\n",
    "    const str = await sread(filename);\n",
    "    console.log(`* read finish, content is: \"${str}\"`);\n",
    "} finally {\n",
    "    await rm(filename);\n",
    "}"
   ]
  },
  {
   "cell_type": "markdown",
   "metadata": {},
   "source": [
    "### 4.4. Watch file"
   ]
  },
  {
   "cell_type": "code",
   "execution_count": null,
   "metadata": {},
   "outputs": [],
   "source": [
    "const fs = require('fs');\n",
    "\n",
    "function sleep(ms) {\n",
    "    return new Promise(resolve => {\n",
    "        setTimeout(() => resolve(), ms);\n",
    "    });\n",
    "}\n",
    "\n",
    "const options = {\n",
    "    recursive: true,\n",
    "    encoding: 'utf-8'\n",
    "};\n",
    "\n",
    "// @ts-ignore\n",
    "const watcher = fs.watch('.', options, (event, filename) => {\n",
    "    console.log(`* ${filename} as been ${event}`);\n",
    "});\n",
    "\n",
    "watcher.on('change', (evnet, filename) => console.log(`* ${filename} trigger ${evnet} event`));\n",
    "\n",
    "const filename = 'test.txt';\n",
    "await touch(filename);\n",
    "await fwrite(filename, Buffer.from('hello', 'utf-8'));\n",
    "await fappend(filename, Buffer.from(' world', 'utf-8'));\n",
    "\n",
    "await rm(filename);\n",
    "\n",
    "await sleep(2000);\n",
    "watcher.close();"
   ]
  },
  {
   "cell_type": "markdown",
   "metadata": {},
   "source": [
    "## 5. Glob "
   ]
  },
  {
   "cell_type": "code",
   "execution_count": null,
   "metadata": {},
   "outputs": [],
   "source": [
    "const glob = require('glob');\n",
    "\n",
    "function findFiles(pattern) {\n",
    "    return new Promise((resolve, reject) => {\n",
    "        glob(pattern, (err, files) => {\n",
    "            if (err) {\n",
    "                reject(err);\n",
    "            } else {\n",
    "                resolve(files);\n",
    "            }\n",
    "        });\n",
    "    });\n",
    "}\n",
    "\n",
    "const files = await findFiles('./**/*.ipynb');\n",
    "console.log(`* found files include: ${JSON.stringify([...files])}`);"
   ]
  }
 ],
 "metadata": {
  "kernelspec": {
   "display_name": "JavaScript",
   "language": "javascript",
   "name": "jslab"
  },
  "language_info": {
   "file_extension": ".js",
   "mimetype": "text/javascript",
   "name": "javascript",
   "version": ""
  }
 },
 "nbformat": 4,
 "nbformat_minor": 4
}

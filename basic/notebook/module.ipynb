{
 "cells": [
  {
   "cell_type": "markdown",
   "metadata": {},
   "source": [
    "# Nodejs Modules "
   ]
  },
  {
   "cell_type": "markdown",
   "metadata": {},
   "source": [
    "## 1. Define and require module"
   ]
  },
  {
   "cell_type": "code",
   "execution_count": 1,
   "metadata": {},
   "outputs": [
    {
     "name": "stdout",
     "output_type": "stream",
     "text": [
      "* function add(10, 20) return: 30\n",
      "* person object is: name: Alvin, age: 40, gender: M\n"
     ]
    }
   ],
   "source": [
    "{\n",
    "    const {add, Person} = require('./modules');\n",
    "    \n",
    "    const r = add(10, 20);\n",
    "    console.log(`* function add(10, 20) return: ${r}`);\n",
    "\n",
    "    const person = new Person('Alvin', 40, 'M');\n",
    "    console.log(`* person object is: ${person}`);\n",
    "}"
   ]
  }
 ],
 "metadata": {
  "kernelspec": {
   "display_name": "JavaScript",
   "language": "javascript",
   "name": "jslab"
  },
  "language_info": {
   "file_extension": ".js",
   "mimetype": "text/javascript",
   "name": "javascript",
   "version": ""
  }
 },
 "nbformat": 4,
 "nbformat_minor": 4
}

{
 "cells": [
  {
   "cell_type": "markdown",
   "metadata": {},
   "source": [
    "# Async call"
   ]
  },
  {
   "cell_type": "markdown",
   "metadata": {},
   "source": [
    "## 1. Callback"
   ]
  },
  {
   "cell_type": "code",
   "execution_count": 1,
   "metadata": {},
   "outputs": [],
   "source": [
    "{\n",
    "    function after(ok, ms, success, error = null) {\n",
    "        setTimeout(() => {\n",
    "            if (ok) {\n",
    "                success(\"OK\");\n",
    "            } else if (error) {\n",
    "                error(\"Error caused\");\n",
    "            }\n",
    "        }, ms);\n",
    "    }\n",
    "    \n",
    "    after(true, 100, \n",
    "          msg => console.log(`* function call success, message is \"${msg}\"`), \n",
    "          err => console.log(`* function call error, exception is \"${err}\"`));\n",
    "    \n",
    "    after(false, 100, \n",
    "          msg => console.log(`* function call success, message is \"${msg}\"`), \n",
    "          err => console.log(`* function call error, exception is \"${err}\"`));\n",
    "}"
   ]
  },
  {
   "cell_type": "markdown",
   "metadata": {},
   "source": [
    "## 2. Event"
   ]
  },
  {
   "cell_type": "code",
   "execution_count": 2,
   "metadata": {},
   "outputs": [],
   "source": [
    "const {EventEmitter} = require('events');\n",
    "\n",
    "{\n",
    "    function after(success, ms) {\n",
    "        const emitter = new EventEmitter();\n",
    "\n",
    "        setTimeout(() => {\n",
    "            if (success) {\n",
    "                emitter.emit('success', 'OK');\n",
    "            } else {\n",
    "                emitter.emit('error', 'Error caused');\n",
    "            }\n",
    "        }, ms);\n",
    "\n",
    "        return emitter;\n",
    "    }\n",
    "    \n",
    "    \n",
    "    let emitter = after(true, 100);\n",
    "    emitter.on('success', msg => console.log(`* function call success, message is \"${msg}\"`));\n",
    "    emitter.on('error', err => console.log(`* function call error, exception is \"${err}\"`));\n",
    "    \n",
    "    emitter = after(false, 100);\n",
    "    emitter.on('success', msg => console.log(`* function call success, message is \"${msg}\"`));\n",
    "    emitter.on('error', err => console.log(`* function call error, exception is \"${err}\"`));\n",
    "}"
   ]
  },
  {
   "cell_type": "markdown",
   "metadata": {},
   "source": [
    "## 3. Promise"
   ]
  },
  {
   "cell_type": "markdown",
   "metadata": {},
   "source": [
    "### 3.1. promise chain"
   ]
  },
  {
   "cell_type": "code",
   "execution_count": 3,
   "metadata": {},
   "outputs": [],
   "source": [
    "{\n",
    "    function after(success, ms) {\n",
    "        return new Promise((resolve, reject) => {\n",
    "            setTimeout(() => {\n",
    "                if (success) {\n",
    "                    resolve('OK');\n",
    "                } else {\n",
    "                    reject('Error caused');\n",
    "                }\n",
    "            }, ms);\n",
    "        });\n",
    "    }\n",
    "    \n",
    "    after(true, 100)\n",
    "        .then(msg => console.log(`* function call success, message is \"${msg}\"`))\n",
    "        .catch(err => console.log(`* function call error, exception is \"${err}\"`));\n",
    "    \n",
    "    after(false, 100)\n",
    "        .then(msg => console.log(`* function call success, message is \"${msg}\"`))\n",
    "        .catch(err => console.log(`* function call error, exception is \"${err}\"`));\n",
    "}"
   ]
  },
  {
   "cell_type": "markdown",
   "metadata": {},
   "source": [
    "### 3.2. await"
   ]
  },
  {
   "cell_type": "code",
   "execution_count": 4,
   "metadata": {},
   "outputs": [
    {
     "name": "stdout",
     "output_type": "stream",
     "text": [
      "* function call success, message is \"OK\"\n",
      "* function call error, exception is \"Error caused\"\n",
      "* function call success, message is \"OK\"\n",
      "* function call error, exception is \"Error caused\"\n",
      "* function call success, message is \"OK\"\n",
      "* function call error, exception is \"Error caused\"\n",
      "* function call success, message is \"OK\"\n",
      "* function call error, exception is \"Error caused\"\n",
      "* call after 3 times, cost: 309.2616379999997, and results is: [\"OK\", \"OK\", \"OK\"]\n",
      "* call after 3 times, cost: 101.23955499999937, and results is: [\"OK\",\"OK\",\"OK\"]\n",
      "* call after 3 times, cost: 101.58947399999985, and results is: [\"OK\",\"OK\",\"OK\"]\n"
     ]
    }
   ],
   "source": [
    "{\n",
    "    function after(success, ms) {\n",
    "        return new Promise((resolve, reject) => {\n",
    "            setTimeout(() => {\n",
    "                if (success) {\n",
    "                    resolve('OK');\n",
    "                } else {\n",
    "                    reject('Error caused');\n",
    "                }\n",
    "            }, ms);\n",
    "        });\n",
    "    }\n",
    "    \n",
    "    try {\n",
    "        const msg = await after(true, 100);\n",
    "        console.log(`* function call success, message is \"${msg}\"`);\n",
    "    } catch (err) {\n",
    "        console.log(`* function call error, exception is \"${err}\"`);\n",
    "    }\n",
    "    \n",
    "    try {\n",
    "        const msg = await after(false, 100);\n",
    "        console.log(`* function call success, message is \"${msg}\"`);\n",
    "    } catch (err) {\n",
    "        console.log(`* function call error, exception is \"${err}\"`);\n",
    "    }\n",
    "    \n",
    "    \n",
    "    let time = process.uptime();\n",
    "    let r1 = await after(true, 100);\n",
    "    let r2 = await after(true, 100);\n",
    "    let r3 = await after(true, 100);\n",
    "    console.log(`* call after 3 times, cost: ${(process.uptime() - time) * 1000}, and results is: [\"${r1}\", \"${r2}\", \"${r3}\"]`);\n",
    "    \n",
    "    \n",
    "    time = process.uptime();\n",
    "    Promise.all([\n",
    "        after(true, 100),\n",
    "        after(true, 100),\n",
    "        after(true, 100)\n",
    "    ]).then(rs => console.log(`* call after 3 times, cost: ${(process.uptime() - time) * 1000}, and results is: ${JSON.stringify(rs)}`));\n",
    "    \n",
    "    \n",
    "    time = process.uptime();\n",
    "    let rs = await Promise.all([\n",
    "        after(true, 100),\n",
    "        after(true, 100),\n",
    "        after(true, 100)\n",
    "    ]);\n",
    "    console.log(`* call after 3 times, cost: ${(process.uptime() - time) * 1000}, and results is: ${JSON.stringify(rs)}`);\n",
    "}"
   ]
  },
  {
   "cell_type": "markdown",
   "metadata": {},
   "source": [
    "### 3.3. async"
   ]
  },
  {
   "cell_type": "code",
   "execution_count": 5,
   "metadata": {},
   "outputs": [
    {
     "name": "stdout",
     "output_type": "stream",
     "text": [
      "* function call success, message is \"OK, success\"\n",
      "* function call success, message is \"OK, success\"\n",
      "* function call error, exception is \"Error caused\"\n",
      "* function call error, exception is \"Error caused\"\n"
     ]
    }
   ],
   "source": [
    "{\n",
    "    function after(success, ms) {\n",
    "        return new Promise((resolve, reject) => {\n",
    "            setTimeout(() => {\n",
    "                if (success) {\n",
    "                    resolve('OK');\n",
    "                } else {\n",
    "                    reject('Error caused');\n",
    "                }\n",
    "            }, ms);\n",
    "        });\n",
    "    }\n",
    "    \n",
    "    async function runSuccess() {\n",
    "        const res = await after(true, 200);\n",
    "        return res + ', success';\n",
    "    }\n",
    "    \n",
    "    runSuccess()\n",
    "        .then(msg => console.log(`* function call success, message is \"${msg}\"`))\n",
    "        .catch(err => console.log(`* function call error, exception is \"${err}\"`));\n",
    "    \n",
    "    try {\n",
    "        const msg = await runSuccess();\n",
    "        console.log(`* function call success, message is \"${msg}\"`);\n",
    "    } catch (err) {\n",
    "        console.log(`* function call error, exception is \"${err}\"`);\n",
    "    }\n",
    "    \n",
    "    \n",
    "    async function runError() {\n",
    "        const res = await after(false, 200);\n",
    "        return res + ', error';\n",
    "    }\n",
    "    \n",
    "    runError()\n",
    "        .then(msg => console.log(`* function call success, message is \"${msg}\"`))\n",
    "        .catch(err => console.log(`* function call error, exception is \"${err}\"`));\n",
    "    \n",
    "    try {\n",
    "        const msg = await runError();\n",
    "        console.log(`* function call success, message is \"${msg}\"`);\n",
    "    } catch (err) {\n",
    "        console.log(`* function call error, exception is \"${err}\"`);\n",
    "    }\n",
    "}"
   ]
  }
 ],
 "metadata": {
  "kernelspec": {
   "display_name": "JavaScript",
   "language": "javascript",
   "name": "jslab"
  },
  "language_info": {
   "file_extension": ".js",
   "mimetype": "text/javascript",
   "name": "javascript",
   "version": ""
  }
 },
 "nbformat": 4,
 "nbformat_minor": 4
}

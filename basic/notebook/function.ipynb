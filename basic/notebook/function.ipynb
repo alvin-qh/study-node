{
 "cells": [
  {
   "cell_type": "markdown",
   "metadata": {},
   "source": [
    "# Functions"
   ]
  },
  {
   "cell_type": "markdown",
   "metadata": {},
   "source": [
    "## 1. Call function"
   ]
  },
  {
   "cell_type": "markdown",
   "metadata": {},
   "source": [
    "### 1.1. Attach 'this' reference to function"
   ]
  },
  {
   "cell_type": "code",
   "execution_count": 1,
   "metadata": {},
   "outputs": [
    {
     "name": "stdout",
     "output_type": "stream",
     "text": [
      "* \"call(add1, null, 100)\" return: 100\n",
      "* \"call(add1, null, 100)\" return: 300\n",
      "* \"call(add2, obj)\" return: 100\n",
      "* \"call(add2, obj, 200)\" return: 300\n",
      "* \"call(add2, obj, 200)\" return: 100 Hello\n"
     ]
    }
   ],
   "source": [
    "{\n",
    "    function call(fn, thisObj, ...args) {\n",
    "        if (typeof fn !== 'function') {\n",
    "            return null;\n",
    "        }\n",
    "        if (args.length) {\n",
    "            return fn.apply(thisObj, args);  // call function and attach 'this' reference with arguments\n",
    "        }\n",
    "        return fn.call(thisObj);  // call function and attach 'this' reference without arguments\n",
    "    }\n",
    "    \n",
    "    \n",
    "    function add1(...args) {\n",
    "        if (!args.length) {\n",
    "            return null;\n",
    "        }\n",
    "        \n",
    "        let res = args[0];\n",
    "        for (let i = 1; i < args.length; i++) {\n",
    "            res += args[i];\n",
    "        }\n",
    "        return res;\n",
    "    }\n",
    "    \n",
    "    let r = call(add1, null, 100);\n",
    "    console.log(`* \"call(add1, null, 100)\" return: ${r}`);\n",
    "    \n",
    "    r = call(add1, null, 100, 200);\n",
    "    console.log(`* \"call(add1, null, 100)\" return: ${r}`);\n",
    "\n",
    "    \n",
    "    function add2(...args) {\n",
    "        if (!args.length) {\n",
    "            return this.value;\n",
    "        }\n",
    "\n",
    "        let res = args[0];\n",
    "        for (let i = 1; i < args.length; i++) {\n",
    "            res += args[i];\n",
    "        }\n",
    "        return this.value + res;  // use 'this' reference which attached on this function\n",
    "    }\n",
    "    \n",
    "    let obj = {value: 100};  // define a object as 'this' reference of 'add' function\n",
    "    \n",
    "    r = call(add2, obj);\n",
    "    console.log(`* \"call(add2, obj)\" return: ${r}`);\n",
    "    \n",
    "    r = call(add2, obj, 200);\n",
    "    console.log(`* \"call(add2, obj, 200)\" return: ${r}`);\n",
    "    \n",
    "    r = call(add2, obj, ' Hello');\n",
    "    console.log(`* \"call(add2, obj, 200)\" return: ${r}`);\n",
    "}"
   ]
  },
  {
   "cell_type": "markdown",
   "metadata": {},
   "source": [
    "### 1.2. Bind function"
   ]
  },
  {
   "cell_type": "code",
   "execution_count": 2,
   "metadata": {},
   "outputs": [
    {
     "name": "stdout",
     "output_type": "stream",
     "text": [
      "* when \"fn = bind(add1, null, 100)\", fn(200) is: 300\n",
      "* when \"fn = bind(add1, null, 100)\", fn(200) is: 400\n"
     ]
    }
   ],
   "source": [
    "{\n",
    "    function bind(fn, thisObj, ...args) {\n",
    "        if (typeof fn !== 'function') {\n",
    "            return null;\n",
    "        }\n",
    "        if (args.length) {\n",
    "            return fn.bind(thisObj, ...args);\n",
    "        }\n",
    "        return fn.bind(thisObj);\n",
    "    }\n",
    "    \n",
    "    \n",
    "    function add1(...args) {\n",
    "        if (!args.length) {\n",
    "            return null;\n",
    "        }\n",
    "        \n",
    "        let res = args[0];\n",
    "        for (let i = 1; i < args.length; i++) {\n",
    "            res += args[i];\n",
    "        }\n",
    "        return res;\n",
    "    }\n",
    "    \n",
    "    let fn = bind(add1, null, 100);\n",
    "    let r = fn(200);\n",
    "    console.log(`* when \"fn = bind(add1, null, 100)\", fn(200) is: ${r}`);\n",
    "    \n",
    "    \n",
    "    function add2(...args) {\n",
    "        if (!args.length) {\n",
    "            return null;\n",
    "        }\n",
    "        \n",
    "        let res = args[0];\n",
    "        for (let i = 1; i < args.length; i++) {\n",
    "            res += args[i];\n",
    "        }\n",
    "        return this.value + res;\n",
    "    }\n",
    "    \n",
    "    const obj = {value: 100};\n",
    "\n",
    "    fn = bind(add2, obj, 100);\n",
    "    r = fn(200);\n",
    "    console.log(`* when \"fn = bind(add1, null, 100)\", fn(200) is: ${r}`);\n",
    "}"
   ]
  },
  {
   "cell_type": "markdown",
   "metadata": {},
   "source": [
    "## 2. Make function"
   ]
  },
  {
   "cell_type": "markdown",
   "metadata": {},
   "source": [
    "### 2.1. Make function from string"
   ]
  },
  {
   "cell_type": "code",
   "execution_count": 3,
   "metadata": {},
   "outputs": [
    {
     "name": "stdout",
     "output_type": "stream",
     "text": [
      "* when \"fn = makeFunction(null, 'return a + b;', 'a', 'b')\", fn(10. 20) is: 30\n",
      "* when \"fn = makeFunction(obj, 'return this.value + a;', 'a')\", fn(10) is: 110\n"
     ]
    }
   ],
   "source": [
    "{\n",
    "    function makeFunction(thisObj, strFn, ...argNames) {\n",
    "        if (argNames.length) {\n",
    "            argNames.push(strFn);\n",
    "            return Function.prototype.constructor.apply(null, argNames).bind(thisObj);\n",
    "        }\n",
    "        return new Function(strFn).bind(thisObj);\n",
    "    }\n",
    "    \n",
    "    \n",
    "    let fn = makeFunction(null, 'return a + b;', 'a', 'b');\n",
    "    let r = fn(10, 20);\n",
    "    console.log(`* when \"fn = makeFunction(null, 'return a + b;', 'a', 'b')\", fn(10. 20) is: ${r}`);\n",
    "    \n",
    "    const obj = {value: 100};\n",
    "    \n",
    "    fn = makeFunction(obj, 'return this.value + a;', 'a');\n",
    "    r = fn(10);\n",
    "    console.log(`* when \"fn = makeFunction(obj, 'return this.value + a;', 'a')\", fn(10) is: ${r}`);\n",
    "}"
   ]
  }
 ],
 "metadata": {
  "kernelspec": {
   "display_name": "JavaScript",
   "language": "javascript",
   "name": "jslab"
  },
  "language_info": {
   "file_extension": ".js",
   "mimetype": "text/javascript",
   "name": "javascript",
   "version": ""
  }
 },
 "nbformat": 4,
 "nbformat_minor": 4
}

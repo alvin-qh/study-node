{
 "cells": [
  {
   "cell_type": "markdown",
   "metadata": {},
   "source": [
    "# Sequelize"
   ]
  },
  {
   "cell_type": "markdown",
   "metadata": {},
   "source": [
    "> The document can find [here](https://sequelize.org/master/manual/getting-started.html)"
   ]
  },
  {
   "cell_type": "markdown",
   "metadata": {},
   "source": [
    "## 1. Setup"
   ]
  },
  {
   "cell_type": "markdown",
   "metadata": {},
   "source": [
    "### 1.1. Make connection"
   ]
  },
  {
   "cell_type": "code",
   "execution_count": null,
   "metadata": {},
   "outputs": [],
   "source": [
    "const {Sequelize, DataTypes, QueryTypes, Op} = require('sequelize');\n",
    "\n",
    "const sequelize = new Sequelize('study_node', 'root', 'root', {\n",
    "    host: 'localhost',\n",
    "    port: 3306,\n",
    "    dialect: 'mysql',\n",
    "    pool: {\n",
    "        max: 5,\n",
    "        min: 0,\n",
    "        idle: 10000\n",
    "    }\n",
    "});"
   ]
  },
  {
   "cell_type": "markdown",
   "metadata": {},
   "source": [
    "### 1.2. Create tables"
   ]
  },
  {
   "cell_type": "markdown",
   "metadata": {},
   "source": [
    "- Functions"
   ]
  },
  {
   "cell_type": "code",
   "execution_count": null,
   "metadata": {},
   "outputs": [],
   "source": [
    "const fs = require('fs');\n",
    "const path = require('path');\n",
    "\n",
    "async function createTables() {\n",
    "    /** @type {any}*/\n",
    "    let sqls = await fs.promises.readFile(path.join(process.cwd(), 'tables.sql'), 'utf-8');\n",
    "    console.log(`* read sql from file:`);\n",
    "    console.log(sqls);\n",
    "    \n",
    "    sqls = sqls.split(';').map(sql => sql.trim()).filter(sql => !!sql);\n",
    "    \n",
    "    const options = {type: QueryTypes.RAW};\n",
    "    \n",
    "    return await sequelize.transaction(async tx => {\n",
    "        const tasks = [];\n",
    "        for (let sql of sqls) {\n",
    "            tasks.push(await sequelize.query(sql, options));\n",
    "        }\n",
    "        return await tasks;\n",
    "    });\n",
    "}"
   ]
  },
  {
   "cell_type": "markdown",
   "metadata": {},
   "source": [
    "- Test"
   ]
  },
  {
   "cell_type": "code",
   "execution_count": null,
   "metadata": {},
   "outputs": [],
   "source": [
    "{\n",
    "    await createTables();\n",
    "    console.log(`* all tables created`);\n",
    "}"
   ]
  },
  {
   "cell_type": "markdown",
   "metadata": {},
   "source": [
    "### 1.3. Truncate tabel"
   ]
  },
  {
   "cell_type": "markdown",
   "metadata": {},
   "source": [
    "- Functions"
   ]
  },
  {
   "cell_type": "code",
   "execution_count": null,
   "metadata": {},
   "outputs": [],
   "source": [
    "async function truncateTables() {\n",
    "    const options = {type: QueryTypes.RAW};\n",
    "    return sequelize.transaction(async tx => {\n",
    "        return [\n",
    "            await sequelize.query('SET FOREIGN_KEY_CHECKS = 0;', options),\n",
    "            await sequelize.query('TRUNCATE TABLE user;', options),\n",
    "            await sequelize.query('TRUNCATE TABLE project;', options),\n",
    "            await sequelize.query('SET FOREIGN_KEY_CHECKS = 1;', options)\n",
    "        ];\n",
    "    });\n",
    "}"
   ]
  },
  {
   "cell_type": "markdown",
   "metadata": {},
   "source": [
    "- Test"
   ]
  },
  {
   "cell_type": "code",
   "execution_count": null,
   "metadata": {},
   "outputs": [],
   "source": [
    "{\n",
    "    await truncateTables();\n",
    "    console.log(`* tables truncated`);\n",
    "}"
   ]
  },
  {
   "cell_type": "markdown",
   "metadata": {},
   "source": [
    "## 2. Create entity models"
   ]
  },
  {
   "cell_type": "markdown",
   "metadata": {},
   "source": [
    "### 2.1. Define models"
   ]
  },
  {
   "cell_type": "code",
   "execution_count": null,
   "metadata": {},
   "outputs": [],
   "source": [
    "const DEFAULT_OPTS = {\n",
    "    freezeTableName: true,\n",
    "    timestamps: false\n",
    "};\n",
    "\n",
    "/** \n",
    " * @type {any}\n",
    " * Define User entity for table 'user'\n",
    " */\n",
    "const User = sequelize.define('user', {\n",
    "    id: {type: DataTypes.INTEGER, field: 'id', primaryKey: true, autoIncrement: true},\n",
    "    name: {type: DataTypes.STRING, field: 'name'},\n",
    "    gender: {type: DataTypes.STRING, field: 'gender'},\n",
    "    birthday: {type: DataTypes.DATE, field: 'birthday', allowNull: true},\n",
    "    phone: {type: DataTypes.STRING, field: 'phone'},\n",
    "    projectId: {type: DataTypes.INTEGER, field: 'project_id'}\n",
    "}, DEFAULT_OPTS);\n",
    "\n",
    "/** \n",
    " * @type {any}\n",
    " * Define Project entity for table 'project'\n",
    " */\n",
    "const Project = sequelize.define('project', {\n",
    "    id: {type: DataTypes.INTEGER, field: 'id', primaryKey: true, autoIncrement: true},\n",
    "    name: {type: DataTypes.STRING, field: 'name'},\n",
    "    type: {type: DataTypes.STRING, field: 'type'}\n",
    "}, DEFAULT_OPTS);"
   ]
  },
  {
   "cell_type": "markdown",
   "metadata": {},
   "source": [
    "### 2.2. Define Relationship"
   ]
  },
  {
   "cell_type": "code",
   "execution_count": null,
   "metadata": {},
   "outputs": [],
   "source": [
    "// User=>Project: Many to one\n",
    "User.belongsTo(Project, {as: 'project', foreignKey: 'project_id', targetKey: 'id'});\n",
    "\n",
    "// Project=>User: One to many\n",
    "Project.hasMany(User, {as: 'users', foreignKey: 'project_id'});"
   ]
  },
  {
   "cell_type": "markdown",
   "metadata": {},
   "source": [
    "## 3. Query"
   ]
  },
  {
   "cell_type": "markdown",
   "metadata": {},
   "source": [
    "### 3.1. Create data"
   ]
  },
  {
   "cell_type": "markdown",
   "metadata": {},
   "source": [
    "- Function"
   ]
  },
  {
   "cell_type": "code",
   "execution_count": null,
   "metadata": {},
   "outputs": [],
   "source": [
    "const moment = require('moment');\n",
    "\n",
    "async function createProject() {\n",
    "    return sequelize.transaction(async tx => {\n",
    "        return await Project.create({\n",
    "            name: 'ROOMIS',\n",
    "            type: 'DEV'\n",
    "        });\n",
    "    });\n",
    "}\n",
    "\n",
    "async function createUsers(project) {\n",
    "    return sequelize.transaction(async tx => {\n",
    "        return await Promise.all([\n",
    "            User.create({\n",
    "                name: 'Alvin',\n",
    "                gender: 'M',\n",
    "                birthday: moment.utc('1981-03-17'),\n",
    "                phone: '13991320110',\n",
    "                projectId: project.id\n",
    "            }),\n",
    "            User.create({\n",
    "                name: 'Emma',\n",
    "                gender: 'F',\n",
    "                birthday: moment.utc('1985-03-29'),\n",
    "                phone: '13991320112',\n",
    "                projectId: project.id\n",
    "            })\n",
    "        ]);\n",
    "    });\n",
    "}"
   ]
  },
  {
   "cell_type": "markdown",
   "metadata": {},
   "source": [
    "- Test"
   ]
  },
  {
   "cell_type": "code",
   "execution_count": null,
   "metadata": {},
   "outputs": [],
   "source": [
    "{\n",
    "    const project = await createProject();\n",
    "    console.log('* project created');\n",
    "    \n",
    "    await createUsers(project);\n",
    "    console.log('* users created');\n",
    "}"
   ]
  },
  {
   "cell_type": "markdown",
   "metadata": {},
   "source": [
    "### 3.2. Query user"
   ]
  },
  {
   "cell_type": "markdown",
   "metadata": {},
   "source": [
    "#### 3.2.1. Query user by name"
   ]
  },
  {
   "cell_type": "markdown",
   "metadata": {},
   "source": [
    "- Function"
   ]
  },
  {
   "cell_type": "code",
   "execution_count": null,
   "metadata": {},
   "outputs": [],
   "source": [
    "async function findUserByName(name) {\n",
    "    return await User.findAll({\n",
    "        where: {\n",
    "            name: name\n",
    "        }\n",
    "    });\n",
    "}"
   ]
  },
  {
   "cell_type": "markdown",
   "metadata": {},
   "source": [
    "- Test"
   ]
  },
  {
   "cell_type": "code",
   "execution_count": null,
   "metadata": {},
   "outputs": [],
   "source": [
    "{\n",
    "    const users = await findUserByName('Alvin');\n",
    "    console.log(`* there are ${users.length} users found.`);\n",
    "    \n",
    "    for (const user of users) {\n",
    "        console.log(`\\t user ${user.id}: ${JSON.stringify(user.toJSON())}`);\n",
    "    }\n",
    "}"
   ]
  },
  {
   "cell_type": "markdown",
   "metadata": {},
   "source": [
    "#### 3.2.2. Find user with some attribute"
   ]
  },
  {
   "cell_type": "markdown",
   "metadata": {},
   "source": [
    "- Function"
   ]
  },
  {
   "cell_type": "code",
   "execution_count": null,
   "metadata": {},
   "outputs": [],
   "source": [
    "async function findUserNameAndGenderByName(name) {\n",
    "    return await User.findAll({\n",
    "        attributes: ['name', 'gender'],\n",
    "        where: {\n",
    "            name: name\n",
    "        }\n",
    "    });\n",
    "}"
   ]
  },
  {
   "cell_type": "markdown",
   "metadata": {},
   "source": [
    "- Test"
   ]
  },
  {
   "cell_type": "code",
   "execution_count": null,
   "metadata": {},
   "outputs": [],
   "source": [
    "{\n",
    "    const users = await findUserNameAndGenderByName('Emma');\n",
    "    console.log(`* there are ${users.length} users found.`);\n",
    "    \n",
    "    for (const user of users) {\n",
    "        console.log(`\\t user ${user.id}: ${JSON.stringify(user.toJSON())}`);\n",
    "    }\n",
    "}"
   ]
  },
  {
   "cell_type": "markdown",
   "metadata": {},
   "source": [
    "#### 3.2.3. Query user with sql function"
   ]
  },
  {
   "cell_type": "markdown",
   "metadata": {},
   "source": [
    "- Function"
   ]
  },
  {
   "cell_type": "code",
   "execution_count": null,
   "metadata": {},
   "outputs": [],
   "source": [
    "async function findUserNameLengthByName(name) {\n",
    "    return await User.findAll({\n",
    "        attributes: ['name', [Sequelize.fn('length', Sequelize.col('name')), 'length']],\n",
    "        where: {\n",
    "            name: name\n",
    "        }\n",
    "    });\n",
    "}"
   ]
  },
  {
   "cell_type": "markdown",
   "metadata": {},
   "source": [
    "- Test"
   ]
  },
  {
   "cell_type": "code",
   "execution_count": null,
   "metadata": {},
   "outputs": [],
   "source": [
    "{\n",
    "    const users = await findUserNameLengthByName('Alvin');\n",
    "    console.log(`* there are ${users.length} users found.`);\n",
    "    \n",
    "    for (const user of users) {\n",
    "        console.log(`\\t user ${user.id}: ${JSON.stringify(user.toJSON())}`);\n",
    "    }\n",
    "}"
   ]
  },
  {
   "cell_type": "markdown",
   "metadata": {},
   "source": [
    "#### 3.2.4. Query user use like operator"
   ]
  },
  {
   "cell_type": "markdown",
   "metadata": {},
   "source": [
    "- Function"
   ]
  },
  {
   "cell_type": "code",
   "execution_count": null,
   "metadata": {},
   "outputs": [],
   "source": [
    "async function findUserByNameLike(name) {\n",
    "    return await User.findAll({\n",
    "        where: {\n",
    "            name: {\n",
    "                [Op.like]: `${name}%`\n",
    "            }\n",
    "        }\n",
    "    });\n",
    "}"
   ]
  },
  {
   "cell_type": "markdown",
   "metadata": {},
   "source": [
    "- Test"
   ]
  },
  {
   "cell_type": "code",
   "execution_count": null,
   "metadata": {},
   "outputs": [],
   "source": [
    "{\n",
    "    const users = await findUserByNameLike('A');\n",
    "    console.log(`* there are ${users.length} users found.`);\n",
    "    \n",
    "    for (const user of users) {\n",
    "        console.log(`\\t user ${user.id}: ${JSON.stringify(user.toJSON())}`);\n",
    "    }\n",
    "}"
   ]
  },
  {
   "cell_type": "markdown",
   "metadata": {},
   "source": [
    "#### 3.2.5. Query by more conditions"
   ]
  },
  {
   "cell_type": "markdown",
   "metadata": {},
   "source": [
    "- Function"
   ]
  },
  {
   "cell_type": "code",
   "execution_count": null,
   "metadata": {},
   "outputs": [],
   "source": [
    "async function findUserByNameGenderAndBirthYear(name, gender, birthYear) {\n",
    "    const beginDate = moment().utc().year(birthYear).month(1).startOf('month');\n",
    "    const endDate = moment().utc().year(birthYear).month(12).endOf('month');\n",
    "\n",
    "    return await User.findAll({\n",
    "        where: {\n",
    "            [Op.and]: {\n",
    "                name: name,\n",
    "                gender: gender\n",
    "            },\n",
    "            birthday: {\n",
    "                [Op.or]: {\n",
    "                    [Op.gte]: beginDate,\n",
    "                    [Op.lte]: endDate\n",
    "                }\n",
    "            }\n",
    "        }\n",
    "    });\n",
    "}"
   ]
  },
  {
   "cell_type": "markdown",
   "metadata": {},
   "source": [
    "- Test"
   ]
  },
  {
   "cell_type": "code",
   "execution_count": null,
   "metadata": {},
   "outputs": [],
   "source": [
    "{\n",
    "    const users = await findUserByNameGenderAndBirthYear('Alvin', 'M', 1981);\n",
    "    console.log(`* there are ${users.length} users found.`);\n",
    "    \n",
    "    for (const user of users) {\n",
    "        console.log(`\\t user ${user.id}: ${JSON.stringify(user.toJSON())}`);\n",
    "    }\n",
    "}"
   ]
  },
  {
   "cell_type": "markdown",
   "metadata": {},
   "source": [
    "#### 3.2.5 Query pagination"
   ]
  },
  {
   "cell_type": "markdown",
   "metadata": {},
   "source": [
    "- Functions"
   ]
  },
  {
   "cell_type": "code",
   "execution_count": null,
   "metadata": {},
   "outputs": [],
   "source": [
    "async function findUserByNameAndPage(name, pagination) {\n",
    "    const offset = (pagination.page - 1) * pagination.perpage;\n",
    "    const limit = pagination.perpage;\n",
    "          \n",
    "    return await User.findAll({\n",
    "        where: {\n",
    "            name: {\n",
    "                [Op.like]: `${name}%`\n",
    "            }\n",
    "        },\n",
    "        offset, limit\n",
    "    });\n",
    "}"
   ]
  },
  {
   "cell_type": "markdown",
   "metadata": {},
   "source": [
    "- Test"
   ]
  },
  {
   "cell_type": "code",
   "execution_count": null,
   "metadata": {},
   "outputs": [],
   "source": [
    "{\n",
    "    const users = await findUserByNameAndPage('A', {\n",
    "        page: 1,\n",
    "        perpage: 10\n",
    "    });\n",
    "    console.log(`* there are ${users.length} users found.`);\n",
    "    \n",
    "    for (const user of users) {\n",
    "        console.log(`\\t user ${user.id}: ${JSON.stringify(user.toJSON())}`);\n",
    "    }\n",
    "}"
   ]
  },
  {
   "cell_type": "markdown",
   "metadata": {},
   "source": [
    "#### 2.3.6. Count query"
   ]
  },
  {
   "cell_type": "markdown",
   "metadata": {},
   "source": [
    "- Function"
   ]
  },
  {
   "cell_type": "code",
   "execution_count": null,
   "metadata": {},
   "outputs": [],
   "source": [
    "async function countUserByGender(gender) {\n",
    "    return await User.count({\n",
    "        where: {\n",
    "            gender: gender\n",
    "        }\n",
    "    });\n",
    "}"
   ]
  },
  {
   "cell_type": "markdown",
   "metadata": {},
   "source": [
    "- Test"
   ]
  },
  {
   "cell_type": "code",
   "execution_count": null,
   "metadata": {},
   "outputs": [],
   "source": [
    "{\n",
    "    const count = await countUserByGender('M');\n",
    "    console.log(`* there are ${count} user by gender 'M'`);\n",
    "}"
   ]
  },
  {
   "cell_type": "markdown",
   "metadata": {},
   "source": [
    "#### 2.3.7. Query by order"
   ]
  },
  {
   "cell_type": "markdown",
   "metadata": {},
   "source": [
    "- Function"
   ]
  },
  {
   "cell_type": "code",
   "execution_count": null,
   "metadata": {},
   "outputs": [],
   "source": [
    "async function queryUserOrderByBirthday() {\n",
    "    return await User.findAll({\n",
    "        order: [\n",
    "            ['birthday', 'DESC']\n",
    "        ]\n",
    "    });\n",
    "}"
   ]
  },
  {
   "cell_type": "markdown",
   "metadata": {},
   "source": [
    "- Test"
   ]
  },
  {
   "cell_type": "code",
   "execution_count": null,
   "metadata": {},
   "outputs": [],
   "source": [
    "{\n",
    "    const users = await queryUserOrderByBirthday();\n",
    "    console.log(`* there are ${users.length} users found.`);\n",
    "    \n",
    "    for (const user of users) {\n",
    "        console.log(`\\t user ${user.id}: ${JSON.stringify(user.toJSON())}`);\n",
    "    }\n",
    "}"
   ]
  },
  {
   "cell_type": "markdown",
   "metadata": {},
   "source": [
    "#### 2.3.8. Grouping"
   ]
  },
  {
   "cell_type": "markdown",
   "metadata": {},
   "source": [
    "- Function"
   ]
  },
  {
   "cell_type": "code",
   "execution_count": null,
   "metadata": {},
   "outputs": [],
   "source": [
    "async function queryMaxBirthdayByGender() {\n",
    "    return await User.findAll({\n",
    "        attributes: ['gender', [Sequelize.fn('max', Sequelize.col('birthday')), 'maxBirthday']],\n",
    "        group: 'gender'\n",
    "    });\n",
    "}"
   ]
  },
  {
   "cell_type": "markdown",
   "metadata": {},
   "source": [
    "- Test"
   ]
  },
  {
   "cell_type": "code",
   "execution_count": null,
   "metadata": {},
   "outputs": [],
   "source": [
    "{\n",
    "    const users = await queryMaxBirthdayByGender();\n",
    "    console.log(`* there are ${users.length} users found.`);\n",
    "    \n",
    "    for (const user of users) {\n",
    "        console.log(`\\t user ${user.gender}: ${moment(user.get('maxBirthday')).utc().format()}`);\n",
    "    }\n",
    "}"
   ]
  },
  {
   "cell_type": "markdown",
   "metadata": {},
   "source": [
    "### 3.3. Relationship"
   ]
  },
  {
   "cell_type": "markdown",
   "metadata": {},
   "source": [
    "#### 3.3.1. Query by relationship"
   ]
  },
  {
   "cell_type": "markdown",
   "metadata": {},
   "source": [
    "- Function"
   ]
  },
  {
   "cell_type": "code",
   "execution_count": null,
   "metadata": {},
   "outputs": [],
   "source": [
    "async function findProjectWithUsers(name) {\n",
    "    const projects = await Project.findAll({\n",
    "        where: {\n",
    "            name: name\n",
    "        }\n",
    "    });\n",
    "    \n",
    "    const result = [];\n",
    "    for (let pro of projects) {\n",
    "        result.push({project: pro, users: await pro.getUsers()});\n",
    "    }\n",
    "    return result;\n",
    "}"
   ]
  },
  {
   "cell_type": "markdown",
   "metadata": {},
   "source": [
    "- Test"
   ]
  },
  {
   "cell_type": "code",
   "execution_count": null,
   "metadata": {},
   "outputs": [],
   "source": [
    "{\n",
    "    const groups = await findProjectWithUsers('ROOMIS');\n",
    "    for (let group of groups) {\n",
    "        console.log(`* project ${JSON.stringify(group.project.toJSON())}: `);\n",
    "        \n",
    "        for (let user of group.users) {\n",
    "            console.log(`\\t user ${JSON.stringify(user.toJSON())}: `);\n",
    "        }\n",
    "    }\n",
    "}"
   ]
  },
  {
   "cell_type": "markdown",
   "metadata": {},
   "source": [
    "#### 3.3.2. Query by join"
   ]
  },
  {
   "cell_type": "markdown",
   "metadata": {},
   "source": [
    "- Function"
   ]
  },
  {
   "cell_type": "code",
   "execution_count": null,
   "metadata": {},
   "outputs": [],
   "source": [
    "async function findProjectJoinUsers(name) {\n",
    "    return await Project.findAll({\n",
    "        where: {\n",
    "            name: name\n",
    "        },\n",
    "        include: [\n",
    "             {model: User, as: 'users', required: true}   // required: [true: inner join, false: left outer join]\n",
    "        ]\n",
    "    });\n",
    "}"
   ]
  },
  {
   "cell_type": "markdown",
   "metadata": {},
   "source": [
    "- Test"
   ]
  },
  {
   "cell_type": "code",
   "execution_count": null,
   "metadata": {},
   "outputs": [],
   "source": [
    "{\n",
    "    const projects = await findProjectJoinUsers('ROOMIS');\n",
    "    for (let pro of projects) {\n",
    "        console.log(`* project ${JSON.stringify({id: pro.id, name: pro.name, type: pro.type})}: `);\n",
    "        \n",
    "        for (let user of pro.users) {  // do not use 'pro.getUsers()', it will generate new sql query\n",
    "            console.log(`\\t user ${JSON.stringify(user.toJSON())}: `);\n",
    "        }\n",
    "    }\n",
    "}"
   ]
  },
  {
   "cell_type": "markdown",
   "metadata": {},
   "source": [
    "### 3.4. Update"
   ]
  },
  {
   "cell_type": "markdown",
   "metadata": {},
   "source": [
    "#### 3.4.1. Update User by model"
   ]
  },
  {
   "cell_type": "markdown",
   "metadata": {},
   "source": [
    "- Function"
   ]
  },
  {
   "cell_type": "code",
   "execution_count": null,
   "metadata": {},
   "outputs": [],
   "source": [
    "async function updateUserModelByName(name, gender, birthday, phone) {\n",
    "    return await sequelize.transaction(async tx => {\n",
    "        const users = await findUserByName(name);\n",
    "        if (users.length === 0) {\n",
    "            return;\n",
    "        }\n",
    "        const user = users[0];\n",
    "        user.set('gender', gender);\n",
    "        user.set('birthday', birthday);\n",
    "        user.set('phone', phone);\n",
    "        return await user.save();\n",
    "    });\n",
    "}"
   ]
  },
  {
   "cell_type": "markdown",
   "metadata": {},
   "source": [
    "- Test"
   ]
  },
  {
   "cell_type": "code",
   "execution_count": null,
   "metadata": {},
   "outputs": [],
   "source": [
    "{\n",
    "    await updateUserModelByName('Alvin', 'M', moment.utc('1981-03-18'), '13999991919');\n",
    "    const user = (await findUserByName('Alvin'))[0];\n",
    "    console.log(`* after update, user is: ${JSON.stringify(user.toJSON())}`);\n",
    "}"
   ]
  },
  {
   "cell_type": "markdown",
   "metadata": {},
   "source": [
    "#### 3.4.2. Update user by condition"
   ]
  },
  {
   "cell_type": "markdown",
   "metadata": {},
   "source": [
    "- Function"
   ]
  },
  {
   "cell_type": "code",
   "execution_count": null,
   "metadata": {},
   "outputs": [],
   "source": [
    "async function updateUserByNameCondition(name, gender, birthday, phone) {\n",
    "    return await sequelize.transaction(async tx => {\n",
    "        return await User.update({\n",
    "            gender: gender,\n",
    "            birthday: birthday,\n",
    "            phone: phone\n",
    "        }, {\n",
    "            where: {\n",
    "                name: name\n",
    "            }\n",
    "        });\n",
    "    });\n",
    "}"
   ]
  },
  {
   "cell_type": "markdown",
   "metadata": {},
   "source": [
    "- Test"
   ]
  },
  {
   "cell_type": "code",
   "execution_count": null,
   "metadata": {},
   "outputs": [],
   "source": [
    "{\n",
    "    await updateUserByNameCondition('Alvin', 'M', moment.utc('1981-03-17'), '13990909099');\n",
    "    const user = (await findUserByName('Alvin'))[0];\n",
    "    console.log(`* after update, user is: ${JSON.stringify(user.toJSON())}`);\n",
    "}"
   ]
  },
  {
   "cell_type": "markdown",
   "metadata": {},
   "source": [
    "### 3.5. Delete"
   ]
  },
  {
   "cell_type": "markdown",
   "metadata": {},
   "source": [
    "#### 3.5.1. Delete user by model"
   ]
  },
  {
   "cell_type": "markdown",
   "metadata": {},
   "source": [
    "- Function"
   ]
  },
  {
   "cell_type": "code",
   "execution_count": null,
   "metadata": {},
   "outputs": [],
   "source": [
    "async function deleteUserModelByName(name) {\n",
    "    return await sequelize.transaction(async tx => {\n",
    "        const users = await findUserByName(name);\n",
    "        if (users.length === 0) {\n",
    "            return;\n",
    "        }\n",
    "        return await users[0].destroy();\n",
    "    });\n",
    "}"
   ]
  },
  {
   "cell_type": "markdown",
   "metadata": {},
   "source": [
    "- Test"
   ]
  },
  {
   "cell_type": "code",
   "execution_count": null,
   "metadata": {},
   "outputs": [],
   "source": [
    "{\n",
    "    await deleteUserModelByName('Alvin');\n",
    "    const users = await findUserByName('Alvin');\n",
    "    console.log(`* after update, ${users.length} users name by 'Alvin'`);\n",
    "}"
   ]
  },
  {
   "cell_type": "markdown",
   "metadata": {},
   "source": [
    "#### 3.5.2. Delete user by condition"
   ]
  },
  {
   "cell_type": "markdown",
   "metadata": {},
   "source": [
    "- Function"
   ]
  },
  {
   "cell_type": "code",
   "execution_count": null,
   "metadata": {},
   "outputs": [],
   "source": [
    "async function deleteUserByNameCondition(name) {\n",
    "    return await sequelize.transaction(async tx => {\n",
    "        return User.destroy({\n",
    "            where: {\n",
    "                name: name\n",
    "            }\n",
    "        });\n",
    "    });\n",
    "}"
   ]
  },
  {
   "cell_type": "markdown",
   "metadata": {},
   "source": [
    "- Test"
   ]
  },
  {
   "cell_type": "code",
   "execution_count": null,
   "metadata": {},
   "outputs": [],
   "source": [
    "{\n",
    "    await deleteUserByNameCondition('Emma');\n",
    "    const users = await findUserByName('Emma');\n",
    "    console.log(`* after update, ${users.length} users name by 'Emma'`);\n",
    "}"
   ]
  }
 ],
 "metadata": {
  "kernelspec": {
   "display_name": "JavaScript",
   "language": "javascript",
   "name": "jslab"
  },
  "language_info": {
   "file_extension": ".js",
   "mimetype": "text/javascript",
   "name": "javascript",
   "version": ""
  }
 },
 "nbformat": 4,
 "nbformat_minor": 4
}

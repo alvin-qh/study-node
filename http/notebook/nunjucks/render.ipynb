{
 "cells": [
  {
   "cell_type": "markdown",
   "metadata": {},
   "source": [
    "# Nunjucks render\n",
    "\n",
    "Nunjucks template engine configs: \n",
    "- `autoescape`: (default `true`) if auto escaping output\n",
    "- `throwOnUndefined`: (default: false) throw exception if some variable undefined or is null\n",
    "- `trimBlocks`: (default: false) trim line break after block/tag\n",
    "- `lstripBlocks`: (default: false) clear  block/tag\n",
    "- `watch`: (default: false) reload if template file was change\n",
    "- `noCache`: (default: false) do not use cache, compile template everytime\n",
    "\n",
    "Web Browser configs:\n",
    "- `useCache`: (default: false) if browser can cache \n",
    "- `async`: (default: false) download template by ajax async\n",
    "\n",
    "Express framework configs:\n",
    "- `tags`: (default: see nunjucks syntax) define tag symbols of template，such as:\n",
    "    ```javascript\n",
    "    const env = nunjucks.configure('/path/to/templates', {\n",
    "        tags: {\n",
    "            blockStart: '<%',\n",
    "            blockEnd: '%>',\n",
    "            variableStart: '<$',\n",
    "          variableEnd: '$>',\n",
    "            commentStart: '<#',\n",
    "            commentEnd: '#>'\n",
    "        }\n",
    "    });\n",
    "    ```\n",
    "\n",
    "Compatibility with jinja2\n",
    "- `nunjucks.installJinjaCompat();`"
   ]
  },
  {
   "cell_type": "code",
   "execution_count": null,
   "metadata": {},
   "outputs": [],
   "source": [
    "const nunjucks = require('nunjucks');\n",
    "\n",
    "const env = nunjucks.configure('view', {\n",
    "    autoescape: true,\n",
    "    trimBlocks: true,\n",
    "    lstripBlocks: true\n",
    "});\n",
    "\n",
    "nunjucks.installJinjaCompat();"
   ]
  },
  {
   "cell_type": "code",
   "execution_count": null,
   "metadata": {},
   "outputs": [],
   "source": [
    "{\n",
    "    const html = nunjucks.renderString(`<b>{{ name }}</b>`, { 'name': 'Alvin' });\n",
    "    console.log(`* html is: ${html}`);\n",
    "}"
   ]
  },
  {
   "cell_type": "code",
   "execution_count": null,
   "metadata": {},
   "outputs": [],
   "source": [
    "{\n",
    "    nunjucks.renderString(`<b>{{ name }}</b>`, { 'name': 'Alvin' }, (err, html) => {\n",
    "        console.log(`* html is: ${html}`);\n",
    "    });\n",
    "}"
   ]
  },
  {
   "cell_type": "code",
   "execution_count": null,
   "metadata": {},
   "outputs": [],
   "source": [
    "{\n",
    "    const html = nunjucks.render('index.html', {\n",
    "        'title': 'Welcome Uunjucks',\n",
    "        'names': ['Alvin', 'Lily', 'Lucy', 'Tom']\n",
    "    });\n",
    "    console.log(`* html is:\\n${html}`);\n",
    "}"
   ]
  },
  {
   "cell_type": "code",
   "execution_count": null,
   "metadata": {},
   "outputs": [],
   "source": [
    "{\n",
    "    nunjucks.render('index.html', {\n",
    "        'title': 'Welcome Uunjucks',\n",
    "        'names': ['Alvin', 'Lily', 'Lucy', 'Tom']\n",
    "    }, (err, html) => {\n",
    "        console.log(`* html is:\\n${html}`);\n",
    "    });\n",
    "}"
   ]
  }
 ],
 "metadata": {
  "kernelspec": {
   "display_name": "JavaScript",
   "language": "javascript",
   "name": "jslab"
  },
  "language_info": {
   "file_extension": ".js",
   "mimetype": "text/javascript",
   "name": "javascript",
   "version": ""
  }
 },
 "nbformat": 4,
 "nbformat_minor": 4
}

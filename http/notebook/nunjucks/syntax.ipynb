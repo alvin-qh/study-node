{
 "cells": [
  {
   "cell_type": "code",
   "execution_count": null,
   "metadata": {},
   "outputs": [],
   "source": [
    "const nunjucks = require('nunjucks');\n",
    "\n",
    "const env = nunjucks.configure({\n",
    "    autoescape: true,\n",
    "    trimBlocks: true,\n",
    "    lstripBlocks: true\n",
    "});\n",
    "\n",
    "nunjucks.installJinjaCompat();"
   ]
  },
  {
   "cell_type": "code",
   "execution_count": null,
   "metadata": {},
   "outputs": [],
   "source": [
    "{\n",
    "    const template = `<b>{{ name }}</b>`;\n",
    "    \n",
    "    const html = nunjucks.renderString(template, { name: 'Lily' });\n",
    "    console.log(`* html is: ${html}`)\n",
    "}"
   ]
  },
  {
   "cell_type": "code",
   "execution_count": null,
   "metadata": {},
   "outputs": [],
   "source": [
    "{\n",
    "    const template = `<button class=\"{{ className }}\">{{ title }}</button>`;\n",
    "    \n",
    "    const html = nunjucks.renderString(template, { className: 'warning', title: 'Click me' });\n",
    "    console.log(`* html is: ${html}`)\n",
    "}"
   ]
  },
  {
   "cell_type": "code",
   "execution_count": null,
   "metadata": {},
   "outputs": [],
   "source": [
    "{\n",
    "    const template = `<button {{ attrName }}=\"{{ attrValue }}\">{{ title }}</button>`;\n",
    "    \n",
    "    const html = nunjucks.renderString(template, { attrName: 'class', attrValue: 'warning', title: 'Click me' });\n",
    "    console.log(`* html is: ${html}`)\n",
    "}"
   ]
  },
  {
   "cell_type": "code",
   "execution_count": null,
   "metadata": {},
   "outputs": [],
   "source": [
    "{\n",
    "    const template = `\n",
    "{%- set gender = { M: 'Male', F: 'Female' } %}\n",
    "<span>Gender: {{ gender[user.gender] or 'Unknown' }}</span>`;\n",
    "    \n",
    "    let html = nunjucks.renderString(template, { user: { gender: 'F' } });\n",
    "    console.log(`* html is: ${html}`);\n",
    "    \n",
    "    html = nunjucks.renderString(template, { user: { gender: 'M' } });\n",
    "    console.log(`* html is: ${html}`)\n",
    "    \n",
    "    html = nunjucks.renderString(template, { user: { gender: 'U' } });\n",
    "    console.log(`* html is: ${html}`)\n",
    "}"
   ]
  },
  {
   "cell_type": "code",
   "execution_count": null,
   "metadata": {},
   "outputs": [],
   "source": [
    "{\n",
    "    const template = `\n",
    "{%- if user.gender == 'M' -%}\n",
    "    <span>Gender: Male</span>\n",
    "{%- elif user.gender == 'F' -%}\n",
    "    <span>Gender: Female</span>\n",
    "{%- else -%}\n",
    "    <span>Gender: Unknown</span>\n",
    "{% endif %}`;\n",
    "    \n",
    "    let html = nunjucks.renderString(template, { user: { gender: 'F' } });\n",
    "    console.log(`* html is: ${html}`);\n",
    "    \n",
    "    html = nunjucks.renderString(template, { user: { gender: 'M' } });\n",
    "    console.log(`* html is: ${html}`)\n",
    "    \n",
    "    html = nunjucks.renderString(template, { user: { gender: 'U' } });\n",
    "    console.log(`* html is: ${html}`)\n",
    "}"
   ]
  },
  {
   "cell_type": "code",
   "execution_count": null,
   "metadata": {},
   "outputs": [],
   "source": [
    "{\n",
    "    const template = `\n",
    "<ul>\n",
    "    {% for job in jobs %}\n",
    "        <li>{{ job }}</li>\n",
    "    {% endfor %}\n",
    "</ul>`;\n",
    "    \n",
    "    const html = nunjucks.renderString(template, { jobs: ['Teacher', 'Developer', 'Manager'] });\n",
    "    console.log(`* html is: ${html}`);\n",
    "}"
   ]
  },
  {
   "cell_type": "markdown",
   "metadata": {},
   "source": [
    "\n",
    "        在循环中可获取一些特殊的变量\n",
    "        loop.index: 当前循环数 (1 indexed)\n",
    "        loop.index0: 当前循环数 (0 indexed)\n",
    "        loop.revindex: 当前循环数，从后往前 (1 indexed)\n",
    "        loop.revindex0: 当前循环数，从后往前 (0 based)\n",
    "        loop.first: 是否第一个\n",
    "        loop.last: 是否最后一个\n",
    "        loop.length: 总数\n",
    "        #}"
   ]
  },
  {
   "cell_type": "code",
   "execution_count": null,
   "metadata": {},
   "outputs": [],
   "source": [
    "{\n",
    "    const template = `\n",
    "<table>\n",
    "    <tbody>\n",
    "    {% set classNames = ['single', 'double'] -%}\n",
    "\n",
    "    {% for color in colors %}\n",
    "        <tr class=\"{{ classNames[loop.index0 % 2] }}\">\n",
    "            <td>{{ loop.index }}. {{ color }}</td>\n",
    "        </tr>\n",
    "    {% endfor %}\n",
    "    </tbody>\n",
    "</table>`;\n",
    "    \n",
    "    const html = nunjucks.renderString(template, { colors: ['red', 'black', 'blue', 'white', 'green'] });\n",
    "    console.log(`* html is: ${html}`);\n",
    "}"
   ]
  },
  {
   "cell_type": "code",
   "execution_count": null,
   "metadata": {},
   "outputs": [],
   "source": [
    "{\n",
    "    const template = `\n",
    "<table>\n",
    "    <tbody>\n",
    "    {% set classNames = ['single', 'double'] -%}\n",
    "\n",
    "    {% for num in range(1, max) %}\n",
    "        <tr class=\"{{ classNames[loop.index0 % 2] }}\">\n",
    "            <td>{{ num }}</td>\n",
    "        </tr>\n",
    "    {% endfor %}\n",
    "    </tbody>\n",
    "</table>`;\n",
    "    \n",
    "    const html = nunjucks.renderString(template, { max: 10 });\n",
    "    console.log(`* html is: ${html}`);\n",
    "}"
   ]
  },
  {
   "cell_type": "code",
   "execution_count": null,
   "metadata": {},
   "outputs": [],
   "source": [
    "{\n",
    "    const template = `\n",
    "{%- macro select(attrs, values=[]) %}\n",
    "<select {%- for name, value in attrs %} {{ name }}=\"{{ value }}\" {%- endfor %}> \n",
    "    {% for val in values %}\n",
    "        <option value=\"{{ val.id }}\">{{ val.text }}</option>\n",
    "    {% endfor %}\n",
    "</select>\n",
    "{%- endmacro %}\n",
    "\n",
    "<div class=\"wrapper\">\n",
    "    {{ select(attrs={ 'name': 'sel-name', 'class': 'single-sel' }, values=selectValues) }}\n",
    "</div>`;\n",
    "    \n",
    "    const html = nunjucks.renderString(template, {\n",
    "        selectValues: [\n",
    "            {'id': 1, 'text': 'A'},\n",
    "            {'id': 2, 'text': 'B'},\n",
    "            {'id': 3, 'text': 'C'}\n",
    "        ]\n",
    "    });\n",
    "    console.log(`* html is: ${html}`);\n",
    "}"
   ]
  },
  {
   "cell_type": "markdown",
   "metadata": {},
   "source": [
    "Default filter"
   ]
  },
  {
   "cell_type": "code",
   "execution_count": null,
   "metadata": {},
   "outputs": [],
   "source": [
    "{\n",
    "    let html = nunjucks.renderString(`<span>{{ name | d(\"Alvin\") }}</span>`, { name: 'Lily' });\n",
    "    console.log(`* html is: ${html}`);\n",
    "    \n",
    "    html = nunjucks.renderString(`<span>{{ name | d(\"Alvin\") }}</span>`, {});\n",
    "    console.log(`* html is: ${html}`);\n",
    "}"
   ]
  },
  {
   "cell_type": "markdown",
   "metadata": {},
   "source": [
    "Abs filter"
   ]
  },
  {
   "cell_type": "code",
   "execution_count": null,
   "metadata": {},
   "outputs": [],
   "source": [
    "{\n",
    "    const html = nunjucks.renderString(`<span>{{ number | abs }}</span>`, { number: -10 });\n",
    "    console.log(`* html is: ${html}`);\n",
    "}"
   ]
  },
  {
   "cell_type": "markdown",
   "metadata": {},
   "source": [
    "Batch"
   ]
  },
  {
   "cell_type": "code",
   "execution_count": null,
   "metadata": {},
   "outputs": [],
   "source": [
    "{\n",
    "    const html = nunjucks.renderString(`<span>{{ letters | batch(2, \"None\") | join(\"|\") }}</span>`, { letters: ['a', 'b', 'c'] });\n",
    "    console.log(`* html is: ${html}`);\n",
    "}"
   ]
  },
  {
   "cell_type": "markdown",
   "metadata": {},
   "source": [
    "capitalize filter"
   ]
  },
  {
   "cell_type": "code",
   "execution_count": null,
   "metadata": {},
   "outputs": [],
   "source": [
    "{\n",
    "    const html = nunjucks.renderString(`<span>{{ name | capitalize }}</span>`, { name: 'alvin' });\n",
    "    console.log(`* html is: ${html}`);\n",
    "}"
   ]
  },
  {
   "cell_type": "markdown",
   "metadata": {},
   "source": [
    "Center filter"
   ]
  },
  {
   "cell_type": "code",
   "execution_count": null,
   "metadata": {},
   "outputs": [],
   "source": [
    "{\n",
    "    const html = nunjucks.renderString(`<span>{{ name | center(20) }}</span>`, { name: 'Alvin' });\n",
    "    console.log(`* html is: ${html}`);\n",
    "}"
   ]
  },
  {
   "cell_type": "markdown",
   "metadata": {},
   "source": [
    "dictsort filter"
   ]
  },
  {
   "cell_type": "code",
   "execution_count": null,
   "metadata": {},
   "outputs": [],
   "source": [
    "{\n",
    "    const dict = {\n",
    "        A: 3,\n",
    "        b: 1,\n",
    "        C: 2\n",
    "    };\n",
    "    \n",
    "    let html = nunjucks.renderString(`<span>{{ dict | dictsort | join(\"|\") }}</span>`, { dict: dict });\n",
    "    console.log(`* html is: ${html}`);\n",
    "    \n",
    "    html = nunjucks.renderString(`<span>{{ dict | dictsort(true) | join(\"|\") }}</span>`, { dict: dict });\n",
    "    console.log(`* html is: ${html}`);\n",
    "    \n",
    "    html = nunjucks.renderString(`<span>{{ dict | dictsort(true, \"value\") | join(\"|\") }}</span>`, { dict: dict });\n",
    "    console.log(`* html is: ${html}`);\n",
    "}"
   ]
  },
  {
   "cell_type": "code",
   "execution_count": null,
   "metadata": {},
   "outputs": [],
   "source": [
    "{\n",
    "    const html = nunjucks.renderString(`<span>{{ str }}, {{ str | safe }}</span>`, { str: '>-_-<' });\n",
    "    console.log(`* html is: ${html}`);\n",
    "}"
   ]
  },
  {
   "cell_type": "code",
   "execution_count": null,
   "metadata": {},
   "outputs": [],
   "source": [
    "{\n",
    "    const html = nunjucks.renderString(`<span>{{ str | e }}</span>`, { str: '>-_-<' });\n",
    "    console.log(`* html is: ${html}`);\n",
    "}"
   ]
  },
  {
   "cell_type": "code",
   "execution_count": null,
   "metadata": {},
   "outputs": [],
   "source": [
    "{\n",
    "    let html = nunjucks.renderString(`<span>{{ letters | first }}</span>`, { letters: ['a', 'b', 'c', 'd'] });\n",
    "    console.log(`* html is: ${html}`);\n",
    "    \n",
    "    html = nunjucks.renderString(`<span>{{ letters | last }}</span>`, { letters: ['a', 'b', 'c', 'd'] });\n",
    "    console.log(`* html is: ${html}`);\n",
    "}"
   ]
  },
  {
   "cell_type": "code",
   "execution_count": null,
   "metadata": {},
   "outputs": [],
   "source": [
    "{\n",
    "    const users = [\n",
    "        { name: 'Alvin', age: 34, gender: 'M' },\n",
    "        { name: 'Lily', age: 28, gender: 'F' },\n",
    "        { name: 'Tom', age: 30, gender: 'M' }\n",
    "    ];\n",
    "    \n",
    "    const template = `\n",
    "<ul id=\"group\">\n",
    "    {% for group, members in users | groupby(\"gender\") %}\n",
    "    <li>\n",
    "        <b>{{ group }}</b>\n",
    "        <ul>\n",
    "            {% for user in members %}\n",
    "                <li>{{ user.name }}, {{ user.age }}</li>\n",
    "            {% endfor %}\n",
    "        </ul>\n",
    "    </li>\n",
    "    {% endfor %}\n",
    "</ul>`;\n",
    "    \n",
    "    const html = nunjucks.renderString(template, { users: users });\n",
    "    console.log(`* html is: ${html}`);\n",
    "}"
   ]
  },
  {
   "cell_type": "code",
   "execution_count": null,
   "metadata": {},
   "outputs": [],
   "source": [
    "{\n",
    "    let html = nunjucks.renderString(`<b>{{ text | indent(2, true) }}</b>`, { text: 'Hello\\nWorld' });\n",
    "    console.log(`* html is: ${html}`);\n",
    "    \n",
    "    html = nunjucks.renderString(`<b>{{ text | indent(2, false) }}</b>`, { text: 'Hello\\nWorld' });\n",
    "    console.log(`* html is: ${html}`);\n",
    "}"
   ]
  },
  {
   "cell_type": "code",
   "execution_count": null,
   "metadata": {},
   "outputs": [],
   "source": [
    "{\n",
    "    let html = nunjucks.renderString(`<b>{{ words | join(';') }}</b>`, { words: ['aa', 'bb', 'cc'] });\n",
    "    console.log(`* html is: ${html}`);\n",
    "    \n",
    "    const users = [\n",
    "        { name: 'Alvin', age: 34, gender: 'M' },\n",
    "        { name: 'Lily', age: 28, gender: 'F' },\n",
    "        { name: 'Tom', age: 30, gender: 'M' }\n",
    "    ];\n",
    "    \n",
    "    html = nunjucks.renderString(`<b>{{ users | join(';', 'name') }}</b>`, { users: users });\n",
    "    console.log(`* html is: ${html}`);\n",
    "}"
   ]
  },
  {
   "cell_type": "code",
   "execution_count": null,
   "metadata": {},
   "outputs": [],
   "source": [
    "{\n",
    "    let html = nunjucks.renderString(`<b>{{ text | length }}</b>`, { text: 'Hello' });\n",
    "    console.log(`* html is: ${html}`);\n",
    "    \n",
    "    html = nunjucks.renderString(`<b>{{ array | length }}</b>`, { array: ['a', 'b', 'c', 'd'] });\n",
    "    console.log(`* html is: ${html}`);\n",
    "}"
   ]
  },
  {
   "cell_type": "code",
   "execution_count": null,
   "metadata": {},
   "outputs": [],
   "source": [
    "{\n",
    "    const template = `\n",
    "<ul>\n",
    "{% for c in str | list %}\n",
    "    <li>{{ c }}</li>\n",
    "{% endfor %}\n",
    "</ul>`;\n",
    "    \n",
    "    const html = nunjucks.renderString(template, { str: 'Hello' });\n",
    "    console.log(`* html is: ${html}`);\n",
    "}"
   ]
  },
  {
   "cell_type": "code",
   "execution_count": null,
   "metadata": {},
   "outputs": [],
   "source": [
    "{\n",
    "    let html = nunjucks.renderString(`<b>{{ text | upper }}</b>`, { text: 'Hello World' });\n",
    "    console.log(`* html is: ${html}`);\n",
    "    \n",
    "    html = nunjucks.renderString(`<b>{{ text | lower }}</b>`, { text: 'Hello World' });\n",
    "    console.log(`* html is: ${html}`);\n",
    "}"
   ]
  },
  {
   "cell_type": "code",
   "execution_count": null,
   "metadata": {},
   "outputs": [],
   "source": [
    "{\n",
    "    let html = nunjucks.renderString(`<b>{{ array | random }}</b>`, { array: ['a', 'b', 'c', 'd'] });\n",
    "    console.log(`* html is: ${html}`);\n",
    "    \n",
    "    html = nunjucks.renderString(`<b>{{ array | random }}</b>`, { array: ['a', 'b', 'c', 'd'] });\n",
    "    console.log(`* html is: ${html}`);\n",
    "}"
   ]
  },
  {
   "cell_type": "code",
   "execution_count": 105,
   "metadata": {},
   "outputs": [
    {
     "name": "stdout",
     "output_type": "stream",
     "text": [
      "* html is: <b>Goodbye World</b>\n",
      "* html is: <b>bbbaaaaa</b>\n"
     ]
    }
   ],
   "source": [
    "{\n",
    "    let html = nunjucks.renderString(`<b>{{ text | replace(\"Hello\", \"Goodbye\") }}</b>`, { text: 'Hello World' });\n",
    "    console.log(`* html is: ${html}`);\n",
    "    \n",
    "    html = nunjucks.renderString(`<b>{{ text | replace(\"a\", \"b\", 3) }}</b>`, { text: 'aaaaaaaa' });\n",
    "    console.log(`* html is: ${html}`);\n",
    "}"
   ]
  },
  {
   "cell_type": "code",
   "execution_count": 108,
   "metadata": {},
   "outputs": [
    {
     "name": "stdout",
     "output_type": "stream",
     "text": [
      "* html is: <b>d-c-b-a</b>\n"
     ]
    }
   ],
   "source": [
    "{\n",
    "    const html = nunjucks.renderString(`<b>{{ letters | reverse | join('-') }}</b>`, { letters: ['a', 'b', 'c', 'd'] });\n",
    "    console.log(`* html is: ${html}`);\n",
    "}"
   ]
  },
  {
   "cell_type": "code",
   "execution_count": 109,
   "metadata": {},
   "outputs": [
    {
     "name": "stderr",
     "output_type": "stream",
     "text": [
      "2:89 - ',' expected.\n",
      "2:90 - Declaration or statement expected.\n",
      "3:31 - Cannot find name 'html'.\n",
      "4:1 - Declaration or statement expected.\n"
     ]
    }
   ],
   "source": [
    "{\n",
    "    const html = nunjucks.renderString(`<b>{{ value | round }}</b>`, { value: 12.34567 }});\n",
    "    console.log(`* html is: ${html}`);\n",
    "}"
   ]
  }
 ],
 "metadata": {
  "kernelspec": {
   "display_name": "JavaScript",
   "language": "javascript",
   "name": "jslab"
  },
  "language_info": {
   "file_extension": ".js",
   "mimetype": "text/javascript",
   "name": "javascript",
   "version": ""
  }
 },
 "nbformat": 4,
 "nbformat_minor": 4
}

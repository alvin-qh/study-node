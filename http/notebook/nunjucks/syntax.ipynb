{
 "cells": [
  {
   "cell_type": "code",
   "execution_count": 1,
   "metadata": {},
   "outputs": [
    {
     "name": "stdout",
     "output_type": "stream",
     "text": [
      "\u001b[36m[Function: uninstall]\u001b[39m\n"
     ]
    }
   ],
   "source": [
    "const nunjucks = require('nunjucks');\n",
    "\n",
    "const env = nunjucks.configure({\n",
    "    autoescape: true,\n",
    "    trimBlocks: true,\n",
    "    lstripBlocks: true\n",
    "});\n",
    "\n",
    "nunjucks.installJinjaCompat();"
   ]
  },
  {
   "cell_type": "code",
   "execution_count": 4,
   "metadata": {},
   "outputs": [
    {
     "name": "stdout",
     "output_type": "stream",
     "text": [
      "* html is: <b>Lily</b>\n"
     ]
    }
   ],
   "source": [
    "{\n",
    "    const template = `<b>{{ name }}</b>`;\n",
    "    const html = nunjucks.renderString(template, { name: 'Lily' });\n",
    "    console.log(`* html is: ${html}`)\n",
    "}"
   ]
  },
  {
   "cell_type": "code",
   "execution_count": 6,
   "metadata": {},
   "outputs": [
    {
     "name": "stdout",
     "output_type": "stream",
     "text": [
      "* html is: <button class=\"warning\">Click me</button>\n"
     ]
    }
   ],
   "source": [
    "{\n",
    "    const template = `<button class=\"{{ className }}\">{{ title }}</button>`;\n",
    "    const html = nunjucks.renderString(template, { className: 'warning', title: 'Click me' });\n",
    "    console.log(`* html is: ${html}`)\n",
    "}"
   ]
  }
 ],
 "metadata": {
  "kernelspec": {
   "display_name": "JavaScript",
   "language": "javascript",
   "name": "jslab"
  },
  "language_info": {
   "file_extension": ".js",
   "mimetype": "text/javascript",
   "name": "javascript",
   "version": ""
  }
 },
 "nbformat": 4,
 "nbformat_minor": 4
}

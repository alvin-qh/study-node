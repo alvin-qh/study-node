{
 "cells": [
  {
   "cell_type": "markdown",
   "metadata": {},
   "source": [
    "# Axios"
   ]
  },
  {
   "cell_type": "markdown",
   "metadata": {},
   "source": [
    "## 1. Dependencies and utils"
   ]
  },
  {
   "cell_type": "code",
   "execution_count": null,
   "metadata": {},
   "outputs": [],
   "source": [
    "const axios = require('axios').default;\n",
    "const FormData = require('form-data');\n",
    "const querystring = require('querystring');\n",
    "const fs = require('fs');\n",
    "const util = require('util');\n",
    "\n",
    "function format(text, prefix='    ') {\n",
    "    if (typeof(text) === 'object') {\n",
    "        text = JSON.stringify(text, null, 4);\n",
    "    }\n",
    "    return `\\n${text}`.replace(/\\n/g, `\\n${prefix}`);\n",
    "}\n",
    "\n",
    "function showResponse(resp, comments, print=console.log, prefix='      ') {\n",
    "    print(`* ${comments}`);\n",
    "    print(`    - response status: ${resp.status}`);\n",
    "    print(`    - response status text: ${resp.statusText}`);\n",
    "    print(`    - response headers: ${format(resp.headers, prefix)}`);\n",
    "    if (typeof(resp.data) === 'object') {\n",
    "        print(`    - response data: ${format(`[${resp.data.constructor.name}]`, prefix)}`);\n",
    "    } else {\n",
    "        print(`    - response data: ${format(resp.data, prefix)}`);\n",
    "    }\n",
    "    print(`    - response config: ${format(resp.config, prefix)}`);\n",
    "}\n",
    "\n",
    "function showSuccess(resp) {\n",
    "    showResponse(resp, 'call successful!');\n",
    "}\n",
    "\n",
    "function showError(err) {\n",
    "    showResponse(err.response, 'call error!', console.error);\n",
    "}"
   ]
  },
  {
   "cell_type": "markdown",
   "metadata": {},
   "source": [
    "## 2. Basic usage"
   ]
  },
  {
   "cell_type": "markdown",
   "metadata": {},
   "source": [
    "### 2.1. Call by config"
   ]
  },
  {
   "cell_type": "markdown",
   "metadata": {},
   "source": [
    "#### 2.1.1. By promise"
   ]
  },
  {
   "cell_type": "code",
   "execution_count": null,
   "metadata": {},
   "outputs": [],
   "source": [
    "{\n",
    "    const payload = {\n",
    "        id: 100,\n",
    "        name: 'Alvin',\n",
    "        gender: 'M'\n",
    "    };\n",
    "    \n",
    "    const headers = {\n",
    "        'Content-Type': 'application/json',\n",
    "        'Accept': 'application/json'\n",
    "    }\n",
    "    \n",
    "    axios({\n",
    "        method: 'post',\n",
    "        url: 'https://getman.cn/echo',\n",
    "        data: payload,\n",
    "        headers: headers\n",
    "    })\n",
    "        .then(resp => {\n",
    "            showSuccess(resp);\n",
    "        })\n",
    "        .catch(err => {\n",
    "            showError(err);\n",
    "        });\n",
    "    \n",
    "    axios({\n",
    "        method: 'post',\n",
    "        url: 'https://getman.cn/echo/1',\n",
    "        data: payload,\n",
    "        headers: headers\n",
    "    })\n",
    "        .then(resp => {\n",
    "            showSuccess(resp);\n",
    "        })\n",
    "        .catch(err => {\n",
    "            showError(err);\n",
    "        });\n",
    "}"
   ]
  },
  {
   "cell_type": "markdown",
   "metadata": {},
   "source": [
    "#### 2.2.2. By await"
   ]
  },
  {
   "cell_type": "code",
   "execution_count": null,
   "metadata": {},
   "outputs": [],
   "source": [
    "{\n",
    "    const payload = {\n",
    "        id: 100,\n",
    "        name: 'Alvin',\n",
    "        gender: 'M'\n",
    "    };\n",
    "    \n",
    "    const headers = {\n",
    "        'Content-Type': 'application/json',\n",
    "        'Accept': 'application/json'\n",
    "    }\n",
    "    \n",
    "    try {\n",
    "        const resp = await axios({\n",
    "            method: 'post',\n",
    "            url: 'https://getman.cn/echo',\n",
    "            data: payload,\n",
    "            headers: headers\n",
    "        });\n",
    "        showSuccess(resp);\n",
    "    } catch (err) {\n",
    "        showError(err);\n",
    "    }\n",
    "    \n",
    "    try {\n",
    "        const resp = await axios({\n",
    "            method: 'post',\n",
    "            url: 'https://getman.cn/echo/1',\n",
    "            data: payload,\n",
    "            headers: headers\n",
    "        });\n",
    "        showSuccess(resp);\n",
    "    } catch (err) {\n",
    "        showError(err);\n",
    "    }\n",
    "}"
   ]
  },
  {
   "cell_type": "markdown",
   "metadata": {},
   "source": [
    "### 2.2. Call by shortcuts method"
   ]
  },
  {
   "cell_type": "markdown",
   "metadata": {},
   "source": [
    "#### 2.2.1. By promise"
   ]
  },
  {
   "cell_type": "code",
   "execution_count": null,
   "metadata": {},
   "outputs": [],
   "source": [
    "{\n",
    "    const payload = {\n",
    "        id: 100,\n",
    "        name: 'Alvin',\n",
    "        gender: 'M'\n",
    "    };\n",
    "    \n",
    "    const headers = {\n",
    "        'Content-Type': 'application/json',\n",
    "        'Accept': 'application/json'\n",
    "    }\n",
    "    \n",
    "    axios.post('https://getman.cn/echo', payload, { headers: headers })\n",
    "        .then(resp => {\n",
    "            showSuccess(resp);\n",
    "        })\n",
    "        .catch(err => {\n",
    "            showError(err);\n",
    "        });\n",
    "    \n",
    "    axios.post('https://getman.cn/echo/1', payload, { headers: headers })\n",
    "        .then(resp => {\n",
    "            showSuccess(resp);\n",
    "        })\n",
    "        .catch(err => {\n",
    "            showError(err);\n",
    "        });\n",
    "}"
   ]
  },
  {
   "cell_type": "markdown",
   "metadata": {},
   "source": [
    "#### 2.2.2. By await"
   ]
  },
  {
   "cell_type": "code",
   "execution_count": null,
   "metadata": {},
   "outputs": [],
   "source": [
    "{\n",
    "    const payload = {\n",
    "        id: 100,\n",
    "        name: 'Alvin',\n",
    "        gender: 'M'\n",
    "    };\n",
    "    \n",
    "    const headers = {\n",
    "        'Content-Type': 'application/json',\n",
    "        'Accept': 'application/json'\n",
    "    }\n",
    "\n",
    "    try {\n",
    "        const resp = await axios.post('https://getman.cn/echo', payload, { headers: headers });\n",
    "        showSuccess(resp);\n",
    "    } catch (err) {\n",
    "        showError(err);\n",
    "    }\n",
    "    \n",
    "    try {\n",
    "        const resp = await axios.post('https://getman.cn/echo/1', payload, { headers: headers });\n",
    "        showSuccess(resp);\n",
    "    } catch (err) {\n",
    "        showError(err);\n",
    "    }\n",
    "}"
   ]
  },
  {
   "cell_type": "markdown",
   "metadata": {},
   "source": [
    "### 2.3. Other http methods"
   ]
  },
  {
   "cell_type": "markdown",
   "metadata": {},
   "source": [
    "#### 2.3.1. Get"
   ]
  },
  {
   "cell_type": "code",
   "execution_count": null,
   "metadata": {},
   "outputs": [],
   "source": [
    "{\n",
    "    const payload = {\n",
    "        id: 100,\n",
    "        name: 'Alvin',\n",
    "        gender: 'M'\n",
    "    };\n",
    "    \n",
    "    const headers = {\n",
    "        'Content-Type': 'application/json',\n",
    "        'Accept': 'application/json'\n",
    "    }\n",
    "    \n",
    "    try {\n",
    "        const resp = await axios.get('https://getman.cn/echo', { headers: headers });\n",
    "        showSuccess(resp);\n",
    "    } catch (err) {\n",
    "        showError(err);\n",
    "    }\n",
    "}"
   ]
  },
  {
   "cell_type": "markdown",
   "metadata": {},
   "source": [
    "#### 2.3.2. Get binary data"
   ]
  },
  {
   "cell_type": "markdown",
   "metadata": {},
   "source": [
    "- Get data as ArrayBuffer"
   ]
  },
  {
   "cell_type": "code",
   "execution_count": null,
   "metadata": {},
   "outputs": [],
   "source": [
    "{\n",
    "    try {\n",
    "        const resp = await axios({\n",
    "            method: 'get',\n",
    "            url: 'https://www.baidu.com/img/flexible/logo/pc/result@2.png',\n",
    "            responseType: 'arraybuffer'\n",
    "        });\n",
    "        \n",
    "        const writeFileAsync = util.promisify(fs.writeFile);\n",
    "        await writeFileAsync('./baidu1.png', resp.data);\n",
    "        showSuccess(resp);\n",
    "    } catch (err) {\n",
    "        showError(err);\n",
    "    }\n",
    "}"
   ]
  },
  {
   "cell_type": "markdown",
   "metadata": {},
   "source": [
    "- Get data as stream"
   ]
  },
  {
   "cell_type": "code",
   "execution_count": null,
   "metadata": {},
   "outputs": [],
   "source": [
    "{\n",
    "    try {\n",
    "        const resp = await axios({\n",
    "            method: 'get',\n",
    "            url: 'https://www.baidu.com/img/flexible/logo/pc/result@2.png',\n",
    "            responseType: 'stream'\n",
    "        });\n",
    "        await resp.data.pipe(fs.createWriteStream('./baidu2.png'));\n",
    "        showSuccess(resp);\n",
    "    } catch (err) {\n",
    "        showError(err);\n",
    "    }\n",
    "}"
   ]
  },
  {
   "cell_type": "code",
   "execution_count": null,
   "metadata": {},
   "outputs": [],
   "source": [
    "{\n",
    "    const payload = {\n",
    "        id: 100,\n",
    "        name: 'Alvin',\n",
    "        gender: 'M'\n",
    "    };\n",
    "    \n",
    "    const headers = {\n",
    "        'Content-Type': 'application/json',\n",
    "        'Accept': 'application/json'\n",
    "    }\n",
    "    \n",
    "    try {\n",
    "        const resp = await axios.post('https://getman.cn/echo', querystring.stringify(payload), { headers: headers });\n",
    "        console.log(`* response status: ${resp.status}`);\n",
    "        console.log(`* response status text: ${resp.statusText}`);\n",
    "        console.log(`* response headers: ${format(resp.headers)}`);\n",
    "        console.log(`* response data: ${format(resp.data)}`);\n",
    "        console.log(`* response config: ${format(resp.config)}`);\n",
    "    } catch (err) {\n",
    "        console.log(err);\n",
    "    }\n",
    "}"
   ]
  },
  {
   "cell_type": "code",
   "execution_count": null,
   "metadata": {},
   "outputs": [],
   "source": [
    "{\n",
    "    const form = new FormData();\n",
    "    form.append('id', 100);\n",
    "    form.append('name', 'Alvin');\n",
    "    form.append('gender', 'M');\n",
    "    \n",
    "    try {\n",
    "        const resp = await axios.post('https://getman.cn/echo', form, { headers: form.getHeaders() });\n",
    "        console.log(`* response status: ${resp.status}`);\n",
    "        console.log(`* response status text: ${resp.statusText}`);\n",
    "        console.log(`* response headers: ${format(resp.headers)}`);\n",
    "        console.log(`* response data: ${format(resp.data)}`);\n",
    "        console.log(`* response config: ${format(resp.config)}`);\n",
    "    } catch (err) {\n",
    "        console.log(err);\n",
    "    }\n",
    "}"
   ]
  },
  {
   "cell_type": "code",
   "execution_count": null,
   "metadata": {},
   "outputs": [],
   "source": []
  },
  {
   "cell_type": "code",
   "execution_count": null,
   "metadata": {},
   "outputs": [],
   "source": []
  }
 ],
 "metadata": {
  "kernelspec": {
   "display_name": "JavaScript",
   "language": "javascript",
   "name": "jslab"
  },
  "language_info": {
   "file_extension": ".js",
   "mimetype": "text/javascript",
   "name": "javascript",
   "version": ""
  }
 },
 "nbformat": 4,
 "nbformat_minor": 4
}

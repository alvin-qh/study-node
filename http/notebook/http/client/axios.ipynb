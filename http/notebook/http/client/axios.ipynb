{
 "cells": [
  {
   "cell_type": "markdown",
   "metadata": {},
   "source": [
    "# Axios"
   ]
  },
  {
   "cell_type": "markdown",
   "metadata": {},
   "source": [
    "## 1. Dependencies and utils"
   ]
  },
  {
   "cell_type": "code",
   "execution_count": null,
   "metadata": {},
   "outputs": [],
   "source": [
    "const axios = require('axios').default;\n",
    "const FormData = require('form-data');\n",
    "const querystring = require('querystring');\n",
    "const fs = require('fs');\n",
    "const util = require('util');\n",
    "\n",
    "function format(text, prefix='    ') {\n",
    "    if (typeof(text) === 'object') {\n",
    "        text = JSON.stringify(text, null, 4);\n",
    "    }\n",
    "    return `\\n${text}`.replace(/\\n/g, `\\n${prefix}`);\n",
    "}\n",
    "\n",
    "function showResponse(resp, comments, print=console.log, prefix='      ') {\n",
    "    print(`* ${comments}`);\n",
    "    print(`    - response status: ${resp.status}`);\n",
    "    print(`    - response status text: ${resp.statusText}`);\n",
    "    print(`    - response headers: ${format(resp.headers, prefix)}`);\n",
    "    if (typeof(resp.data) === 'object') {\n",
    "        print(`    - response data: ${format(`[${resp.data.constructor.name}]`, prefix)}`);\n",
    "    } else {\n",
    "        print(`    - response data: ${format(resp.data, prefix)}`);\n",
    "    }\n",
    "    print(`    - response config: ${format(resp.config, prefix)}`);\n",
    "}\n",
    "\n",
    "function showSuccess(resp) {\n",
    "    showResponse(resp, 'call successful!');\n",
    "}\n",
    "\n",
    "function showError(err) {\n",
    "    showResponse(err.response, 'call error!', console.error);\n",
    "}"
   ]
  },
  {
   "cell_type": "markdown",
   "metadata": {},
   "source": [
    "## 2. Basic usage"
   ]
  },
  {
   "cell_type": "markdown",
   "metadata": {},
   "source": [
    "### 2.1. Call by config"
   ]
  },
  {
   "cell_type": "markdown",
   "metadata": {},
   "source": [
    "#### 2.1.1. By promise"
   ]
  },
  {
   "cell_type": "code",
   "execution_count": null,
   "metadata": {},
   "outputs": [],
   "source": [
    "{\n",
    "    const payload = {\n",
    "        id: 100,\n",
    "        name: 'Alvin',\n",
    "        gender: 'M'\n",
    "    };\n",
    "    \n",
    "    const headers = {\n",
    "        'Content-Type': 'application/json',\n",
    "        'Accept': 'application/json'\n",
    "    }\n",
    "    \n",
    "    axios({\n",
    "        method: 'post',\n",
    "        url: 'https://getman.cn/echo',\n",
    "        data: payload,\n",
    "        headers: headers\n",
    "    })\n",
    "        .then(resp => {\n",
    "            showSuccess(resp);\n",
    "        })\n",
    "        .catch(err => {\n",
    "            showError(err);\n",
    "        });\n",
    "    \n",
    "    axios({\n",
    "        method: 'post',\n",
    "        url: 'https://getman.cn/echo/1',\n",
    "        data: payload,\n",
    "        headers: headers\n",
    "    })\n",
    "        .then(resp => {\n",
    "            showSuccess(resp);\n",
    "        })\n",
    "        .catch(err => {\n",
    "            showError(err);\n",
    "        });\n",
    "}"
   ]
  },
  {
   "cell_type": "markdown",
   "metadata": {},
   "source": [
    "#### 2.2.2. By await"
   ]
  },
  {
   "cell_type": "code",
   "execution_count": null,
   "metadata": {},
   "outputs": [],
   "source": [
    "{\n",
    "    const payload = {\n",
    "        id: 100,\n",
    "        name: 'Alvin',\n",
    "        gender: 'M'\n",
    "    };\n",
    "    \n",
    "    const headers = {\n",
    "        'Content-Type': 'application/json',\n",
    "        'Accept': 'application/json'\n",
    "    }\n",
    "    \n",
    "    try {\n",
    "        const resp = await axios({\n",
    "            method: 'post',\n",
    "            url: 'https://getman.cn/echo',\n",
    "            data: payload,\n",
    "            headers: headers\n",
    "        });\n",
    "        showSuccess(resp);\n",
    "    } catch (err) {\n",
    "        showError(err);\n",
    "    }\n",
    "    \n",
    "    try {\n",
    "        const resp = await axios({\n",
    "            method: 'post',\n",
    "            url: 'https://getman.cn/echo/1',\n",
    "            data: payload,\n",
    "            headers: headers\n",
    "        });\n",
    "        showSuccess(resp);\n",
    "    } catch (err) {\n",
    "        showError(err);\n",
    "    }\n",
    "}"
   ]
  },
  {
   "cell_type": "markdown",
   "metadata": {},
   "source": [
    "### 2.2. Call by shortcuts method"
   ]
  },
  {
   "cell_type": "markdown",
   "metadata": {},
   "source": [
    "#### 2.2.1. By promise"
   ]
  },
  {
   "cell_type": "code",
   "execution_count": null,
   "metadata": {},
   "outputs": [],
   "source": [
    "{\n",
    "    const payload = {\n",
    "        id: 100,\n",
    "        name: 'Alvin',\n",
    "        gender: 'M'\n",
    "    };\n",
    "    \n",
    "    const headers = {\n",
    "        'Content-Type': 'application/json',\n",
    "        'Accept': 'application/json'\n",
    "    }\n",
    "    \n",
    "    axios.post('https://getman.cn/echo', payload, { headers: headers })\n",
    "        .then(resp => {\n",
    "            showSuccess(resp);\n",
    "        })\n",
    "        .catch(err => {\n",
    "            showError(err);\n",
    "        });\n",
    "    \n",
    "    axios.post('https://getman.cn/echo/1', payload, { headers: headers })\n",
    "        .then(resp => {\n",
    "            showSuccess(resp);\n",
    "        })\n",
    "        .catch(err => {\n",
    "            showError(err);\n",
    "        });\n",
    "}"
   ]
  },
  {
   "cell_type": "markdown",
   "metadata": {},
   "source": [
    "#### 2.2.2. By await"
   ]
  },
  {
   "cell_type": "code",
   "execution_count": null,
   "metadata": {},
   "outputs": [],
   "source": [
    "{\n",
    "    const payload = {\n",
    "        id: 100,\n",
    "        name: 'Alvin',\n",
    "        gender: 'M'\n",
    "    };\n",
    "    \n",
    "    const headers = {\n",
    "        'Content-Type': 'application/json',\n",
    "        'Accept': 'application/json'\n",
    "    }\n",
    "\n",
    "    try {\n",
    "        const resp = await axios.post('https://getman.cn/echo', payload, { headers: headers });\n",
    "        showSuccess(resp);\n",
    "    } catch (err) {\n",
    "        showError(err);\n",
    "    }\n",
    "    \n",
    "    try {\n",
    "        const resp = await axios.post('https://getman.cn/echo/1', payload, { headers: headers });\n",
    "        showSuccess(resp);\n",
    "    } catch (err) {\n",
    "        showError(err);\n",
    "    }\n",
    "}"
   ]
  },
  {
   "cell_type": "markdown",
   "metadata": {},
   "source": [
    "### 2.3. Other http methods"
   ]
  },
  {
   "cell_type": "markdown",
   "metadata": {},
   "source": [
    "#### 2.3.1. Get text data"
   ]
  },
  {
   "cell_type": "code",
   "execution_count": null,
   "metadata": {},
   "outputs": [],
   "source": [
    "{\n",
    "    const payload = {\n",
    "        id: 100,\n",
    "        name: 'Alvin',\n",
    "        gender: 'M'\n",
    "    };\n",
    "    \n",
    "    const headers = {\n",
    "        'Content-Type': 'application/json',\n",
    "        'Accept': 'application/json'\n",
    "    }\n",
    "    \n",
    "    try {\n",
    "        const resp = await axios.get('https://getman.cn/echo', { headers: headers });\n",
    "        showSuccess(resp);\n",
    "    } catch (err) {\n",
    "        showError(err);\n",
    "    }\n",
    "}"
   ]
  },
  {
   "cell_type": "markdown",
   "metadata": {},
   "source": [
    "#### 2.3.2. Get binary data"
   ]
  },
  {
   "cell_type": "markdown",
   "metadata": {},
   "source": [
    "- Get data as ArrayBuffer"
   ]
  },
  {
   "cell_type": "code",
   "execution_count": null,
   "metadata": {},
   "outputs": [],
   "source": [
    "{\n",
    "    try {\n",
    "        const resp = await axios({\n",
    "            method: 'get',\n",
    "            url: 'https://www.baidu.com/img/flexible/logo/pc/result@2.png',\n",
    "            responseType: 'arraybuffer'\n",
    "        });\n",
    "        \n",
    "        const writeFileAsync = util.promisify(fs.writeFile);\n",
    "        await writeFileAsync('./baidu1.png', resp.data);\n",
    "        showSuccess(resp);\n",
    "    } catch (err) {\n",
    "        showError(err);\n",
    "    }\n",
    "}"
   ]
  },
  {
   "cell_type": "markdown",
   "metadata": {},
   "source": [
    "- Get data as stream"
   ]
  },
  {
   "cell_type": "code",
   "execution_count": null,
   "metadata": {},
   "outputs": [],
   "source": [
    "{\n",
    "    try {\n",
    "        const resp = await axios({\n",
    "            method: 'get',\n",
    "            url: 'https://www.baidu.com/img/flexible/logo/pc/result@2.png',\n",
    "            responseType: 'stream'\n",
    "        });\n",
    "        await resp.data.pipe(fs.createWriteStream('./baidu2.png'));\n",
    "        showSuccess(resp);\n",
    "    } catch (err) {\n",
    "        showError(err);\n",
    "    }\n",
    "}"
   ]
  },
  {
   "cell_type": "markdown",
   "metadata": {},
   "source": [
    "#### 2.3.3. Post url encoded form data"
   ]
  },
  {
   "cell_type": "code",
   "execution_count": null,
   "metadata": {},
   "outputs": [],
   "source": [
    "{\n",
    "    const payload = {\n",
    "        id: 100,\n",
    "        name: 'Alvin',\n",
    "        gender: 'M'\n",
    "    };\n",
    "    \n",
    "    const headers = {\n",
    "        'Content-Type': 'application/x-www-form-urlencoded',\n",
    "        'Accept': 'application/json'\n",
    "    }\n",
    "    \n",
    "    try {\n",
    "        const resp = await axios.post('https://getman.cn/echo', querystring.stringify(payload), { headers: headers });\n",
    "        showSuccess(resp);\n",
    "    } catch (err) {\n",
    "        showError(err);\n",
    "    }\n",
    "}"
   ]
  },
  {
   "cell_type": "markdown",
   "metadata": {},
   "source": [
    "#### 2.3.4. Post multi-part form data"
   ]
  },
  {
   "cell_type": "code",
   "execution_count": null,
   "metadata": {},
   "outputs": [],
   "source": [
    "{\n",
    "    const form = new FormData();\n",
    "    form.append('id', 100);\n",
    "    form.append('name', 'Alvin');\n",
    "    form.append('gender', 'M');\n",
    "    \n",
    "    try {\n",
    "        const resp = await axios.post('https://getman.cn/echo', form, { headers: form.getHeaders() });\n",
    "        showSuccess(resp);\n",
    "    } catch (err) {\n",
    "        showError(err);\n",
    "    }\n",
    "}"
   ]
  },
  {
   "cell_type": "markdown",
   "metadata": {},
   "source": [
    "#### 2.3.5. Put method"
   ]
  },
  {
   "cell_type": "code",
   "execution_count": null,
   "metadata": {},
   "outputs": [],
   "source": [
    "{\n",
    "    const payload = {\n",
    "        id: 100,\n",
    "        name: 'Alvin',\n",
    "        gender: 'M'\n",
    "    };\n",
    "    \n",
    "    const headers = {\n",
    "        'Content-Type': 'application/json',\n",
    "        'Accept': 'application/json'\n",
    "    }\n",
    "    \n",
    "    try {\n",
    "        const resp = await axios.put('https://getman.cn/echo', payload, { headers: headers });\n",
    "        showSuccess(resp);\n",
    "    } catch (err) {\n",
    "        showError(err);\n",
    "    }\n",
    "}"
   ]
  },
  {
   "cell_type": "markdown",
   "metadata": {},
   "source": [
    "#### 2.3.6. Delete method"
   ]
  },
  {
   "cell_type": "code",
   "execution_count": null,
   "metadata": {},
   "outputs": [],
   "source": [
    "{\n",
    "    const headers = {\n",
    "        'Accept': 'application/json'\n",
    "    }\n",
    "    \n",
    "    try {\n",
    "        const resp = await axios.delete('https://getman.cn/echo', { headers: headers });\n",
    "        showSuccess(resp);\n",
    "    } catch (err) {\n",
    "        showError(err);\n",
    "    }\n",
    "}"
   ]
  },
  {
   "cell_type": "markdown",
   "metadata": {},
   "source": [
    "## 3. Global default settings\n",
    "\n",
    "The all setting fields:\n",
    "```json\n",
    "{\n",
    "  // `url` is the server URL that will be used for the request\n",
    "  url: '/user',\n",
    "\n",
    "  // `method` is the request method to be used when making the request\n",
    "  method: 'get', // default\n",
    "\n",
    "  // `baseURL` will be prepended to `url` unless `url` is absolute.\n",
    "  // It can be convenient to set `baseURL` for an instance of axios to pass relative URLs to methods of that instance.\n",
    "  baseURL: 'https://some-domain.com/api/',\n",
    "\n",
    "  // `transformRequest` allows changes to the request data before it is sent to the server\n",
    "  // This is only applicable for request methods 'PUT', 'POST', 'PATCH' and 'DELETE'\n",
    "  // The last function in the array must return a string or an instance of Buffer, ArrayBuffer, FormData or Stream\n",
    "  // You may modify the headers object.\n",
    "  transformRequest: [function (data, headers) {\n",
    "    // Do whatever you want to transform the data\n",
    "    return data;\n",
    "  }],\n",
    "\n",
    "  // `transformResponse` allows changes to the response data to be made before it is passed to then/catch\n",
    "  transformResponse: [function (data) {\n",
    "    // Do whatever you want to transform the data\n",
    "    return data;\n",
    "  }],\n",
    "\n",
    "  // `headers` are custom headers to be sent\n",
    "  headers: {'X-Requested-With': 'XMLHttpRequest'},\n",
    "\n",
    "  // `params` are the URL parameters to be sent with the request\n",
    "  // Must be a plain object or a URLSearchParams object\n",
    "  params: {\n",
    "    ID: 12345\n",
    "  },\n",
    "\n",
    "  // `paramsSerializer` is an optional function in charge of serializing `params` (e.g. https://www.npmjs.com/package/qs, http://api.jquery.com/jquery.param/)\n",
    "  paramsSerializer: function (params) {\n",
    "    return Qs.stringify(params, {arrayFormat: 'brackets'})\n",
    "  },\n",
    "\n",
    "  // `data` is the data to be sent as the request body\n",
    "  // Only applicable for request methods 'PUT', 'POST', 'DELETE , and 'PATCH'\n",
    "  // When no `transformRequest` is set, must be of one of the following types:\n",
    "  // - string, plain object, ArrayBuffer, ArrayBufferView, URLSearchParams\n",
    "  // - Browser only: FormData, File, Blob\n",
    "  // - Node only: Stream, Buffer\n",
    "  data: {\n",
    "    firstName: 'Fred'\n",
    "  },\n",
    "  \n",
    "  // syntax alternative to send data into the body method post\n",
    "  // only the value is sent, not the key\n",
    "  data: 'Country=Brasil&City=Belo Horizonte',\n",
    "\n",
    "  // `timeout` specifies the number of milliseconds before the request times out.\n",
    "  // If the request takes longer than `timeout`, the request will be aborted.\n",
    "  timeout: 1000, // default is `0` (no timeout)\n",
    "\n",
    "  // `withCredentials` indicates whether or not cross-site Access-Control requests\n",
    "  // should be made using credentials\n",
    "  withCredentials: false, // default\n",
    "\n",
    "  // `adapter` allows custom handling of requests which makes testing easier.\n",
    "  // Return a promise and supply a valid response (see lib/adapters/README.md).\n",
    "  adapter: function (config) {\n",
    "    /* ... */\n",
    "  },\n",
    "\n",
    "  // `auth` indicates that HTTP Basic auth should be used, and supplies credentials.\n",
    "  // This will set an `Authorization` header, overwriting any existing\n",
    "  // `Authorization` custom headers you have set using `headers`.\n",
    "  // Please note that only HTTP Basic auth is configurable through this parameter.\n",
    "  // For Bearer tokens and such, use `Authorization` custom headers instead.\n",
    "  auth: {\n",
    "    username: 'janedoe',\n",
    "    password: 's00pers3cret'\n",
    "  },\n",
    "\n",
    "  // `responseType` indicates the type of data that the server will respond with options are: 'arraybuffer', 'document', 'json', 'text', 'stream'\n",
    "  // browser only: 'blob'\n",
    "  responseType: 'json', // default\n",
    "\n",
    "  // `responseEncoding` indicates encoding to use for decoding responses (Node.js only)\n",
    "  // Note: Ignored for `responseType` of 'stream' or client-side requests\n",
    "  responseEncoding: 'utf8', // default\n",
    "\n",
    "  // `xsrfCookieName` is the name of the cookie to use as a value for xsrf token\n",
    "  xsrfCookieName: 'XSRF-TOKEN', // default\n",
    "\n",
    "  // `xsrfHeaderName` is the name of the http header that carries the xsrf token value\n",
    "  xsrfHeaderName: 'X-XSRF-TOKEN', // default\n",
    "\n",
    "  // `onUploadProgress` allows handling of progress events for uploads\n",
    "  // browser only\n",
    "  onUploadProgress: function (progressEvent) {\n",
    "    // Do whatever you want with the native progress event\n",
    "  },\n",
    "\n",
    "  // `onDownloadProgress` allows handling of progress events for downloads\n",
    "  // browser only\n",
    "  onDownloadProgress: function (progressEvent) {\n",
    "    // Do whatever you want with the native progress event\n",
    "  },\n",
    "\n",
    "  // `maxContentLength` defines the max size of the http response content in bytes allowed in node.js\n",
    "  maxContentLength: 2000,\n",
    "\n",
    "  // `maxBodyLength` (Node only option) defines the max size of the http request content in bytes allowed\n",
    "  maxBodyLength: 2000,\n",
    "\n",
    "  // `validateStatus` defines whether to resolve or reject the promise for a given\n",
    "  // HTTP response status code. If `validateStatus` returns `true` (or is set to `null` or `undefined`), the promise will be resolved; otherwise, the promise will be rejected.\n",
    "  validateStatus: function (status) {\n",
    "    return status >= 200 && status < 300; // default\n",
    "  },\n",
    "\n",
    "  // `maxRedirects` defines the maximum number of redirects to follow in node.js.\n",
    "  // If set to 0, no redirects will be followed.\n",
    "  maxRedirects: 5, // default\n",
    "\n",
    "  // `socketPath` defines a UNIX Socket to be used in node.js.\n",
    "  // e.g. '/var/run/docker.sock' to send requests to the docker daemon.\n",
    "  // Only either `socketPath` or `proxy` can be specified.\n",
    "  // If both are specified, `socketPath` is used.\n",
    "  socketPath: null, // default\n",
    "\n",
    "  // `httpAgent` and `httpsAgent` define a custom agent to be used when performing http\n",
    "  // and https requests, respectively, in node.js. This allows options to be added like\n",
    "  // `keepAlive` that are not enabled by default.\n",
    "  httpAgent: new http.Agent({ keepAlive: true }),\n",
    "  httpsAgent: new https.Agent({ keepAlive: true }),\n",
    "\n",
    "  // `proxy` defines the hostname and port of the proxy server.\n",
    "  // You can also define your proxy using the conventional `http_proxy` and\n",
    "  // `https_proxy` environment variables. If you are using environment variables\n",
    "  // for your proxy configuration, you can also define a `no_proxy` environment\n",
    "  // variable as a comma-separated list of domains that should not be proxied.\n",
    "  // Use `false` to disable proxies, ignoring environment variables.\n",
    "  // `auth` indicates that HTTP Basic auth should be used to connect to the proxy, and\n",
    "  // supplies credentials.\n",
    "  // This will set an `Proxy-Authorization` header, overwriting any existing\n",
    "  // `Proxy-Authorization` custom headers you have set using `headers`.\n",
    "  proxy: {\n",
    "    host: '127.0.0.1',\n",
    "    port: 9000,\n",
    "    auth: {\n",
    "      username: 'mikeymike',\n",
    "      password: 'rapunz3l'\n",
    "    }\n",
    "  },\n",
    "\n",
    "  // `cancelToken` specifies a cancel token that can be used to cancel the request\n",
    "  // (see Cancellation section below for details)\n",
    "  cancelToken: new CancelToken(function (cancel) {\n",
    "  }),\n",
    "\n",
    "  // `decompress` indicates whether or not the response body should be decompressed \n",
    "  // automatically. If set to `true` will also remove the 'content-encoding' header \n",
    "  // from the responses objects of all decompressed responses\n",
    "  // - Node only (XHR cannot turn off decompression)\n",
    "  decompress: true // default\n",
    "}\n",
    "```"
   ]
  },
  {
   "cell_type": "markdown",
   "metadata": {},
   "source": [
    "### 3.1. Set global default settings"
   ]
  },
  {
   "cell_type": "code",
   "execution_count": null,
   "metadata": {},
   "outputs": [],
   "source": [
    "axios.defaults.baseURL = 'https://getman.cn';\n",
    "axios.defaults.headers.common['Content-Type'] = 'application/json';\n",
    "axios.defaults.headers.common['Accept'] = 'application/json';\n",
    "\n",
    "axios.defaults.headers.post['Content-Type'] = 'application/x-www-form-urlencoded';\n",
    "axios.defaults.headers.post['Accept'] = 'text/html';"
   ]
  },
  {
   "cell_type": "markdown",
   "metadata": {},
   "source": [
    "### 3.2. Use global default settings"
   ]
  },
  {
   "cell_type": "markdown",
   "metadata": {},
   "source": [
    "#### 3.2.1. Use common settings"
   ]
  },
  {
   "cell_type": "code",
   "execution_count": null,
   "metadata": {},
   "outputs": [],
   "source": [
    "{\n",
    "    try {\n",
    "        const resp = await axios.get('/echo');\n",
    "       showSuccess(resp);\n",
    "    } catch (err) {\n",
    "        showError(err);\n",
    "    }\n",
    "}"
   ]
  },
  {
   "cell_type": "markdown",
   "metadata": {},
   "source": [
    "#### 3.2.2. Use special post settings"
   ]
  },
  {
   "cell_type": "code",
   "execution_count": null,
   "metadata": {},
   "outputs": [],
   "source": [
    "{\n",
    "    const payload = {\n",
    "        id: 100,\n",
    "        name: 'Alvin',\n",
    "        gender: 'M'\n",
    "    };\n",
    "    \n",
    "    try {\n",
    "        const resp = await axios.post('/echo', querystring.stringify(payload));\n",
    "       showSuccess(resp);\n",
    "    } catch (err) {\n",
    "        showError(err);\n",
    "    }\n",
    "}"
   ]
  },
  {
   "cell_type": "markdown",
   "metadata": {},
   "source": [
    "## 4. Create custom instance"
   ]
  },
  {
   "cell_type": "markdown",
   "metadata": {},
   "source": [
    "### 4.1. Create custom instance with default config"
   ]
  },
  {
   "cell_type": "code",
   "execution_count": null,
   "metadata": {},
   "outputs": [],
   "source": [
    "const http = axios.create({\n",
    "    baseURL: 'https://getman.cn',\n",
    "    headers: {\n",
    "        common: {\n",
    "            'Content-Type': 'application/json',\n",
    "            'Accept': 'application/json'\n",
    "        },\n",
    "        post: {\n",
    "            'Content-Type': 'application/x-www-form-urlencoded',\n",
    "            'Accept': 'application/json'\n",
    "        }\n",
    "    },\n",
    "    timeout: 3600\n",
    "});"
   ]
  },
  {
   "cell_type": "markdown",
   "metadata": {},
   "source": [
    "### 4.2. Use custom instance"
   ]
  },
  {
   "cell_type": "code",
   "execution_count": null,
   "metadata": {},
   "outputs": [],
   "source": [
    "{\n",
    "    const payload = {\n",
    "        id: 100,\n",
    "        name: 'Alvin',\n",
    "        gender: 'M'\n",
    "    };\n",
    "    \n",
    "//     const headers = {\n",
    "//         'Content-Type': 'application/x-www-form-urlencoded'\n",
    "//     };\n",
    "    \n",
    "    try {\n",
    "        const resp = await http.post('/echo', querystring.stringify(payload)/*, { headers: headers }*/);\n",
    "        showSuccess(resp);\n",
    "    } catch (err) {\n",
    "        showError(err);\n",
    "    }\n",
    "}"
   ]
  },
  {
   "cell_type": "markdown",
   "metadata": {},
   "source": [
    "## 5. Interceptors"
   ]
  },
  {
   "cell_type": "markdown",
   "metadata": {},
   "source": [
    "### 5.1. Add interceptors"
   ]
  },
  {
   "cell_type": "markdown",
   "metadata": {},
   "source": [
    "#### 5.1.1. Add request interceptors"
   ]
  },
  {
   "cell_type": "markdown",
   "metadata": {},
   "source": [
    "- Add interceptors"
   ]
  },
  {
   "cell_type": "code",
   "execution_count": null,
   "metadata": {},
   "outputs": [],
   "source": [
    "const requestInterceptor = http.interceptors.request.use(\n",
    "    config => {\n",
    "        console.log(`* http call executing, config is: ${format(config)}`);\n",
    "        return config;\n",
    "    },\n",
    "    err => {\n",
    "        return Promise.reject(err);\n",
    "    }\n",
    ");"
   ]
  },
  {
   "cell_type": "markdown",
   "metadata": {},
   "source": [
    "- Test"
   ]
  },
  {
   "cell_type": "code",
   "execution_count": null,
   "metadata": {},
   "outputs": [],
   "source": [
    "{\n",
    "    await http.get('/echo');\n",
    "}"
   ]
  },
  {
   "cell_type": "markdown",
   "metadata": {},
   "source": [
    "- Cancel interceptors"
   ]
  },
  {
   "cell_type": "code",
   "execution_count": null,
   "metadata": {},
   "outputs": [],
   "source": [
    "{\n",
    "    http.interceptors.request.eject(requestInterceptor);\n",
    "}"
   ]
  },
  {
   "cell_type": "markdown",
   "metadata": {},
   "source": [
    "#### 5.1.2. Add response interceptors"
   ]
  },
  {
   "cell_type": "markdown",
   "metadata": {},
   "source": [
    "- Add interceptors"
   ]
  },
  {
   "cell_type": "code",
   "execution_count": null,
   "metadata": {},
   "outputs": [],
   "source": [
    "const responseInterceptor = http.interceptors.response.use(\n",
    "    resp => {\n",
    "        showResponse(resp, 'http call executed:');\n",
    "        return resp;\n",
    "    },\n",
    "    err => {\n",
    "        if (err.response.status === 404) {\n",
    "            console.log('* catch 404 error');\n",
    "        }\n",
    "        return Promise.reject(err);\n",
    "    }\n",
    ");"
   ]
  },
  {
   "cell_type": "markdown",
   "metadata": {},
   "source": [
    "- Test response interceptor"
   ]
  },
  {
   "cell_type": "code",
   "execution_count": null,
   "metadata": {},
   "outputs": [],
   "source": [
    "{\n",
    "    await http.get('/echo');\n",
    "}"
   ]
  },
  {
   "cell_type": "markdown",
   "metadata": {},
   "source": [
    "- Test response error"
   ]
  },
  {
   "cell_type": "code",
   "execution_count": null,
   "metadata": {},
   "outputs": [],
   "source": [
    "{\n",
    "    await http.get('/echo/404');\n",
    "}"
   ]
  },
  {
   "cell_type": "markdown",
   "metadata": {},
   "source": [
    "- Cancel interceptors"
   ]
  },
  {
   "cell_type": "code",
   "execution_count": null,
   "metadata": {},
   "outputs": [],
   "source": [
    "{\n",
    "    http.interceptors.response.eject(responseInterceptor);\n",
    "}"
   ]
  },
  {
   "cell_type": "markdown",
   "metadata": {},
   "source": [
    "## 6. Handle errors"
   ]
  },
  {
   "cell_type": "markdown",
   "metadata": {},
   "source": [
    "### 6.1. Handle execution error"
   ]
  },
  {
   "cell_type": "markdown",
   "metadata": {},
   "source": [
    "#### 6.1.1. Use promise"
   ]
  },
  {
   "cell_type": "code",
   "execution_count": null,
   "metadata": {},
   "outputs": [],
   "source": [
    "{\n",
    "    try {\n",
    "        const resp = await http.get('/echo/404');\n",
    "        showSuccess(resp);\n",
    "    } catch (err) {\n",
    "        if (err.response) {\n",
    "            // The request was made and the server responded with a status code\n",
    "            // that falls out of the range of 2xx\n",
    "            showError(err);\n",
    "        } else if (err.request) {\n",
    "            // The request was made but no response was received\n",
    "            // `error.request` is an instance of XMLHttpRequest in the browser and an instance of http.ClientRequest in node.js\n",
    "            console.log(err.request);\n",
    "        } else {\n",
    "            // Something happened in setting up the request that triggered an Error\n",
    "            console.log('Error', err.message);\n",
    "        }\n",
    "    }\n",
    "}"
   ]
  },
  {
   "cell_type": "markdown",
   "metadata": {},
   "source": [
    "#### 6.1.2. Use await"
   ]
  },
  {
   "cell_type": "code",
   "execution_count": null,
   "metadata": {},
   "outputs": [],
   "source": [
    "{\n",
    "    http.get('/echo/404')\n",
    "        .then(resp => {\n",
    "            showSuccess(resp);\n",
    "        })\n",
    "        .catch(err => {\n",
    "            if (err.response) {\n",
    "                // The request was made and the server responded with a status code\n",
    "                // that falls out of the range of 2xx\n",
    "                showError(err);\n",
    "            } else if (err.request) {\n",
    "                // The request was made but no response was received\n",
    "                // `error.request` is an instance of XMLHttpRequest in the browser and an instance of http.ClientRequest in node.js\n",
    "                console.log(err.request);\n",
    "            } else {\n",
    "                // Something happened in setting up the request that triggered an Error\n",
    "                console.log('Error', err.message);\n",
    "            }\n",
    "        });\n",
    "}"
   ]
  },
  {
   "cell_type": "markdown",
   "metadata": {},
   "source": [
    "### 6.2. Error status code filter\n",
    "\n",
    "- In `config` object, `validateStatus` function return a boolean value if given status can be raise error"
   ]
  },
  {
   "cell_type": "code",
   "execution_count": null,
   "metadata": {},
   "outputs": [],
   "source": [
    "{\n",
    "    try {        \n",
    "        const resp = await axios.get('/echo/404', {\n",
    "            validateStatus(status) {\n",
    "                return status < 500; // Resolve only if the status code is less than 500\n",
    "            }\n",
    "        });\n",
    "        showSuccess(resp);\n",
    "    } catch (err) {\n",
    "        showError(err);\n",
    "    }\n",
    "}"
   ]
  },
  {
   "cell_type": "markdown",
   "metadata": {},
   "source": [
    "## 7. Cancel executing"
   ]
  },
  {
   "cell_type": "markdown",
   "metadata": {},
   "source": [
    "### 7.1. Use common cancel token"
   ]
  },
  {
   "cell_type": "code",
   "execution_count": null,
   "metadata": {},
   "outputs": [],
   "source": [
    "{\n",
    "    const CancelToken = axios.CancelToken;\n",
    "    const source = CancelToken.source();\n",
    "    \n",
    "    const config = {\n",
    "        cancelToken: source.token\n",
    "    };\n",
    "    \n",
    "    http.get('/echo', config)\n",
    "        .then(resp => {\n",
    "            showSuccess(resp);\n",
    "        })\n",
    "        .catch(err => {\n",
    "            if (axios.isCancel(err)) {\n",
    "                console.error('* Request canceled');\n",
    "            } else {\n",
    "                showError(err);\n",
    "            }\n",
    "        });\n",
    "    \n",
    "    source.cancel();\n",
    "}"
   ]
  },
  {
   "cell_type": "markdown",
   "metadata": {},
   "source": [
    "### 7.2. Use function as cancel token"
   ]
  },
  {
   "cell_type": "code",
   "execution_count": null,
   "metadata": {},
   "outputs": [],
   "source": [
    "{\n",
    "    const CancelToken = axios.CancelToken;\n",
    "    let cancel = () => null;\n",
    "    \n",
    "    const config = {\n",
    "        cancelToken: new CancelToken(c => cancel = c)\n",
    "    };\n",
    "    \n",
    "    http.get('/echo', config)\n",
    "        .then(resp => {\n",
    "            showSuccess(resp);\n",
    "        })\n",
    "        .catch(err => {\n",
    "            if (axios.isCancel(err)) {\n",
    "                console.error('* Request canceled');\n",
    "            } else {\n",
    "                showError(err);\n",
    "            }\n",
    "        });\n",
    "    \n",
    "    cancel();\n",
    "}"
   ]
  }
 ],
 "metadata": {
  "kernelspec": {
   "display_name": "JavaScript",
   "language": "javascript",
   "name": "jslab"
  },
  "language_info": {
   "file_extension": ".js",
   "mimetype": "text/javascript",
   "name": "javascript",
   "version": ""
  }
 },
 "nbformat": 4,
 "nbformat_minor": 4
}

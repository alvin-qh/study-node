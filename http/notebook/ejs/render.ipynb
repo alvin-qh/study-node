{
 "cells": [
  {
   "cell_type": "markdown",
   "metadata": {},
   "source": [
    "# EJS Template engine\n",
    "\n",
    "> [Document](https://ejs.co/#install)"
   ]
  },
  {
   "cell_type": "code",
   "execution_count": null,
   "metadata": {},
   "outputs": [],
   "source": [
    "const ejs = require('ejs');"
   ]
  },
  {
   "cell_type": "markdown",
   "metadata": {},
   "source": [
    "## Render by template string"
   ]
  },
  {
   "cell_type": "markdown",
   "metadata": {},
   "source": [
    "### Render directly"
   ]
  },
  {
   "cell_type": "code",
   "execution_count": null,
   "metadata": {},
   "outputs": [],
   "source": [
    "{\n",
    "    const html = ejs.render('<h1><%= title%></h1>', {'title': 'Hello'});\n",
    "    console.log(`* the template render is: ${html}`);\n",
    "}"
   ]
  },
  {
   "cell_type": "markdown",
   "metadata": {},
   "source": [
    "### Render by precompile function"
   ]
  },
  {
   "cell_type": "code",
   "execution_count": null,
   "metadata": {},
   "outputs": [],
   "source": [
    "{\n",
    "    const func = ejs.compile('<h1><%= title%></h1>');\n",
    "    const html = func({'title': 'Hello'});\n",
    "    console.log(`* the template render is: ${html}`);\n",
    "}"
   ]
  },
  {
   "cell_type": "markdown",
   "metadata": {},
   "source": [
    "## Render by template file"
   ]
  },
  {
   "cell_type": "markdown",
   "metadata": {},
   "source": [
    "### Sync render\n",
    "\n",
    "- `<%- include('header', {'title': 'Hello EJS'}) %>`: include other `.ejs` file into current file"
   ]
  },
  {
   "cell_type": "code",
   "execution_count": null,
   "metadata": {},
   "outputs": [],
   "source": [
    "{\n",
    "    ejs.renderFile('view/index.ejs', {\n",
    "        'names': ['Alvin', 'Lucy', 'Lily', 'Tom']\n",
    "    }, {\n",
    "//     rmWhitespace: true\n",
    "    }, (err, html) => {\n",
    "        console.log(`* the template render is: \\n${html}`);\n",
    "    })\n",
    "}"
   ]
  },
  {
   "cell_type": "markdown",
   "metadata": {},
   "source": [
    "### Async render\n",
    "\n",
    "- `<%- await include('header', {'title': 'Hello EJS'}) %>`: include other `.ejs` file into current file async"
   ]
  },
  {
   "cell_type": "code",
   "execution_count": null,
   "metadata": {},
   "outputs": [],
   "source": [
    "{\n",
    "    const html = await ejs.renderFile('view/index-async.ejs', {\n",
    "        'names': ['Alvin', 'Lucy', 'Lily', 'Tom']\n",
    "    }, {\n",
    "        async: true\n",
    "    });\n",
    "    console.log(`* the template render is: \\n${html}`);\n",
    "}"
   ]
  }
 ],
 "metadata": {
  "kernelspec": {
   "display_name": "JavaScript",
   "language": "javascript",
   "name": "jslab"
  },
  "language_info": {
   "file_extension": ".js",
   "mimetype": "text/javascript",
   "name": "javascript",
   "version": ""
  }
 },
 "nbformat": 4,
 "nbformat_minor": 4
}

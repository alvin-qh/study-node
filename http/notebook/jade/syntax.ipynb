{
 "cells": [
  {
   "cell_type": "markdown",
   "metadata": {},
   "source": [
    "# Jade Template Syntax\n",
    "\n",
    "> [Document](https://jade-lang.com/reference)"
   ]
  },
  {
   "cell_type": "code",
   "execution_count": null,
   "metadata": {},
   "outputs": [],
   "source": [
    "const jade = require('jade');\n",
    "\n",
    "function renderAndShow(template, args = null) {\n",
    "    const html = jade.render(template, { ...args, pretty: true });\n",
    "    console.log(`* the template render is:${html}`);\n",
    "}"
   ]
  },
  {
   "cell_type": "markdown",
   "metadata": {},
   "source": [
    "## 1. Node and attribute"
   ]
  },
  {
   "cell_type": "markdown",
   "metadata": {},
   "source": [
    "### 1.1. Template struct"
   ]
  },
  {
   "cell_type": "code",
   "execution_count": null,
   "metadata": {},
   "outputs": [],
   "source": [
    "{\n",
    "    const template = `\n",
    "doctype html\n",
    "html(lang='en')\n",
    "    head\n",
    "        meta(charset='UTF-8')\n",
    "        title Jade\n",
    "        link(rel='stylesheet', href='/asset/css/test.css')\n",
    "\n",
    "        script(src='/asset/js/test.js')\n",
    "        script(type='text/javascript').\n",
    "            $('.button').on('click', function () {\n",
    "                alter('Hello');\n",
    "            });\n",
    "    body\n",
    "        #main\n",
    "            button.button Click me`;\n",
    "    \n",
    "    renderAndShow(template);\n",
    "}"
   ]
  },
  {
   "cell_type": "markdown",
   "metadata": {},
   "source": [
    "### 1.2. Element and attributes"
   ]
  },
  {
   "cell_type": "markdown",
   "metadata": {},
   "source": [
    "#### 1.2.1. Element with attributes and sub text node\n",
    "\n",
    "- `Element.Class(attr1=value1, attr2=value2, ...)`\n",
    "- `Element#Id(attr1=value1, attr2=value2, ...)`"
   ]
  },
  {
   "cell_type": "code",
   "execution_count": null,
   "metadata": {},
   "outputs": [],
   "source": [
    "{\n",
    "    const template = `a.button(href=href) Click me`;\n",
    "    renderAndShow(template, { href: 'next-page.html' });\n",
    "}"
   ]
  },
  {
   "cell_type": "markdown",
   "metadata": {},
   "source": [
    "#### 1.2.2. Elements and text node\n",
    "\n",
    "- Output text node in elements\n",
    "    - `| text` ：输出文本节点\n",
    "    - `| #{variable}` ：变量内容输出为文字节点\n",
    "    - `| !{variable}` ：变量内容输出为文字节点（特殊字符不转义）"
   ]
  },
  {
   "cell_type": "code",
   "execution_count": null,
   "metadata": {},
   "outputs": [],
   "source": [
    "{\n",
    "    const template = `\n",
    "p Level1\n",
    "    p Level2\n",
    "    br/\n",
    "    | Level1`;\n",
    "    \n",
    "    renderAndShow(template);\n",
    "}"
   ]
  },
  {
   "cell_type": "markdown",
   "metadata": {},
   "source": [
    "- Output text node after elements"
   ]
  },
  {
   "cell_type": "code",
   "execution_count": null,
   "metadata": {},
   "outputs": [],
   "source": [
    "{\n",
    "    const template = `\n",
    "input(type='radio', name='gender', value='M', checked=true)/\n",
    "| Male`;\n",
    "    \n",
    "    renderAndShow(template);\n",
    "}"
   ]
  },
  {
   "cell_type": "markdown",
   "metadata": {},
   "source": [
    "## 2. Mixin javascript"
   ]
  },
  {
   "cell_type": "markdown",
   "metadata": {},
   "source": [
    "### 2.1. Variables"
   ]
  },
  {
   "cell_type": "markdown",
   "metadata": {},
   "source": [
    "#### 2.1.1. Use and output variables"
   ]
  },
  {
   "cell_type": "code",
   "execution_count": null,
   "metadata": {},
   "outputs": [],
   "source": [
    "{\n",
    "    const template = `\n",
    "p(class=result ? 'success' : 'error') #{result ? 'success' : 'error'}`;\n",
    "    \n",
    "    renderAndShow(template, { result: true });\n",
    "}"
   ]
  },
  {
   "cell_type": "markdown",
   "metadata": {},
   "source": [
    "#### 2.1.2. Variables as Element attributes"
   ]
  },
  {
   "cell_type": "code",
   "execution_count": null,
   "metadata": {},
   "outputs": [],
   "source": [
    "{\n",
    "    const template = `\n",
    "- const style = {'color':'red', 'background-color': '#ccc'};\n",
    "- const attrs = { 'id': 'name', 'type': 'text', 'name': 'name', 'maxlength': 100, style };\n",
    "\n",
    "input&attributes(attrs)`;\n",
    "    \n",
    "    renderAndShow(template);\n",
    "}"
   ]
  },
  {
   "cell_type": "markdown",
   "metadata": {},
   "source": [
    "#### 2.1.3. Variables as sub textnode"
   ]
  },
  {
   "cell_type": "code",
   "execution_count": null,
   "metadata": {},
   "outputs": [],
   "source": [
    "{\n",
    "    const template = `\n",
    "p.name= name`;\n",
    "    \n",
    "    renderAndShow(template, { name: 'Alvin' });\n",
    "}"
   ]
  },
  {
   "cell_type": "markdown",
   "metadata": {},
   "source": [
    "#### 2.1.4. Output variable as text\n",
    "\n",
    "- `#{variable}`: 将变量 variable 的值输出，特殊字符会被转义\n",
    "- `!{variable}`: 将变量 variable 的值输出，特殊字符不被转义"
   ]
  },
  {
   "cell_type": "code",
   "execution_count": null,
   "metadata": {},
   "outputs": [],
   "source": [
    "{\n",
    "    const template = `\n",
    "- name = '<b>' + name + '</b>';\n",
    "\n",
    "div.wrapper\n",
    "    p= name\n",
    "    p !{name}\n",
    "    br/\n",
    "    | #{name}\n",
    "    | !{name}`;\n",
    "    \n",
    "    renderAndShow(template, { name: 'Alvin' });\n",
    "}"
   ]
  },
  {
   "cell_type": "markdown",
   "metadata": {},
   "source": [
    "### 2.2. Process Control"
   ]
  },
  {
   "cell_type": "markdown",
   "metadata": {},
   "source": [
    "#### 2.2.1. Conditions"
   ]
  },
  {
   "cell_type": "code",
   "execution_count": null,
   "metadata": {},
   "outputs": [],
   "source": [
    "{\n",
    "    const template = `\n",
    ".wrapper\n",
    "    if status === 'error'\n",
    "        p.err Error\n",
    "    else if status === 'warning'\n",
    "        p.warn Warning\n",
    "    else\n",
    "        p.info Info`;\n",
    "    \n",
    "    renderAndShow(template, { status: 'warning' });\n",
    "}"
   ]
  },
  {
   "cell_type": "markdown",
   "metadata": {},
   "source": [
    "#### 2.2.2. For loop"
   ]
  },
  {
   "cell_type": "code",
   "execution_count": null,
   "metadata": {},
   "outputs": [],
   "source": [
    "{\n",
    "    const template = `\n",
    "- const attr = { 'class': 'page' };\n",
    "\n",
    "ul\n",
    "    for page in pages\n",
    "        li&attributes(attr)= page`;\n",
    "    \n",
    "    renderAndShow(template, { pages: [1, 2, 3, 4, 5] });\n",
    "}"
   ]
  },
  {
   "cell_type": "markdown",
   "metadata": {},
   "source": [
    "#### 2.2.3. Each loop"
   ]
  },
  {
   "cell_type": "code",
   "execution_count": null,
   "metadata": {},
   "outputs": [],
   "source": [
    "{\n",
    "    const template = `\n",
    "- const attr = { 'class': 'page' };\n",
    "\n",
    "ul\n",
    "    each page, n in pages\n",
    "        li&attributes(attr)= n + '. ' + page`;\n",
    "    \n",
    "    renderAndShow(template, { pages: [1, 2, 3, 4, 5] });\n",
    "}"
   ]
  },
  {
   "cell_type": "markdown",
   "metadata": {},
   "source": [
    "## 3. Structure"
   ]
  },
  {
   "cell_type": "markdown",
   "metadata": {},
   "source": [
    "### 3.1. Mixin\n",
    "\n",
    "Mixin like macro or function"
   ]
  },
  {
   "cell_type": "code",
   "execution_count": null,
   "metadata": {},
   "outputs": [],
   "source": [
    "{\n",
    "    const template = `\n",
    "mixin userList(users)\n",
    "  ul.users\n",
    "    each user in users\n",
    "      li(data-name= user.name)= user.age\n",
    "\n",
    "#wrapper\n",
    "    +userList(users)`;\n",
    "    \n",
    "    renderAndShow(template, { \n",
    "        users: [\n",
    "            { name: 'Alvin', age: 34 },\n",
    "            { name: 'Lily', age: 43 },\n",
    "            { name: 'Pipy', age: 19 }\n",
    "        ]\n",
    "    });\n",
    "}"
   ]
  }
 ],
 "metadata": {
  "kernelspec": {
   "display_name": "JavaScript",
   "language": "javascript",
   "name": "jslab"
  },
  "language_info": {
   "file_extension": ".js",
   "mimetype": "text/javascript",
   "name": "javascript",
   "version": ""
  }
 },
 "nbformat": 4,
 "nbformat_minor": 4
}

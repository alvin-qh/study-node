{
 "cells": [
  {
   "cell_type": "markdown",
   "metadata": {},
   "source": [
    "# URL and querystring"
   ]
  },
  {
   "cell_type": "code",
   "execution_count": null,
   "metadata": {},
   "outputs": [],
   "source": [
    "const url = require('url');"
   ]
  },
  {
   "cell_type": "markdown",
   "metadata": {},
   "source": [
    "## 1. URL"
   ]
  },
  {
   "cell_type": "markdown",
   "metadata": {},
   "source": [
    "### 1.1. Parse url"
   ]
  },
  {
   "cell_type": "code",
   "execution_count": null,
   "metadata": {},
   "outputs": [],
   "source": [
    "{\n",
    "    const r = url.parse(URL, true, false);\n",
    "\n",
    "    console.log(`* protocol is: ${r.protocol}`);\n",
    "    console.log(`* slashes is: ${r.slashes}`);\n",
    "    console.log(`* user name is: ${r.auth}`);\n",
    "    console.log(`* host is: ${r.host}`);\n",
    "    console.log(`* port is: ${r.port}`);\n",
    "    console.log(`* hostname is: ${r.hostname}`);\n",
    "    console.log(`* url hash is: ${r.hash}`);\n",
    "    console.log(`* search string is: ${r.search}`);\n",
    "    console.log(`* argument \"wd\" is: ${r.query.wd}`);\n",
    "    console.log(`* pathname is: ${r.pathname}`);\n",
    "    console.log(`* path is: ${r.path}`);\n",
    "    console.log(`* href is: ${r.href}`);\n",
    "}"
   ]
  },
  {
   "cell_type": "markdown",
   "metadata": {},
   "source": [
    "### 1.2. Generate url"
   ]
  },
  {
   "cell_type": "code",
   "execution_count": null,
   "metadata": {},
   "outputs": [],
   "source": [
    "{\n",
    "    const URL = 'https://alvin@www.baidu.com:80/s?wd=%E6%B5%8B%E8%AF%95#top';\n",
    "    \n",
    "    const urlObj = {\n",
    "        'protocol': 'https',\n",
    "        'auth': 'alvin',\n",
    "        'hash': '#top',\n",
    "        'host': 'www.baidu.com:80',\n",
    "        //'hostname': 'www.baidu.com',  // can instead of 'host' field\n",
    "        //'port': 80,                   // can instead of 'host' field\n",
    "        'pathname': 's',\n",
    "        'query': {'wd': '测试'},\n",
    "        'search': '?wd=%E6%B5%8B%E8%AF%95'    // can instead of 'query' field\n",
    "    };\n",
    "\n",
    "    const r = url.format(urlObj);\n",
    "    console.log(`* url is: ${r}`);\n",
    "}"
   ]
  },
  {
   "cell_type": "markdown",
   "metadata": {},
   "source": [
    "### 1.3. Resove url path"
   ]
  },
  {
   "cell_type": "code",
   "execution_count": null,
   "metadata": {},
   "outputs": [],
   "source": [
    "{\n",
    "    let r = url.resolve('http://www.baidu.com', '/s/a/b');\n",
    "    console.log(`* url is: ${r}`);\n",
    "    \n",
    "    r = url.resolve('http://www.baidu.com', '/s/a/b');\n",
    "    console.log(`* url is: ${r}`);\n",
    "    \n",
    "    r = url.resolve('http://www.baidu.com/s/a', '/b');\n",
    "    console.log(`* url is: ${r}`);\n",
    "    \n",
    "    r = url.resolve('http://www.baidu.com/s/a', 'b/c');\n",
    "    console.log(`* url is: ${r}`);\n",
    "}"
   ]
  },
  {
   "cell_type": "markdown",
   "metadata": {},
   "source": [
    "## 2. Querystring"
   ]
  },
  {
   "cell_type": "code",
   "execution_count": null,
   "metadata": {},
   "outputs": [],
   "source": [
    "const querystring = require('querystring');"
   ]
  },
  {
   "cell_type": "markdown",
   "metadata": {},
   "source": [
    "### 2.1. Generate querystring (`stringify`)"
   ]
  },
  {
   "cell_type": "code",
   "execution_count": null,
   "metadata": {},
   "outputs": [],
   "source": [
    "{\n",
    "    const args = {\n",
    "        name: 'alvin',\n",
    "        code: ['1001', '1002'],\n",
    "        level: 'L3'\n",
    "    };\n",
    "    \n",
    "    const r = querystring.stringify(args, '&', '=');\n",
    "    console.log(`* querystring is: ${r}`);\n",
    "}"
   ]
  },
  {
   "cell_type": "markdown",
   "metadata": {},
   "source": [
    "### 2.2. Generate querystring (`encode`)"
   ]
  },
  {
   "cell_type": "code",
   "execution_count": null,
   "metadata": {},
   "outputs": [],
   "source": [
    "{\n",
    "    const args = {\n",
    "        name: 'alvin',\n",
    "        code: ['1001', '1002'],\n",
    "        level: 'L3'\n",
    "    };\n",
    "    \n",
    "    const r = querystring.encode(args, '&', '=');\n",
    "    console.log(`* querystring is: ${r}`);\n",
    "}"
   ]
  },
  {
   "cell_type": "markdown",
   "metadata": {},
   "source": [
    "### 2.3. Parse querystring"
   ]
  },
  {
   "cell_type": "code",
   "execution_count": null,
   "metadata": {},
   "outputs": [],
   "source": [
    "{\n",
    "    const query = 'name=alvin&code=1001&code=1002&level=%E4%B8%89%E5%B9%B4%E7%BA%A7';\n",
    "    const r = querystring.parse(query, '&', '=', {\n",
    "        maxKeys: 1000\n",
    "    });\n",
    "    console.log(`* arguments is:\\n${JSON.stringify(r, null, 2)}`);\n",
    "}"
   ]
  },
  {
   "cell_type": "markdown",
   "metadata": {},
   "source": [
    "### 2.4. Decode querystring"
   ]
  },
  {
   "cell_type": "code",
   "execution_count": null,
   "metadata": {},
   "outputs": [],
   "source": [
    "{\n",
    "    const query = 'name=alvin&code=1001&code=1002&level=%E4%B8%89%E5%B9%B4%E7%BA%A7';\n",
    "    const r = querystring.decode(query, '&', '=');\n",
    "    console.log(`* arguments is:\\n${JSON.stringify(r, null, 2)}`);\n",
    "}"
   ]
  },
  {
   "cell_type": "markdown",
   "metadata": {},
   "source": [
    "### 2.5. escape string"
   ]
  },
  {
   "cell_type": "code",
   "execution_count": null,
   "metadata": {},
   "outputs": [],
   "source": [
    "{\n",
    "    const r = querystring.escape('<html>');\n",
    "    console.log(`* escaped result is: ${r}`);\n",
    "}"
   ]
  },
  {
   "cell_type": "markdown",
   "metadata": {},
   "source": [
    "### 2.6. unescape string"
   ]
  },
  {
   "cell_type": "code",
   "execution_count": null,
   "metadata": {},
   "outputs": [],
   "source": [
    "{\n",
    "    const r = querystring.unescape('%3Chtml%3E');\n",
    "    console.log(`* escaped result is: ${r}`);\n",
    "}"
   ]
  }
 ],
 "metadata": {
  "kernelspec": {
   "display_name": "JavaScript",
   "language": "javascript",
   "name": "jslab"
  },
  "language_info": {
   "file_extension": ".js",
   "mimetype": "text/javascript",
   "name": "javascript",
   "version": ""
  }
 },
 "nbformat": 4,
 "nbformat_minor": 4
}

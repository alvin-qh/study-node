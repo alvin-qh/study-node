{
 "cells": [
  {
   "cell_type": "markdown",
   "metadata": {},
   "source": [
    "# Jade Basic\n",
    "\n",
    "> [Documents](https://jade-lang.com/api)"
   ]
  },
  {
   "cell_type": "markdown",
   "metadata": {},
   "source": [
    "## 1. Render"
   ]
  },
  {
   "cell_type": "markdown",
   "metadata": {},
   "source": [
    "### 1.1. Render string template"
   ]
  },
  {
   "cell_type": "markdown",
   "metadata": {},
   "source": [
    "#### 1.1.1. Generate render function"
   ]
  },
  {
   "cell_type": "code",
   "execution_count": null,
   "metadata": {},
   "outputs": [],
   "source": [
    "const jade = require('jade');\n",
    "\n",
    "const template = `\n",
    "html\n",
    "    head\n",
    "        title= name\n",
    "    body\n",
    "        p#age= age`;\n",
    "\n",
    "const render = jade.compile(template, { pretty: true });\n",
    "const html = render({\n",
    "    'name': 'Alvin',\n",
    "    'age': 34\n",
    "});\n",
    "\n",
    "console.log(`* the template render is: ${html}`);"
   ]
  },
  {
   "cell_type": "markdown",
   "metadata": {},
   "source": [
    "#### 1.1.2. Generate render function as string\n",
    "\n",
    "- The generated string can be included in web page and work in web browser"
   ]
  },
  {
   "cell_type": "code",
   "execution_count": null,
   "metadata": {},
   "outputs": [],
   "source": [
    "const jade = require('jade');\n",
    "\n",
    "const template = `\n",
    "html\n",
    "    head\n",
    "        title= name\n",
    "    body\n",
    "        p#age= age`;\n",
    "\n",
    "const code = jade.compileClient(template);\n",
    "console.log(`* the render code is: \\n${code}`);"
   ]
  },
  {
   "cell_type": "markdown",
   "metadata": {},
   "source": [
    "#### 1.1.3. Render directly"
   ]
  },
  {
   "cell_type": "code",
   "execution_count": null,
   "metadata": {},
   "outputs": [],
   "source": [
    "const jade = require('jade');\n",
    "\n",
    "const template = `\n",
    "html\n",
    "    head\n",
    "        title= name\n",
    "    body\n",
    "        p#age= age`;\n",
    "    \n",
    "const html = jade.render(template, {\n",
    "    pretty: true,\n",
    "    name: 'Alvin',\n",
    "    age: 34\n",
    "});\n",
    "console.log(`* the render code is: ${html}`);"
   ]
  },
  {
   "cell_type": "markdown",
   "metadata": {},
   "source": [
    "#### 1.1.4. Render async"
   ]
  },
  {
   "cell_type": "code",
   "execution_count": null,
   "metadata": {},
   "outputs": [],
   "source": [
    "const jade = require('jade');\n",
    "\n",
    "const template = `\n",
    "html\n",
    "    head\n",
    "        title= name\n",
    "    body\n",
    "        p#age= age`;\n",
    "    \n",
    "jade.render(template, {\n",
    "    pretty: true,\n",
    "    name: 'Alvin',\n",
    "    age: 34\n",
    "}, (err, html) => {\n",
    "    console.log(`* the render code is:${html}`);\n",
    "});"
   ]
  },
  {
   "cell_type": "markdown",
   "metadata": {},
   "source": [
    "### 1.2. Render file template\n",
    "\n",
    "- `include`: include other `.jade` file into current file\n",
    "- `extends`: extends other `.jade` file\n",
    "    - other `.jade` file include layout and blocks\n",
    "    - current file define each block"
   ]
  },
  {
   "cell_type": "markdown",
   "metadata": {},
   "source": [
    "#### 1.2.1. Generate render function"
   ]
  },
  {
   "cell_type": "code",
   "execution_count": null,
   "metadata": {},
   "outputs": [],
   "source": [
    "const jade = require('jade');\n",
    "\n",
    "const render = jade.compileFile('view/index.jade', { pretty: true });\n",
    "const html = render({\n",
    "    users: [\n",
    "        { name: 'Alvin', age: 34 },\n",
    "        { name: 'Lily', age: 43 },\n",
    "        { name: 'Pipy', age: 19 }\n",
    "    ]\n",
    "});\n",
    "\n",
    "console.log(`* the template render is: ${html}`);"
   ]
  },
  {
   "cell_type": "markdown",
   "metadata": {},
   "source": [
    "#### 1.2.2. Generate render function as string\n",
    "\n",
    "- The generated string can be included in web page and work in web browser"
   ]
  },
  {
   "cell_type": "code",
   "execution_count": null,
   "metadata": {},
   "outputs": [],
   "source": [
    "const jade = require('jade');\n",
    "\n",
    "const code = jade.compileFileClient('view/index.jade');\n",
    "console.log(`* the render code is: \\n${code}`);"
   ]
  },
  {
   "cell_type": "markdown",
   "metadata": {},
   "source": [
    "#### 1.2.3. Render directly"
   ]
  },
  {
   "cell_type": "code",
   "execution_count": null,
   "metadata": {},
   "outputs": [],
   "source": [
    "const jade = require('jade');\n",
    "const html = jade.renderFile('view/index.jade', {\n",
    "    pretty: true,\n",
    "    users: [\n",
    "        { name: 'Alvin', age: 34 },\n",
    "        { name: 'Lily', age: 43 },\n",
    "        { name: 'Pipy', age: 19 }\n",
    "    ]\n",
    "});\n",
    "\n",
    "console.log(`* the render code is:\\n${html}`);"
   ]
  },
  {
   "cell_type": "markdown",
   "metadata": {},
   "source": [
    "#### 1.2.4. Render async"
   ]
  },
  {
   "cell_type": "code",
   "execution_count": null,
   "metadata": {},
   "outputs": [],
   "source": [
    "const jade = require('jade');\n",
    "jade.renderFile('view/index.jade', {\n",
    "    pretty: true,\n",
    "    users: [\n",
    "        { name: 'Alvin', age: 34 },\n",
    "        { name: 'Lily', age: 43 },\n",
    "        { name: 'Pipy', age: 19 }\n",
    "    ]\n",
    "}, (err, html) => {\n",
    "    console.log(`* the render code is: ${html}`);\n",
    "});"
   ]
  }
 ],
 "metadata": {
  "kernelspec": {
   "display_name": "JavaScript",
   "language": "javascript",
   "name": "jslab"
  },
  "language_info": {
   "file_extension": ".js",
   "mimetype": "text/javascript",
   "name": "javascript",
   "version": ""
  }
 },
 "nbformat": 4,
 "nbformat_minor": 4
}

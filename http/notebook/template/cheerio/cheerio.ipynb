{
 "cells": [
  {
   "cell_type": "markdown",
   "metadata": {},
   "source": [
    "# Cheerio\n",
    "\n",
    "Fast, flexible, and lean implementation of core jQuery designed specifically for the server.\n",
    "\n",
    "> [Document](https://cheerio.js.org/)"
   ]
  },
  {
   "cell_type": "markdown",
   "metadata": {},
   "source": [
    "## 1. Query elements"
   ]
  },
  {
   "cell_type": "markdown",
   "metadata": {},
   "source": [
    "### 1.1. Get elements by tag name"
   ]
  },
  {
   "cell_type": "code",
   "execution_count": null,
   "metadata": {},
   "outputs": [],
   "source": [
    "const cheerio = require('cheerio');\n",
    "const fs = require('fs');\n",
    "\n",
    "const html = fs.readFileSync('./example.html', 'utf-8');\n",
    "\n",
    "const $ = cheerio.load(html);\n",
    "\n",
    "const $node = $('html>head>title');\n",
    "console.log(`* the node \"${$node[0].tagName}\" was found, inner text is: \"${$node.text()}\"`);"
   ]
  },
  {
   "cell_type": "markdown",
   "metadata": {},
   "source": [
    "### 1.2. Get elements by ID and class"
   ]
  },
  {
   "cell_type": "code",
   "execution_count": null,
   "metadata": {},
   "outputs": [],
   "source": [
    "const cheerio = require('cheerio');\n",
    "const fs = require('fs');\n",
    "\n",
    "const html = fs.readFileSync('./example.html', 'utf-8');\n",
    "\n",
    "const $ = cheerio.load(html);\n",
    "\n",
    "const $node = $('#main>.block');\n",
    "console.log(`* there are ${$node.length} blocks was found`);\n",
    "\n",
    "$node.each((i, n) => {\n",
    "    const $n = $(n);\n",
    "    console.log(`\\tchild ${i} is: ${$n[0].tagName}, class is: ${$n.attr('class')}, text: ${$n.text()}`);\n",
    "});"
   ]
  }
 ],
 "metadata": {
  "kernelspec": {
   "display_name": "JavaScript",
   "language": "javascript",
   "name": "jslab"
  },
  "language_info": {
   "file_extension": ".js",
   "mimetype": "text/javascript",
   "name": "javascript",
   "version": ""
  }
 },
 "nbformat": 4,
 "nbformat_minor": 4
}

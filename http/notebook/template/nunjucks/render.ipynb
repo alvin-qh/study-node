{
 "cells": [
  {
   "cell_type": "markdown",
   "metadata": {},
   "source": [
    "# Nunjucks render"
   ]
  },
  {
   "cell_type": "markdown",
   "metadata": {},
   "source": [
    "## 1. Create and config nunjucks instance\n",
    "\n",
    "Nunjucks template engine configs: \n",
    "- `autoescape`: (default `true`) if auto escaping output\n",
    "- `throwOnUndefined`: (default: false) throw exception if some variable undefined or is null\n",
    "- `trimBlocks`: (default: false) trim line break after block/tag\n",
    "- `lstripBlocks`: (default: false) clear  block/tag\n",
    "- `watch`: (default: false) reload if template file was change\n",
    "- `noCache`: (default: false) do not use cache, compile template everytime\n",
    "\n",
    "Web Browser configs:\n",
    "- `useCache`: (default: false) if browser can cache \n",
    "- `async`: (default: false) download template by ajax async\n",
    "\n",
    "Express framework configs:\n",
    "- `tags`: (default: see nunjucks syntax) define tag symbols of template，such as:\n",
    "    ```javascript\n",
    "    const env = nunjucks.configure('/path/to/templates', {\n",
    "        tags: {\n",
    "            blockStart: '<%',\n",
    "            blockEnd: '%>',\n",
    "            variableStart: '<$',\n",
    "          variableEnd: '$>',\n",
    "            commentStart: '<#',\n",
    "            commentEnd: '#>'\n",
    "        }\n",
    "    });\n",
    "    ```\n",
    "\n",
    "Compatibility with jinja2\n",
    "- `nunjucks.installJinjaCompat();`"
   ]
  },
  {
   "cell_type": "code",
   "execution_count": null,
   "metadata": {},
   "outputs": [],
   "source": [
    "const nunjucks = require('nunjucks');\n",
    "\n",
    "const env = nunjucks.configure('view', {\n",
    "    autoescape: true,\n",
    "    trimBlocks: true,\n",
    "    lstripBlocks: true\n",
    "});\n",
    "\n",
    "nunjucks.installJinjaCompat();"
   ]
  },
  {
   "cell_type": "markdown",
   "metadata": {},
   "source": [
    "## 2. Render template"
   ]
  },
  {
   "cell_type": "markdown",
   "metadata": {},
   "source": [
    "### 2.1. Render string as template"
   ]
  },
  {
   "cell_type": "markdown",
   "metadata": {},
   "source": [
    "#### 2.1.1. Render sync"
   ]
  },
  {
   "cell_type": "code",
   "execution_count": null,
   "metadata": {},
   "outputs": [],
   "source": [
    "const nunjucks = require('nunjucks');\n",
    "\n",
    "const html = nunjucks.renderString(`<b>{{ name }}</b>`, { 'name': 'Alvin' });\n",
    "console.log(`* html is: ${html}`);"
   ]
  },
  {
   "cell_type": "markdown",
   "metadata": {},
   "source": [
    "#### 2.1.2. Render async"
   ]
  },
  {
   "cell_type": "code",
   "execution_count": null,
   "metadata": {},
   "outputs": [],
   "source": [
    "const nunjucks = require('nunjucks');\n",
    "\n",
    "nunjucks.renderString(`<b>{{ name }}</b>`, { 'name': 'Alvin' }, (err, html) => {\n",
    "    console.log(`* html is: ${html}`);\n",
    "});"
   ]
  },
  {
   "cell_type": "markdown",
   "metadata": {},
   "source": [
    "### 2.2. Rneder file as template\n",
    "\n",
    "Reference other template file:\n",
    "\n",
    "- Reference other file\n",
    "```jinja2\n",
    "{% import 'other.html' as o %}\n",
    "```\n",
    "- Call macros defined in other file\n",
    "```jinja2\n",
    "{{ o.some_macro(...) }}\n",
    "```\n",
    "\n",
    "Extends from layout template file:\n",
    "\n",
    "- Define blocks（in `layout.html`）\n",
    "```jinja2\n",
    "<head>\n",
    "    {% block header %} {% endblock %}\n",
    "</head>\n",
    "```\n",
    "- Import layout file and use (in main template)\n",
    "```jinja2\n",
    "{% extends 'layout.html' %}\n",
    "{% block header %}\n",
    "    <title>{{ title }}</title>\n",
    "{% endblock %}\n",
    "```"
   ]
  },
  {
   "cell_type": "markdown",
   "metadata": {},
   "source": [
    "#### 2.2.1. Render sync"
   ]
  },
  {
   "cell_type": "code",
   "execution_count": null,
   "metadata": {},
   "outputs": [],
   "source": [
    "const nunjucks = require('nunjucks');\n",
    "\n",
    "const html = nunjucks.render('index.html', {\n",
    "    'title': 'Welcome Uunjucks',\n",
    "    'names': ['Alvin', 'Lily', 'Lucy', 'Tom']\n",
    "});\n",
    "console.log(`* html is:\\n${html}`);"
   ]
  },
  {
   "cell_type": "markdown",
   "metadata": {},
   "source": [
    "#### 2.2.2. Render async"
   ]
  },
  {
   "cell_type": "code",
   "execution_count": null,
   "metadata": {},
   "outputs": [],
   "source": [
    "const nunjucks = require('nunjucks');\n",
    "\n",
    "nunjucks.render('index.html', {\n",
    "    'title': 'Welcome Uunjucks',\n",
    "    'names': ['Alvin', 'Lily', 'Lucy', 'Tom']\n",
    "}, (err, html) => {\n",
    "    console.log(`* html is:\\n${html}`);\n",
    "});"
   ]
  }
 ],
 "metadata": {
  "kernelspec": {
   "display_name": "JavaScript",
   "language": "javascript",
   "name": "jslab"
  },
  "language_info": {
   "file_extension": ".js",
   "mimetype": "text/javascript",
   "name": "javascript",
   "version": ""
  }
 },
 "nbformat": 4,
 "nbformat_minor": 4
}

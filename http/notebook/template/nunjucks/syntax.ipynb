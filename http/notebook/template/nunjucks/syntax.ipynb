{
 "cells": [
  {
   "cell_type": "markdown",
   "metadata": {},
   "source": [
    "# Nunjucks syntax"
   ]
  },
  {
   "cell_type": "markdown",
   "metadata": {},
   "source": [
    "## 1. Create and config nunjucks instance\n",
    "\n",
    "- `env`: Environment of nunjucks instance"
   ]
  },
  {
   "cell_type": "code",
   "execution_count": null,
   "metadata": {},
   "outputs": [],
   "source": [
    "const nunjucks = require('nunjucks');\n",
    "\n",
    "const env = nunjucks.configure({\n",
    "    autoescape: true,\n",
    "    trimBlocks: true,\n",
    "    lstripBlocks: true\n",
    "});\n",
    "\n",
    "nunjucks.installJinjaCompat();"
   ]
  },
  {
   "cell_type": "markdown",
   "metadata": {},
   "source": [
    "## 2. Variables"
   ]
  },
  {
   "cell_type": "markdown",
   "metadata": {},
   "source": [
    "### 2.1 Variable as text"
   ]
  },
  {
   "cell_type": "code",
   "execution_count": null,
   "metadata": {},
   "outputs": [],
   "source": [
    "const nunjucks = require('nunjucks');\n",
    "\n",
    "const template = `<b>{{ name }}</b>`;\n",
    "\n",
    "const html = nunjucks.renderString(template, { name: 'Lily' });\n",
    "console.log(`* html is: ${html}`);"
   ]
  },
  {
   "cell_type": "markdown",
   "metadata": {},
   "source": [
    "### 2.2. Variables as attribute"
   ]
  },
  {
   "cell_type": "markdown",
   "metadata": {},
   "source": [
    "#### 2.2.1. Variables as attribute value"
   ]
  },
  {
   "cell_type": "code",
   "execution_count": null,
   "metadata": {},
   "outputs": [],
   "source": [
    "const nunjucks = require('nunjucks');\n",
    "\n",
    "const template = `<button class=\"{{ className }}\">{{ title }}</button>`;\n",
    "\n",
    "const html = nunjucks.renderString(template, { className: 'warning', title: 'Click me' });\n",
    "console.log(`* html is: ${html}`);"
   ]
  },
  {
   "cell_type": "markdown",
   "metadata": {},
   "source": [
    "#### 2.2.2. Variables as attribute name and value"
   ]
  },
  {
   "cell_type": "code",
   "execution_count": null,
   "metadata": {},
   "outputs": [],
   "source": [
    "const nunjucks = require('nunjucks');\n",
    "\n",
    "const template = `<button {{ attrName }}=\"{{ attrValue }}\">{{ title }}</button>`;\n",
    "    \n",
    "const html = nunjucks.renderString(template, { attrName: 'class', attrValue: 'warning', title: 'Click me' });\n",
    "console.log(`* html is: ${html}`);"
   ]
  },
  {
   "cell_type": "markdown",
   "metadata": {},
   "source": [
    "### 2.3. Set variable in template script"
   ]
  },
  {
   "cell_type": "code",
   "execution_count": null,
   "metadata": {},
   "outputs": [],
   "source": [
    "const nunjucks = require('nunjucks');\n",
    "\n",
    "const template = `\n",
    "{%- set gender = { M: 'Male', F: 'Female' } %}\n",
    "<span>Gender: {{ gender[user.gender] or 'Unknown' }}</span>`;\n",
    "\n",
    "let html = nunjucks.renderString(template, { user: { gender: 'F' } });\n",
    "console.log(`* html is: ${html}`);\n",
    "\n",
    "html = nunjucks.renderString(template, { user: { gender: 'M' } });\n",
    "console.log(`* html is: ${html}`);\n",
    "\n",
    "html = nunjucks.renderString(template, { user: { gender: 'U' } });\n",
    "console.log(`* html is: ${html}`);"
   ]
  },
  {
   "cell_type": "markdown",
   "metadata": {},
   "source": [
    "## 3. Flow control"
   ]
  },
  {
   "cell_type": "markdown",
   "metadata": {},
   "source": [
    "### 3.1. Condition"
   ]
  },
  {
   "cell_type": "code",
   "execution_count": null,
   "metadata": {},
   "outputs": [],
   "source": [
    "const nunjucks = require('nunjucks');\n",
    "\n",
    "const template = `\n",
    "{%- if user.gender == 'M' -%}\n",
    "    <span>Gender: Male</span>\n",
    "{%- elif user.gender == 'F' -%}\n",
    "    <span>Gender: Female</span>\n",
    "{%- else -%}\n",
    "    <span>Gender: Unknown</span>\n",
    "{% endif %}`;\n",
    "    \n",
    "let html = nunjucks.renderString(template, { user: { gender: 'F' } });\n",
    "console.log(`* html is: ${html}`);\n",
    "\n",
    "html = nunjucks.renderString(template, { user: { gender: 'M' } });\n",
    "console.log(`* html is: ${html}`);\n",
    "\n",
    "html = nunjucks.renderString(template, { user: { gender: 'U' } });\n",
    "console.log(`* html is: ${html}`);"
   ]
  },
  {
   "cell_type": "markdown",
   "metadata": {},
   "source": [
    "### 3.2. Loop"
   ]
  },
  {
   "cell_type": "markdown",
   "metadata": {},
   "source": [
    "#### 3.2.1. Loop in collection"
   ]
  },
  {
   "cell_type": "code",
   "execution_count": null,
   "metadata": {},
   "outputs": [],
   "source": [
    "const nunjucks = require('nunjucks');\n",
    "\n",
    "const template = `\n",
    "<ul>\n",
    "{% for job in jobs %}\n",
    "    <li>{{ job }}</li>\n",
    "{% endfor %}\n",
    "</ul>`;\n",
    "    \n",
    "const html = nunjucks.renderString(template, { jobs: ['Teacher', 'Developer', 'Manager'] });\n",
    "console.log(`* html is: ${html}`);"
   ]
  },
  {
   "cell_type": "markdown",
   "metadata": {},
   "source": [
    "#### 3.2.2. Built in loop object\n",
    "\n",
    "In for loop block, the built in `loop` object will be actived:\n",
    "\n",
    "- `loop.index`: index of loop cycles (1 based)\n",
    "- `loop.index0`: index of loop cycles (0 based)\n",
    "- `loop.revindex`: index of current cycle，backwards (1 based)\n",
    "- `loop.revindex0`: index of current cycle，backwards (0 based)\n",
    "- `loop.first`: if first loop cycle\n",
    "- `loop.last`: if last loop cycle\n",
    "- `loop.length`: totle count of loop cycles"
   ]
  },
  {
   "cell_type": "code",
   "execution_count": null,
   "metadata": {},
   "outputs": [],
   "source": [
    "const nunjucks = require('nunjucks');\n",
    "    \n",
    "const template = `\n",
    "<table>\n",
    "<tbody>\n",
    "{% set classNames = ['single', 'double'] -%}\n",
    "\n",
    "{% for color in colors %}\n",
    "    <tr class=\"{{ classNames[loop.index0 % 2] }}\">\n",
    "        <td>{{ loop.index }}. {{ color }}</td>\n",
    "    </tr>\n",
    "{% endfor %}\n",
    "</tbody>\n",
    "</table>`;\n",
    "    \n",
    "const html = nunjucks.renderString(template, { colors: ['red', 'black', 'blue', 'white', 'green'] });\n",
    "console.log(`* html is: ${html}`);"
   ]
  },
  {
   "cell_type": "markdown",
   "metadata": {},
   "source": [
    "#### 3.2.3. Loop by range"
   ]
  },
  {
   "cell_type": "code",
   "execution_count": null,
   "metadata": {},
   "outputs": [],
   "source": [
    "const nunjucks = require('nunjucks');\n",
    "\n",
    "const template = `\n",
    "<table>\n",
    "<tbody>\n",
    "{% set classNames = ['single', 'double'] -%}\n",
    "\n",
    "{% for num in range(1, max) %}\n",
    "    <tr class=\"{{ classNames[loop.index0 % 2] }}\">\n",
    "        <td>{{ num }}</td>\n",
    "    </tr>\n",
    "{% endfor %}\n",
    "</tbody>\n",
    "</table>`;\n",
    "    \n",
    "const html = nunjucks.renderString(template, { max: 10 });\n",
    "console.log(`* html is: ${html}`);"
   ]
  },
  {
   "cell_type": "markdown",
   "metadata": {},
   "source": [
    "## 4. Macro\n",
    "\n",
    "Define macro:\n",
    "```jinja2\n",
    "{%- macro macro_name(...args) %}\n",
    "... jinja template script\n",
    "{%- endmacro %}\n",
    "```\n",
    "\n",
    "Use macro:\n",
    "```jinja2\n",
    "{{ macro_name(arg1=value, arg2=value, ..., argn=value) }}\n",
    "```"
   ]
  },
  {
   "cell_type": "code",
   "execution_count": null,
   "metadata": {},
   "outputs": [],
   "source": [
    "const nunjucks = require('nunjucks');\n",
    "\n",
    "const template = `\n",
    "{%- macro select(attrs, values=[]) %}\n",
    "<select {%- for name, value in attrs %} {{ name }}=\"{{ value }}\" {%- endfor %}> \n",
    "    {% for val in values %}\n",
    "        <option value=\"{{ val.id }}\">{{ val.text }}</option>\n",
    "    {% endfor %}\n",
    "</select>\n",
    "{%- endmacro %}\n",
    "\n",
    "<div class=\"wrapper\">\n",
    "    {{ select(attrs={ 'name': 'sel-name', 'class': 'single-sel' }, values=selectValues) }}\n",
    "</div>`;\n",
    "    \n",
    "const html = nunjucks.renderString(template, {\n",
    "    selectValues: [\n",
    "        {'id': 1, 'text': 'A'},\n",
    "        {'id': 2, 'text': 'B'},\n",
    "        {'id': 3, 'text': 'C'}\n",
    "    ]\n",
    "});\n",
    "console.log(`* html is: ${html}`);"
   ]
  },
  {
   "cell_type": "markdown",
   "metadata": {},
   "source": [
    "## 5. Filters"
   ]
  },
  {
   "cell_type": "markdown",
   "metadata": {},
   "source": [
    "### 5.1. Built in filters"
   ]
  },
  {
   "cell_type": "markdown",
   "metadata": {},
   "source": [
    "#### 5.1.1. `default` filter\n",
    "\n",
    "When variable value is `None` (or `undefined`, `NaN`) , output default value"
   ]
  },
  {
   "cell_type": "code",
   "execution_count": null,
   "metadata": {},
   "outputs": [],
   "source": [
    "const nunjucks = require('nunjucks');\n",
    "\n",
    "let html = nunjucks.renderString(`<span>{{ name | d(\"Alvin\") }}</span>`, { name: 'Lily' });\n",
    "console.log(`* html is: ${html}`);\n",
    "\n",
    "html = nunjucks.renderString(`<span>{{ name | d(\"Alvin\") }}</span>`, {});\n",
    "console.log(`* html is: ${html}`);"
   ]
  },
  {
   "cell_type": "markdown",
   "metadata": {},
   "source": [
    "#### 5.1.2. `abs` filter\n",
    "\n",
    "Output the abs value of number"
   ]
  },
  {
   "cell_type": "code",
   "execution_count": null,
   "metadata": {},
   "outputs": [],
   "source": [
    "const nunjucks = require('nunjucks');\n",
    "\n",
    "const html = nunjucks.renderString(`<span>{{ number | abs }}</span>`, { number: -10 });\n",
    "console.log(`* html is: ${html}`);"
   ]
  },
  {
   "cell_type": "markdown",
   "metadata": {},
   "source": [
    "#### 5.1.3. `batch` filter\n",
    "\n",
    "Split a collection into some sub collection by **given size** and **placeholder value**"
   ]
  },
  {
   "cell_type": "code",
   "execution_count": null,
   "metadata": {},
   "outputs": [],
   "source": [
    "const nunjucks = require('nunjucks');\n",
    "\n",
    "const html = nunjucks.renderString(`<span>{{ letters | batch(2, \"None\") | join(\"|\") }}</span>`, { letters: ['a', 'b', 'c'] });\n",
    "console.log(`* html is: ${html}`);"
   ]
  },
  {
   "cell_type": "markdown",
   "metadata": {},
   "source": [
    "#### 5.1.4. `capitalize` filter\n",
    "\n",
    "Make first letter of string to capital letter"
   ]
  },
  {
   "cell_type": "code",
   "execution_count": null,
   "metadata": {},
   "outputs": [],
   "source": [
    "const nunjucks = require('nunjucks');\n",
    "   \n",
    "const html = nunjucks.renderString(`<span>{{ name | capitalize }}</span>`, { name: 'alvin' });\n",
    "console.log(`* html is: ${html}`);"
   ]
  },
  {
   "cell_type": "markdown",
   "metadata": {},
   "source": [
    "#### 5.1.5. `center` filter\n",
    "\n",
    "Add whitespace around the given string"
   ]
  },
  {
   "cell_type": "code",
   "execution_count": null,
   "metadata": {},
   "outputs": [],
   "source": [
    "const nunjucks = require('nunjucks');\n",
    "    \n",
    "const html = nunjucks.renderString(`<span>{{ name | center(20) }}</span>`, { name: 'Alvin' });\n",
    "console.log(`* html is: ${html}`);"
   ]
  },
  {
   "cell_type": "markdown",
   "metadata": {},
   "source": [
    "#### 5.1.6. `dictsort` filter\n",
    "\n",
    "Sort collection of dictionaries"
   ]
  },
  {
   "cell_type": "code",
   "execution_count": null,
   "metadata": {},
   "outputs": [],
   "source": [
    "const nunjucks = require('nunjucks');\n",
    "\n",
    "const dict = {\n",
    "    A: 3,\n",
    "    b: 1,\n",
    "    C: 2\n",
    "};\n",
    "\n",
    "// sort by key, ignore case\n",
    "let html = nunjucks.renderString(`<span>{{ dict | dictsort | join(\"|\") }}</span>`, { dict: dict });\n",
    "console.log(`* html is: ${html}`);\n",
    "\n",
    "// sort by key, care about case\n",
    "html = nunjucks.renderString(`<span>{{ dict | dictsort(true) | join(\"|\") }}</span>`, { dict: dict });\n",
    "console.log(`* html is: ${html}`);\n",
    "\n",
    "// sort by value, care about case\n",
    "html = nunjucks.renderString(`<span>{{ dict | dictsort(true, \"value\") | join(\"|\") }}</span>`, { dict: dict });\n",
    "console.log(`* html is: ${html}`);"
   ]
  },
  {
   "cell_type": "markdown",
   "metadata": {},
   "source": [
    "#### 5.1.7. `safe` filter\n",
    "\n",
    "Do not escape given string, whatever `autoescape` was configured or not"
   ]
  },
  {
   "cell_type": "code",
   "execution_count": null,
   "metadata": {},
   "outputs": [],
   "source": [
    "const nunjucks = require('nunjucks');\n",
    "\n",
    "const html = nunjucks.renderString(`<span>{{ str }}, {{ str | safe }}</span>`, { str: '>-_-<' });\n",
    "console.log(`* html is: ${html}`);"
   ]
  },
  {
   "cell_type": "markdown",
   "metadata": {},
   "source": [
    "#### 5.1.8. `e` filter\n",
    "\n",
    "Escape given string, whatever `autoescape` was configured or not"
   ]
  },
  {
   "cell_type": "code",
   "execution_count": null,
   "metadata": {},
   "outputs": [],
   "source": [
    "const nunjucks = require('nunjucks');\n",
    "\n",
    "const html = nunjucks.renderString(`<span>{{ str | e }}</span>`, { str: '>-_-<' });\n",
    "console.log(`* html is: ${html}`);"
   ]
  },
  {
   "cell_type": "markdown",
   "metadata": {},
   "source": [
    "#### 5.1.9. `first` and `last` filter\n",
    "\n",
    "Get first (or last) item in collection"
   ]
  },
  {
   "cell_type": "code",
   "execution_count": null,
   "metadata": {},
   "outputs": [],
   "source": [
    "const nunjucks = require('nunjucks');\n",
    "\n",
    "let html = nunjucks.renderString(`<span>{{ letters | first }}</span>`, { letters: ['a', 'b', 'c', 'd'] });\n",
    "console.log(`* html is: ${html}`);\n",
    "\n",
    "html = nunjucks.renderString(`<span>{{ letters | last }}</span>`, { letters: ['a', 'b', 'c', 'd'] });\n",
    "console.log(`* html is: ${html}`);"
   ]
  },
  {
   "cell_type": "markdown",
   "metadata": {},
   "source": [
    "#### 5.2.0. `groupby` filter\n",
    "\n",
    "Aggregates items into different groups, by object attribute"
   ]
  },
  {
   "cell_type": "code",
   "execution_count": null,
   "metadata": {},
   "outputs": [],
   "source": [
    "const nunjucks = require('nunjucks');\n",
    "\n",
    "const users = [\n",
    "    { name: 'Alvin', age: 34, gender: 'M' },\n",
    "    { name: 'Lily', age: 28, gender: 'F' },\n",
    "    { name: 'Tom', age: 30, gender: 'M' }\n",
    "];\n",
    "\n",
    "const template = `\n",
    "<ul id=\"group\">\n",
    "{% for group, members in users | groupby(\"gender\") %}\n",
    "    <li>\n",
    "        <b>{{ group }}</b>\n",
    "        <ul>\n",
    "        {% for user in members %}\n",
    "            <li>{{ user.name }}, {{ user.age }}</li>\n",
    "        {% endfor %}\n",
    "        </ul>\n",
    "    </li>\n",
    "{% endfor %}\n",
    "</ul>`;\n",
    "    \n",
    "const html = nunjucks.renderString(template, { users: users });\n",
    "console.log(`* html is: ${html}`);"
   ]
  },
  {
   "cell_type": "markdown",
   "metadata": {},
   "source": [
    "#### 5.2.1. `indent` filter\n",
    "\n",
    "Add indent at leading of every line"
   ]
  },
  {
   "cell_type": "code",
   "execution_count": null,
   "metadata": {},
   "outputs": [],
   "source": [
    "const nunjucks = require('nunjucks');\n",
    "\n",
    "// include first line\n",
    "let html = nunjucks.renderString(`<b>{{ text | indent(2, true) }}</b>`, { text: 'A\\nB\\nC' });\n",
    "console.log(`* html is: ${html}`);\n",
    "\n",
    "// exclude first line\n",
    "html = nunjucks.renderString(`<b>{{ text | indent(2, false) }}</b>`, { text: 'A\\nB\\nC' });\n",
    "console.log(`* html is: ${html}`);"
   ]
  },
  {
   "cell_type": "markdown",
   "metadata": {},
   "source": [
    "#### 5.2.2. `join` filter\n",
    "\n",
    "Join all items (or specified property field of object) in collection as string"
   ]
  },
  {
   "cell_type": "code",
   "execution_count": null,
   "metadata": {},
   "outputs": [],
   "source": [
    "const nunjucks = require('nunjucks');\n",
    "\n",
    "// join items in collection\n",
    "let html = nunjucks.renderString(`<b>{{ words | join(';') }}</b>`, { words: ['aa', 'bb', 'cc'] });\n",
    "console.log(`* html is: ${html}`);\n",
    "\n",
    "const users = [\n",
    "    { name: 'Alvin', age: 34, gender: 'M' },\n",
    "    { name: 'Lily', age: 28, gender: 'F' },\n",
    "    { name: 'Tom', age: 30, gender: 'M' }\n",
    "];\n",
    "\n",
    "// join specified property field\n",
    "html = nunjucks.renderString(`<b>{{ users | join(';', 'name') }}</b>`, { users: users });\n",
    "console.log(`* html is: ${html}`);"
   ]
  },
  {
   "cell_type": "markdown",
   "metadata": {},
   "source": [
    "#### 5.2.3. `length` filter\n",
    "\n",
    "Get length of string or collection"
   ]
  },
  {
   "cell_type": "code",
   "execution_count": null,
   "metadata": {},
   "outputs": [],
   "source": [
    "const nunjucks = require('nunjucks');\n",
    "\n",
    "// get length of string\n",
    "let html = nunjucks.renderString(`<b>{{ text | length }}</b>`, { text: 'Hello' });\n",
    "console.log(`* html is: ${html}`);\n",
    "\n",
    "// get size of collection\n",
    "html = nunjucks.renderString(`<b>{{ array | length }}</b>`, { array: ['a', 'b', 'c', 'd'] });\n",
    "console.log(`* html is: ${html}`);"
   ]
  },
  {
   "cell_type": "markdown",
   "metadata": {},
   "source": [
    "#### 5.2.4. `list` filter\n",
    "\n",
    "Convert collection (or string) into list"
   ]
  },
  {
   "cell_type": "code",
   "execution_count": null,
   "metadata": {},
   "outputs": [],
   "source": [
    "const nunjucks = require('nunjucks');\n",
    "\n",
    "const template = `\n",
    "<ul>\n",
    "{% for c in str | list %}\n",
    "    <li>{{ c }}</li>\n",
    "{% endfor %}\n",
    "</ul>`;\n",
    "    \n",
    "const html = nunjucks.renderString(template, { str: 'Hello' });\n",
    "console.log(`* html is: ${html}`);"
   ]
  },
  {
   "cell_type": "markdown",
   "metadata": {},
   "source": [
    "#### 5.2.5. `upper`, `lower` filter\n",
    "\n",
    "Convert given string into uppercase or lowercase letters"
   ]
  },
  {
   "cell_type": "code",
   "execution_count": null,
   "metadata": {},
   "outputs": [],
   "source": [
    "const nunjucks = require('nunjucks');\n",
    "\n",
    "let html = nunjucks.renderString(`<b>{{ text | upper }}</b>`, { text: 'Hello World' });\n",
    "console.log(`* html is: ${html}`);\n",
    "\n",
    "html = nunjucks.renderString(`<b>{{ text | lower }}</b>`, { text: 'Hello World' });\n",
    "console.log(`* html is: ${html}`);"
   ]
  },
  {
   "cell_type": "markdown",
   "metadata": {},
   "source": [
    "#### 5.2.6. `random` filter\n",
    "\n",
    "Get first item of collection by random order"
   ]
  },
  {
   "cell_type": "code",
   "execution_count": null,
   "metadata": {},
   "outputs": [],
   "source": [
    "const nunjucks = require('nunjucks');\n",
    "\n",
    "let html = nunjucks.renderString(`<b>{{ array | random }}</b>`, { array: ['a', 'b', 'c', 'd'] });\n",
    "console.log(`* html is: ${html}`);\n",
    "\n",
    "html = nunjucks.renderString(`<b>{{ array | random }}</b>`, { array: ['a', 'b', 'c', 'd'] });\n",
    "console.log(`* html is: ${html}`);"
   ]
  },
  {
   "cell_type": "markdown",
   "metadata": {},
   "source": [
    "#### 5.2.7. `replace` filter\n",
    "\n",
    "Replace substring to other"
   ]
  },
  {
   "cell_type": "code",
   "execution_count": null,
   "metadata": {},
   "outputs": [],
   "source": [
    "const nunjucks = require('nunjucks');\n",
    "\n",
    "let html = nunjucks.renderString(`<b>{{ text | replace(\"Hello\", \"Goodbye\") }}</b>`, { text: 'Hello World' });\n",
    "console.log(`* html is: ${html}`);\n",
    "\n",
    "html = nunjucks.renderString(`<b>{{ text | replace(\"a\", \"b\", 3) }}</b>`, { text: 'aaaaaaaa' });\n",
    "console.log(`* html is: ${html}`);"
   ]
  },
  {
   "cell_type": "markdown",
   "metadata": {},
   "source": [
    "#### 5.2.8. `reverse` filter\n",
    "\n",
    "Change collection to reverse order"
   ]
  },
  {
   "cell_type": "code",
   "execution_count": null,
   "metadata": {},
   "outputs": [],
   "source": [
    "const nunjucks = require('nunjucks');\n",
    "\n",
    "const html = nunjucks.renderString(`<b>{{ letters | reverse | join('-') }}</b>`, { letters: ['a', 'b', 'c', 'd'] });\n",
    "console.log(`* html is: ${html}`);"
   ]
  },
  {
   "cell_type": "markdown",
   "metadata": {},
   "source": [
    "#### 5.2.9. `round` filter\n",
    "\n",
    "Round off the given number"
   ]
  },
  {
   "cell_type": "code",
   "execution_count": null,
   "metadata": {},
   "outputs": [],
   "source": [
    "const nunjucks = require('nunjucks');\n",
    "\n",
    "// reserved integer part and round off\n",
    "let html = nunjucks.renderString(`<b>{{ value | round }}</b>`, { value: 12.34567 });\n",
    "console.log(`* html is: ${html}`);\n",
    "\n",
    "// Keep two decimal places and round off\n",
    "html = nunjucks.renderString(`<b>{{ value | round(2) }}</b>`, { value: 12.34567 });\n",
    "console.log(`* html is: ${html}`);\n",
    "\n",
    "// Keep two decimal places and floor off\n",
    "html = nunjucks.renderString(`<b>{{ value | round(2, 'floor') }}</b>`, { value: 12.34567 });\n",
    "console.log(`* html is: ${html}`);"
   ]
  },
  {
   "cell_type": "markdown",
   "metadata": {},
   "source": [
    "#### 5.3.0. `slice` filter\n",
    "\n",
    "Split a collection into a specified number of subcollections"
   ]
  },
  {
   "cell_type": "code",
   "execution_count": null,
   "metadata": {},
   "outputs": [],
   "source": [
    "const nunjucks = require('nunjucks');\n",
    "\n",
    "// split into 2 part\n",
    "let html = nunjucks.renderString(`<b>{{ letters | slice(2) | join('-') }}</b>`, { letters: ['a', 'b', 'c', 'd'] });\n",
    "console.log(`* html is: ${html}`);\n",
    "\n",
    "// split into 3 part\n",
    "html = nunjucks.renderString(`<b>{{ letters | slice(3) | join('-') }}</b>`, { letters: ['a', 'b', 'c', 'd'] });\n",
    "console.log(`* html is: ${html}`);"
   ]
  },
  {
   "cell_type": "markdown",
   "metadata": {},
   "source": [
    "#### 5.3.1. `sort` filter\n",
    "\n",
    "Sort the items of collection, by natural order or reverse order"
   ]
  },
  {
   "cell_type": "code",
   "execution_count": null,
   "metadata": {},
   "outputs": [],
   "source": [
    "const nunjucks = require('nunjucks');\n",
    "\n",
    "let html = nunjucks.renderString(`<b>{{ letters | sort | join(',') }}</b>`, { letters: ['b', 'c', 'a', 'd'] });\n",
    "console.log(`* html is: ${html}`);\n",
    "\n",
    "html = nunjucks.renderString(`<b>{{ letters | sort(true) | join(',') }}</b>`, { letters: ['b', 'c', 'a', 'd'] });\n",
    "console.log(`* html is: ${html}`);\n",
    "\n",
    "const users = [\n",
    "    { name: 'Alvin', age: 34, gender: 'M' },\n",
    "    { name: 'Lily', age: 28, gender: 'F' },\n",
    "    { name: 'Tom', age: 30, gender: 'M' }\n",
    "];\n",
    "\n",
    "html = nunjucks.renderString(`<b>{{ users | sort(attribute='age') | join(';', 'name') }}</b>`, { users: users });\n",
    "console.log(`* html is: ${html}`);"
   ]
  },
  {
   "cell_type": "markdown",
   "metadata": {},
   "source": [
    "#### 5.3.2. `string` filter\n",
    "\n",
    "Convert object to string value, use `toString` method of object"
   ]
  },
  {
   "cell_type": "code",
   "execution_count": null,
   "metadata": {},
   "outputs": [],
   "source": [
    "const nunjucks = require('nunjucks');\n",
    "\n",
    "class Value {\n",
    "    constructor(val) {\n",
    "        this.val = val\n",
    "    }\n",
    "\n",
    "    toString() {\n",
    "        return `${ parseFloat(this.val).toFixed(2) }`;\n",
    "    }\n",
    "}\n",
    "\n",
    "const html = nunjucks.renderString(`<b>{{ val | string }}</b>`, { val: new Value(100.123) });\n",
    "console.log(`* html is: ${html}`);"
   ]
  },
  {
   "cell_type": "markdown",
   "metadata": {},
   "source": [
    "#### 5.3.3. `striptags` filter\n",
    "\n",
    "Replace successive space into one"
   ]
  },
  {
   "cell_type": "code",
   "execution_count": null,
   "metadata": {},
   "outputs": [],
   "source": [
    "const nunjucks = require('nunjucks');\n",
    "\n",
    "const html = nunjucks.renderString(`<b>{{ text | striptags }}</b>`, { text: 'Hello    World' });\n",
    "console.log(`* html is: ${html}`);"
   ]
  },
  {
   "cell_type": "markdown",
   "metadata": {},
   "source": [
    "#### 5.3.4. `title` filter\n",
    "\n",
    "Replace first letter to capital letter of each word"
   ]
  },
  {
   "cell_type": "code",
   "execution_count": null,
   "metadata": {},
   "outputs": [],
   "source": [
    "const nunjucks = require('nunjucks');\n",
    "\n",
    "const html = nunjucks.renderString(`<b>{{ text | title }}</b>`, { text: 'hello world' });\n",
    "console.log(`* html is: ${html}`);"
   ]
  },
  {
   "cell_type": "markdown",
   "metadata": {},
   "source": [
    "#### 5.3.5. `trim` filter\n",
    "\n",
    "Trim the whitespace around the string"
   ]
  },
  {
   "cell_type": "code",
   "execution_count": null,
   "metadata": {},
   "outputs": [],
   "source": [
    "const nunjucks = require('nunjucks');\n",
    "\n",
    "const html = nunjucks.renderString(`<b>{{ text | trim }}</b>`, { text: '   Hello   ' });\n",
    "console.log(`* html is: ${html}`);"
   ]
  },
  {
   "cell_type": "markdown",
   "metadata": {},
   "source": [
    "#### 5.3.6. `truncate` filter\n",
    "\n",
    "Replace the part that exceeds the length range into ellipsis"
   ]
  },
  {
   "cell_type": "code",
   "execution_count": null,
   "metadata": {},
   "outputs": [],
   "source": [
    "const nunjucks = require('nunjucks');\n",
    "\n",
    "const html = nunjucks.renderString(`<b>{{ text | truncate(5) }}</b>`, { text: 'abcdefgh' });\n",
    "console.log(`* html is: ${html}`);"
   ]
  },
  {
   "cell_type": "markdown",
   "metadata": {},
   "source": [
    "#### 5.3.7. `urlencode` filter\n",
    "\n",
    "Encodes the string installation RFC 3986 standard"
   ]
  },
  {
   "cell_type": "code",
   "execution_count": null,
   "metadata": {},
   "outputs": [],
   "source": [
    "const nunjucks = require('nunjucks');\n",
    "\n",
    "const html = nunjucks.renderString(`<b>{{ text | urlencode }}</b>`, { text: 'A > B' });\n",
    "console.log(`* html is: ${html}`);"
   ]
  },
  {
   "cell_type": "markdown",
   "metadata": {},
   "source": [
    "#### 5.3.8. `wordcount` filter\n",
    "\n",
    "Get the count of letter of string"
   ]
  },
  {
   "cell_type": "code",
   "execution_count": null,
   "metadata": {},
   "outputs": [],
   "source": [
    "const nunjucks = require('nunjucks');\n",
    "\n",
    "const html = nunjucks.renderString(`<b>{{ text | wordcount }}</b>`, { text: 'Hello  World' });\n",
    "console.log(`* html is: ${html}`);"
   ]
  },
  {
   "cell_type": "markdown",
   "metadata": {},
   "source": [
    "#### 5.3.9. `int`, `float` filter\n",
    "\n",
    "Convert string to integer and float value"
   ]
  },
  {
   "cell_type": "code",
   "execution_count": null,
   "metadata": {},
   "outputs": [],
   "source": [
    "const nunjucks = require('nunjucks');\n",
    "\n",
    "let html = nunjucks.renderString(`<b>{{ (text | int) + 100 }}</b>`, { text: '100.2' });\n",
    "console.log(`* html is: ${html}`);\n",
    "\n",
    "html = nunjucks.renderString(`<b>{{ (text | float) + 100 }}</b>`, { text: '100.2' });\n",
    "console.log(`* html is: ${html}`);"
   ]
  },
  {
   "cell_type": "markdown",
   "metadata": {},
   "source": [
    "### 5.2. User define filter\n",
    "\n",
    "Add filter into `env.filters` collections"
   ]
  },
  {
   "cell_type": "code",
   "execution_count": null,
   "metadata": {},
   "outputs": [],
   "source": [
    "const nunjucks = require('nunjucks');\n",
    "\n",
    "env.filters.attr = (obj, attr) => {\n",
    "    if (typeof obj === 'object') {\n",
    "        return obj[attr];\n",
    "    }\n",
    "};\n",
    "\n",
    "env.filters.map = (obj, func) => {\n",
    "    if (typeof func === 'string') {\n",
    "        func = eval(func);\n",
    "        return func(obj);\n",
    "    }\n",
    "};\n",
    "\n",
    "const user = {\n",
    "    name: 'Alvin',\n",
    "    age: 34,\n",
    "    gender: 'M'\n",
    "};\n",
    "\n",
    "let html = nunjucks.renderString('<span>{{ user | attr(\"name\") }}</span>', { user: user });\n",
    "console.log(`* html is: ${html}`);\n",
    "\n",
    "html = nunjucks.renderString('<span>{{ user | map(\"user => \\\\\"Hello \\\\\" + user.name\") }}</span>', { user: user });\n",
    "console.log(`* html is: ${html}`);"
   ]
  }
 ],
 "metadata": {
  "kernelspec": {
   "display_name": "JavaScript",
   "language": "javascript",
   "name": "jslab"
  },
  "language_info": {
   "file_extension": ".js",
   "mimetype": "text/javascript",
   "name": "javascript",
   "version": ""
  }
 },
 "nbformat": 4,
 "nbformat_minor": 4
}
